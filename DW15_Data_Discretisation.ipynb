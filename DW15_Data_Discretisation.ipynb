{
 "cells": [
  {
   "cell_type": "markdown",
   "id": "bdd9040e",
   "metadata": {
    "toc": true
   },
   "source": [
    "<h1>Table of Contents<span class=\"tocSkip\"></span></h1>\n",
    "<div class=\"toc\"><ul class=\"toc-item\"><li><span><a href=\"#Using-the-digitize()-method:\" data-toc-modified-id=\"Using-the-digitize()-method:-1\"><span class=\"toc-item-num\">1&nbsp;&nbsp;</span>Using the digitize() method:</a></span></li><li><span><a href=\"#Histograms\" data-toc-modified-id=\"Histograms-2\"><span class=\"toc-item-num\">2&nbsp;&nbsp;</span>Histograms</a></span></li><li><span><a href=\"#Using-scipy:\" data-toc-modified-id=\"Using-scipy:-3\"><span class=\"toc-item-num\">3&nbsp;&nbsp;</span>Using scipy:</a></span><ul class=\"toc-item\"><li><span><a href=\"#What-is-binned_statistic-doing?\" data-toc-modified-id=\"What-is-binned_statistic-doing?-3.1\"><span class=\"toc-item-num\">3.1&nbsp;&nbsp;</span>What is binned_statistic doing?</a></span></li></ul></li><li><span><a href=\"#Using-Pandas-Cut\" data-toc-modified-id=\"Using-Pandas-Cut-4\"><span class=\"toc-item-num\">4&nbsp;&nbsp;</span>Using Pandas Cut</a></span></li></ul></div>"
   ]
  },
  {
   "cell_type": "markdown",
   "id": "a8338039",
   "metadata": {},
   "source": [
    "# Data Discretization with Binning\n",
    " \n",
    "Binning aims to discretise continuous values into discrete bins. We explain in the following different ways for implementing  binning with Python.  \n",
    "\n",
    "## Using the digitize() method:"
   ]
  },
  {
   "cell_type": "code",
   "execution_count": 1,
   "id": "1a2e4b7f",
   "metadata": {
    "ExecuteTime": {
     "end_time": "2022-05-30T06:02:56.469246Z",
     "start_time": "2022-05-30T06:02:55.348795Z"
    }
   },
   "outputs": [],
   "source": [
    "import numpy as np\n",
    "np.random.seed(1234) # make it reproducible\n",
    "\n",
    "n = 100 # how much data\n",
    "data = np.random.random(n) # n random numbers on 0..1\n",
    "\n",
    "bins = np.linspace(0, 1, 11) # equally spaced bins, from 0 to 1.0 \n",
    "# 11 bin 'edges' or boundaries, gives us 10 bins\n",
    "\n",
    "digitized = np.digitize(data, bins) # put the n in the b\n"
   ]
  },
  {
   "cell_type": "code",
   "execution_count": 2,
   "id": "d98372c1",
   "metadata": {
    "ExecuteTime": {
     "end_time": "2022-05-30T06:02:56.489053Z",
     "start_time": "2022-05-30T06:02:56.471591Z"
    }
   },
   "outputs": [
    {
     "data": {
      "text/plain": [
       "(11, array([0. , 0.1, 0.2, 0.3, 0.4, 0.5, 0.6, 0.7, 0.8, 0.9, 1. ]))"
      ]
     },
     "execution_count": 2,
     "metadata": {},
     "output_type": "execute_result"
    }
   ],
   "source": [
    "len(bins), bins # there are 11 bin boundaries or 'edges', i.e. 10 bins \n",
    "# 0 to 0.1... 0.9, 1.0 i.e. 10 bins, it's tidier"
   ]
  },
  {
   "cell_type": "code",
   "execution_count": 3,
   "id": "16a21b75",
   "metadata": {
    "ExecuteTime": {
     "end_time": "2022-05-30T06:02:56.509010Z",
     "start_time": "2022-05-30T06:02:56.497876Z"
    }
   },
   "outputs": [
    {
     "data": {
      "text/plain": [
       "array([0.19151945, 0.62210877, 0.43772774, 0.78535858, 0.77997581,\n",
       "       0.27259261, 0.27646426, 0.80187218, 0.95813935, 0.87593263,\n",
       "       0.35781727, 0.50099513, 0.68346294, 0.71270203, 0.37025075,\n",
       "       0.56119619, 0.50308317, 0.01376845, 0.77282662, 0.88264119,\n",
       "       0.36488598, 0.61539618, 0.07538124, 0.36882401, 0.9331401 ,\n",
       "       0.65137814, 0.39720258, 0.78873014, 0.31683612, 0.56809865,\n",
       "       0.86912739, 0.43617342, 0.80214764, 0.14376682, 0.70426097,\n",
       "       0.70458131, 0.21879211, 0.92486763, 0.44214076, 0.90931596,\n",
       "       0.05980922, 0.18428708, 0.04735528, 0.67488094, 0.59462478,\n",
       "       0.53331016, 0.04332406, 0.56143308, 0.32966845, 0.50296683,\n",
       "       0.11189432, 0.60719371, 0.56594464, 0.00676406, 0.61744171,\n",
       "       0.91212289, 0.79052413, 0.99208147, 0.95880176, 0.79196414,\n",
       "       0.28525096, 0.62491671, 0.4780938 , 0.19567518, 0.38231745,\n",
       "       0.05387369, 0.45164841, 0.98200474, 0.1239427 , 0.1193809 ,\n",
       "       0.73852306, 0.58730363, 0.47163253, 0.10712682, 0.22921857,\n",
       "       0.89996519, 0.41675354, 0.53585166, 0.00620852, 0.30064171,\n",
       "       0.43689317, 0.612149  , 0.91819808, 0.62573667, 0.70599757,\n",
       "       0.14983372, 0.74606341, 0.83100699, 0.63372577, 0.43830988,\n",
       "       0.15257277, 0.56840962, 0.52822428, 0.95142876, 0.48035918,\n",
       "       0.50255956, 0.53687819, 0.81920207, 0.05711564, 0.66942174])"
      ]
     },
     "execution_count": 3,
     "metadata": {},
     "output_type": "execute_result"
    }
   ],
   "source": [
    "data"
   ]
  },
  {
   "cell_type": "code",
   "execution_count": 4,
   "id": "51c86e2e",
   "metadata": {
    "ExecuteTime": {
     "end_time": "2022-05-30T06:02:56.529611Z",
     "start_time": "2022-05-30T06:02:56.513534Z"
    }
   },
   "outputs": [
    {
     "data": {
      "text/plain": [
       "(0.006208516587129398,\n",
       " 0.9920814661883615,\n",
       " 0.5183629078788025,\n",
       " 0.27671876680061797)"
      ]
     },
     "execution_count": 4,
     "metadata": {},
     "output_type": "execute_result"
    }
   ],
   "source": [
    "data.min(), data.max(), data.mean(), data.std()"
   ]
  },
  {
   "cell_type": "code",
   "execution_count": 5,
   "id": "db6bc557",
   "metadata": {
    "ExecuteTime": {
     "end_time": "2022-05-30T06:02:56.547379Z",
     "start_time": "2022-05-30T06:02:56.537378Z"
    }
   },
   "outputs": [
    {
     "data": {
      "text/plain": [
       "array([ 2,  7,  5,  8,  8,  3,  3,  9, 10,  9,  4,  6,  7,  8,  4,  6,  6,\n",
       "        1,  8,  9,  4,  7,  1,  4, 10,  7,  4,  8,  4,  6,  9,  5,  9,  2,\n",
       "        8,  8,  3, 10,  5, 10,  1,  2,  1,  7,  6,  6,  1,  6,  4,  6,  2,\n",
       "        7,  6,  1,  7, 10,  8, 10, 10,  8,  3,  7,  5,  2,  4,  1,  5, 10,\n",
       "        2,  2,  8,  6,  5,  2,  3,  9,  5,  6,  1,  4,  5,  7, 10,  7,  8,\n",
       "        2,  8,  9,  7,  5,  2,  6,  6, 10,  5,  6,  6,  9,  1,  7])"
      ]
     },
     "execution_count": 5,
     "metadata": {},
     "output_type": "execute_result"
    }
   ],
   "source": [
    "digitized # so the 100 values are now group into 10 bins"
   ]
  },
  {
   "cell_type": "code",
   "execution_count": 6,
   "id": "c88ce869",
   "metadata": {
    "ExecuteTime": {
     "end_time": "2022-05-30T06:02:56.872977Z",
     "start_time": "2022-05-30T06:02:56.552773Z"
    }
   },
   "outputs": [],
   "source": [
    "# not so easy to look at so put them side by side in a DataFrame\n",
    "import pandas as pd\n",
    "df = pd.DataFrame({\"Data\" : data, \"DigBin\" : digitized})"
   ]
  },
  {
   "cell_type": "code",
   "execution_count": 7,
   "id": "551ede1e",
   "metadata": {
    "ExecuteTime": {
     "end_time": "2022-05-30T06:02:56.888141Z",
     "start_time": "2022-05-30T06:02:56.875263Z"
    }
   },
   "outputs": [
    {
     "data": {
      "text/plain": [
       "1      9\n",
       "2     10\n",
       "3      5\n",
       "4      9\n",
       "5     10\n",
       "6     15\n",
       "7     12\n",
       "8     12\n",
       "9      8\n",
       "10    10\n",
       "Name: DigBin, dtype: int64"
      ]
     },
     "execution_count": 7,
     "metadata": {},
     "output_type": "execute_result"
    }
   ],
   "source": [
    "df.DigBin.value_counts().sort_index() \n",
    "# and there are the 10 bins,change the seed above from '1234' to something else to see "
   ]
  },
  {
   "cell_type": "code",
   "execution_count": 8,
   "id": "e6056cf5",
   "metadata": {
    "ExecuteTime": {
     "end_time": "2022-05-30T06:02:56.906991Z",
     "start_time": "2022-05-30T06:02:56.890567Z"
    }
   },
   "outputs": [
    {
     "data": {
      "text/html": [
       "<div>\n",
       "<style scoped>\n",
       "    .dataframe tbody tr th:only-of-type {\n",
       "        vertical-align: middle;\n",
       "    }\n",
       "\n",
       "    .dataframe tbody tr th {\n",
       "        vertical-align: top;\n",
       "    }\n",
       "\n",
       "    .dataframe thead th {\n",
       "        text-align: right;\n",
       "    }\n",
       "</style>\n",
       "<table border=\"1\" class=\"dataframe\">\n",
       "  <thead>\n",
       "    <tr style=\"text-align: right;\">\n",
       "      <th></th>\n",
       "      <th>Data</th>\n",
       "      <th>DigBin</th>\n",
       "    </tr>\n",
       "  </thead>\n",
       "  <tbody>\n",
       "    <tr>\n",
       "      <th>0</th>\n",
       "      <td>0.191519</td>\n",
       "      <td>2</td>\n",
       "    </tr>\n",
       "    <tr>\n",
       "      <th>1</th>\n",
       "      <td>0.622109</td>\n",
       "      <td>7</td>\n",
       "    </tr>\n",
       "    <tr>\n",
       "      <th>2</th>\n",
       "      <td>0.437728</td>\n",
       "      <td>5</td>\n",
       "    </tr>\n",
       "    <tr>\n",
       "      <th>3</th>\n",
       "      <td>0.785359</td>\n",
       "      <td>8</td>\n",
       "    </tr>\n",
       "    <tr>\n",
       "      <th>4</th>\n",
       "      <td>0.779976</td>\n",
       "      <td>8</td>\n",
       "    </tr>\n",
       "  </tbody>\n",
       "</table>\n",
       "</div>"
      ],
      "text/plain": [
       "       Data  DigBin\n",
       "0  0.191519       2\n",
       "1  0.622109       7\n",
       "2  0.437728       5\n",
       "3  0.785359       8\n",
       "4  0.779976       8"
      ]
     },
     "execution_count": 8,
     "metadata": {},
     "output_type": "execute_result"
    }
   ],
   "source": [
    "df.head()"
   ]
  },
  {
   "cell_type": "code",
   "execution_count": 9,
   "id": "e47c3b89",
   "metadata": {
    "ExecuteTime": {
     "end_time": "2022-05-30T06:02:56.943165Z",
     "start_time": "2022-05-30T06:02:56.914577Z"
    }
   },
   "outputs": [
    {
     "data": {
      "text/html": [
       "<div>\n",
       "<style scoped>\n",
       "    .dataframe tbody tr th:only-of-type {\n",
       "        vertical-align: middle;\n",
       "    }\n",
       "\n",
       "    .dataframe tbody tr th {\n",
       "        vertical-align: top;\n",
       "    }\n",
       "\n",
       "    .dataframe thead th {\n",
       "        text-align: right;\n",
       "    }\n",
       "</style>\n",
       "<table border=\"1\" class=\"dataframe\">\n",
       "  <thead>\n",
       "    <tr style=\"text-align: right;\">\n",
       "      <th></th>\n",
       "      <th>Data</th>\n",
       "      <th>DigBin</th>\n",
       "    </tr>\n",
       "  </thead>\n",
       "  <tbody>\n",
       "    <tr>\n",
       "      <th>78</th>\n",
       "      <td>0.006209</td>\n",
       "      <td>1</td>\n",
       "    </tr>\n",
       "    <tr>\n",
       "      <th>53</th>\n",
       "      <td>0.006764</td>\n",
       "      <td>1</td>\n",
       "    </tr>\n",
       "    <tr>\n",
       "      <th>17</th>\n",
       "      <td>0.013768</td>\n",
       "      <td>1</td>\n",
       "    </tr>\n",
       "    <tr>\n",
       "      <th>46</th>\n",
       "      <td>0.043324</td>\n",
       "      <td>1</td>\n",
       "    </tr>\n",
       "    <tr>\n",
       "      <th>42</th>\n",
       "      <td>0.047355</td>\n",
       "      <td>1</td>\n",
       "    </tr>\n",
       "    <tr>\n",
       "      <th>...</th>\n",
       "      <td>...</td>\n",
       "      <td>...</td>\n",
       "    </tr>\n",
       "    <tr>\n",
       "      <th>93</th>\n",
       "      <td>0.951429</td>\n",
       "      <td>10</td>\n",
       "    </tr>\n",
       "    <tr>\n",
       "      <th>8</th>\n",
       "      <td>0.958139</td>\n",
       "      <td>10</td>\n",
       "    </tr>\n",
       "    <tr>\n",
       "      <th>58</th>\n",
       "      <td>0.958802</td>\n",
       "      <td>10</td>\n",
       "    </tr>\n",
       "    <tr>\n",
       "      <th>67</th>\n",
       "      <td>0.982005</td>\n",
       "      <td>10</td>\n",
       "    </tr>\n",
       "    <tr>\n",
       "      <th>57</th>\n",
       "      <td>0.992081</td>\n",
       "      <td>10</td>\n",
       "    </tr>\n",
       "  </tbody>\n",
       "</table>\n",
       "<p>100 rows × 2 columns</p>\n",
       "</div>"
      ],
      "text/plain": [
       "        Data  DigBin\n",
       "78  0.006209       1\n",
       "53  0.006764       1\n",
       "17  0.013768       1\n",
       "46  0.043324       1\n",
       "42  0.047355       1\n",
       "..       ...     ...\n",
       "93  0.951429      10\n",
       "8   0.958139      10\n",
       "58  0.958802      10\n",
       "67  0.982005      10\n",
       "57  0.992081      10\n",
       "\n",
       "[100 rows x 2 columns]"
      ]
     },
     "execution_count": 9,
     "metadata": {},
     "output_type": "execute_result"
    }
   ],
   "source": [
    "df.sort_values(\"Data\")\n",
    "# df.sort_values(\"DigBin\").head()"
   ]
  },
  {
   "cell_type": "code",
   "execution_count": 10,
   "id": "1c3598b8",
   "metadata": {
    "ExecuteTime": {
     "end_time": "2022-05-30T06:02:56.993947Z",
     "start_time": "2022-05-30T06:02:56.945850Z"
    }
   },
   "outputs": [
    {
     "data": {
      "text/html": [
       "<div>\n",
       "<style scoped>\n",
       "    .dataframe tbody tr th:only-of-type {\n",
       "        vertical-align: middle;\n",
       "    }\n",
       "\n",
       "    .dataframe tbody tr th {\n",
       "        vertical-align: top;\n",
       "    }\n",
       "\n",
       "    .dataframe thead th {\n",
       "        text-align: right;\n",
       "    }\n",
       "</style>\n",
       "<table border=\"1\" class=\"dataframe\">\n",
       "  <thead>\n",
       "    <tr style=\"text-align: right;\">\n",
       "      <th></th>\n",
       "      <th>Data</th>\n",
       "      <th>DigBin</th>\n",
       "    </tr>\n",
       "  </thead>\n",
       "  <tbody>\n",
       "    <tr>\n",
       "      <th>39</th>\n",
       "      <td>0.909316</td>\n",
       "      <td>10</td>\n",
       "    </tr>\n",
       "    <tr>\n",
       "      <th>37</th>\n",
       "      <td>0.924868</td>\n",
       "      <td>10</td>\n",
       "    </tr>\n",
       "    <tr>\n",
       "      <th>24</th>\n",
       "      <td>0.933140</td>\n",
       "      <td>10</td>\n",
       "    </tr>\n",
       "    <tr>\n",
       "      <th>8</th>\n",
       "      <td>0.958139</td>\n",
       "      <td>10</td>\n",
       "    </tr>\n",
       "    <tr>\n",
       "      <th>58</th>\n",
       "      <td>0.958802</td>\n",
       "      <td>10</td>\n",
       "    </tr>\n",
       "  </tbody>\n",
       "</table>\n",
       "</div>"
      ],
      "text/plain": [
       "        Data  DigBin\n",
       "39  0.909316      10\n",
       "37  0.924868      10\n",
       "24  0.933140      10\n",
       "8   0.958139      10\n",
       "58  0.958802      10"
      ]
     },
     "execution_count": 10,
     "metadata": {},
     "output_type": "execute_result"
    }
   ],
   "source": [
    "# so all the little numbers ended up in bin 1, all the big ones in bin 10:\n",
    "df.sort_values(\"DigBin\").tail()"
   ]
  },
  {
   "cell_type": "code",
   "execution_count": 11,
   "id": "7f12f8ef",
   "metadata": {
    "ExecuteTime": {
     "end_time": "2022-05-30T06:02:57.654184Z",
     "start_time": "2022-05-30T06:02:56.999343Z"
    }
   },
   "outputs": [
    {
     "data": {
      "text/plain": [
       "array([[<AxesSubplot:title={'center':'Data'}>,\n",
       "        <AxesSubplot:title={'center':'DigBin'}>]], dtype=object)"
      ]
     },
     "execution_count": 11,
     "metadata": {},
     "output_type": "execute_result"
    },
    {
     "data": {
      "image/png": "[encoded data removed]",
      "text/plain": [
       "<Figure size 432x288 with 2 Axes>"
      ]
     },
     "metadata": {
      "needs_background": "light"
     },
     "output_type": "display_data"
    }
   ],
   "source": [
    "%matplotlib inline\n",
    "df.hist() # now we can see before and after (left to right), should have the same shape\n",
    "# note the x scale 0..12 vs 0..1.0"
   ]
  },
  {
   "cell_type": "markdown",
   "id": "abc98a41",
   "metadata": {},
   "source": [
    "## Histograms\n",
    "\n",
    "You can also use histogram to do binning for you:"
   ]
  },
  {
   "cell_type": "code",
   "execution_count": 12,
   "id": "189cb60f",
   "metadata": {
    "ExecuteTime": {
     "end_time": "2022-05-30T06:02:57.668005Z",
     "start_time": "2022-05-30T06:02:57.657310Z"
    }
   },
   "outputs": [
    {
     "data": {
      "text/plain": [
       "(10,\n",
       " array([0.04040002, 0.14799998, 0.2564637 , 0.35427159, 0.44897324,\n",
       "        0.54339197, 0.63648436, 0.75179231, 0.84773691, 0.94401007]))"
      ]
     },
     "execution_count": 12,
     "metadata": {},
     "output_type": "execute_result"
    }
   ],
   "source": [
    "binH = (np.histogram(data, bins, weights = data)[0] / np.histogram(data, bins)[0])\n",
    "\n",
    "len(binH), binH # where binH is he mean of the values in each bin"
   ]
  },
  {
   "cell_type": "markdown",
   "id": "3fa0c8ad",
   "metadata": {},
   "source": [
    "## Using scipy:"
   ]
  },
  {
   "cell_type": "code",
   "execution_count": 13,
   "id": "5bd702de",
   "metadata": {
    "ExecuteTime": {
     "end_time": "2022-05-30T06:02:58.043553Z",
     "start_time": "2022-05-30T06:02:57.686194Z"
    }
   },
   "outputs": [],
   "source": [
    "# import numpy as np\n",
    "from scipy.stats import binned_statistic\n",
    "# we use the same data\n",
    "binS = binned_statistic(data, data, bins = 10, range = (0, 1))[0]"
   ]
  },
  {
   "cell_type": "markdown",
   "id": "5bf46917",
   "metadata": {},
   "source": [
    "### What is binned_statistic doing?\n",
    "\n",
    "bin_count, bin_edges, bin_number"
   ]
  },
  {
   "cell_type": "code",
   "execution_count": 14,
   "id": "47ec6716",
   "metadata": {
    "ExecuteTime": {
     "end_time": "2022-05-30T06:02:58.054562Z",
     "start_time": "2022-05-30T06:02:58.045567Z"
    }
   },
   "outputs": [],
   "source": [
    "bc, be, bn = binned_statistic(data, data, statistic = 'count', bins = 10)"
   ]
  },
  {
   "cell_type": "code",
   "execution_count": 15,
   "id": "717ac7f3",
   "metadata": {
    "ExecuteTime": {
     "end_time": "2022-05-30T06:02:58.064178Z",
     "start_time": "2022-05-30T06:02:58.057018Z"
    }
   },
   "outputs": [
    {
     "data": {
      "text/plain": [
       "array([ 9., 10.,  6.,  8., 10., 15., 12., 12.,  7., 11.])"
      ]
     },
     "execution_count": 15,
     "metadata": {},
     "output_type": "execute_result"
    }
   ],
   "source": [
    "bc #, bc.sum() # =100"
   ]
  },
  {
   "cell_type": "code",
   "execution_count": 16,
   "id": "c6f700af",
   "metadata": {
    "ExecuteTime": {
     "end_time": "2022-05-30T06:02:58.084137Z",
     "start_time": "2022-05-30T06:02:58.067965Z"
    }
   },
   "outputs": [
    {
     "data": {
      "text/plain": [
       "array([0.00620852, 0.10479581, 0.20338311, 0.3019704 , 0.4005577 ,\n",
       "       0.49914499, 0.59773229, 0.69631958, 0.79490688, 0.89349417,\n",
       "       0.99208147])"
      ]
     },
     "execution_count": 16,
     "metadata": {},
     "output_type": "execute_result"
    }
   ],
   "source": [
    "be # the edges, not so tidy..."
   ]
  },
  {
   "cell_type": "code",
   "execution_count": 17,
   "id": "df0f95f3",
   "metadata": {
    "ExecuteTime": {
     "end_time": "2022-05-30T06:02:58.095902Z",
     "start_time": "2022-05-30T06:02:58.087053Z"
    }
   },
   "outputs": [
    {
     "data": {
      "text/plain": [
       "array([ 2,  7,  5,  8,  8,  3,  3,  9, 10,  9,  4,  6,  7,  8,  4,  6,  6,\n",
       "        1,  8,  9,  4,  7,  1,  4, 10,  7,  4,  8,  4,  6,  9,  5,  9,  2,\n",
       "        8,  8,  3, 10,  5, 10,  1,  2,  1,  7,  6,  6,  1,  6,  4,  6,  2,\n",
       "        7,  6,  1,  7, 10,  8, 10, 10,  8,  3,  7,  5,  2,  4,  1,  5, 10,\n",
       "        2,  2,  8,  6,  5,  2,  3, 10,  5,  6,  1,  3,  5,  7, 10,  7,  8,\n",
       "        2,  8,  9,  7,  5,  2,  6,  6, 10,  5,  6,  6,  9,  1,  7])"
      ]
     },
     "execution_count": 17,
     "metadata": {},
     "output_type": "execute_result"
    }
   ],
   "source": [
    "bn # the bins"
   ]
  },
  {
   "cell_type": "code",
   "execution_count": 18,
   "id": "1711ead2",
   "metadata": {
    "ExecuteTime": {
     "end_time": "2022-05-30T06:02:58.205732Z",
     "start_time": "2022-05-30T06:02:58.193337Z"
    }
   },
   "outputs": [],
   "source": [
    "df[\"SciBin\"] = bn # put side by side with the previous df"
   ]
  },
  {
   "cell_type": "code",
   "execution_count": 19,
   "id": "1256c31a",
   "metadata": {
    "ExecuteTime": {
     "end_time": "2022-05-30T06:02:58.234367Z",
     "start_time": "2022-05-30T06:02:58.213381Z"
    }
   },
   "outputs": [
    {
     "data": {
      "text/html": [
       "<div>\n",
       "<style scoped>\n",
       "    .dataframe tbody tr th:only-of-type {\n",
       "        vertical-align: middle;\n",
       "    }\n",
       "\n",
       "    .dataframe tbody tr th {\n",
       "        vertical-align: top;\n",
       "    }\n",
       "\n",
       "    .dataframe thead th {\n",
       "        text-align: right;\n",
       "    }\n",
       "</style>\n",
       "<table border=\"1\" class=\"dataframe\">\n",
       "  <thead>\n",
       "    <tr style=\"text-align: right;\">\n",
       "      <th></th>\n",
       "      <th>Data</th>\n",
       "      <th>DigBin</th>\n",
       "      <th>SciBin</th>\n",
       "    </tr>\n",
       "  </thead>\n",
       "  <tbody>\n",
       "    <tr>\n",
       "      <th>78</th>\n",
       "      <td>0.006209</td>\n",
       "      <td>1</td>\n",
       "      <td>1</td>\n",
       "    </tr>\n",
       "    <tr>\n",
       "      <th>53</th>\n",
       "      <td>0.006764</td>\n",
       "      <td>1</td>\n",
       "      <td>1</td>\n",
       "    </tr>\n",
       "    <tr>\n",
       "      <th>17</th>\n",
       "      <td>0.013768</td>\n",
       "      <td>1</td>\n",
       "      <td>1</td>\n",
       "    </tr>\n",
       "    <tr>\n",
       "      <th>46</th>\n",
       "      <td>0.043324</td>\n",
       "      <td>1</td>\n",
       "      <td>1</td>\n",
       "    </tr>\n",
       "    <tr>\n",
       "      <th>42</th>\n",
       "      <td>0.047355</td>\n",
       "      <td>1</td>\n",
       "      <td>1</td>\n",
       "    </tr>\n",
       "    <tr>\n",
       "      <th>...</th>\n",
       "      <td>...</td>\n",
       "      <td>...</td>\n",
       "      <td>...</td>\n",
       "    </tr>\n",
       "    <tr>\n",
       "      <th>93</th>\n",
       "      <td>0.951429</td>\n",
       "      <td>10</td>\n",
       "      <td>10</td>\n",
       "    </tr>\n",
       "    <tr>\n",
       "      <th>8</th>\n",
       "      <td>0.958139</td>\n",
       "      <td>10</td>\n",
       "      <td>10</td>\n",
       "    </tr>\n",
       "    <tr>\n",
       "      <th>58</th>\n",
       "      <td>0.958802</td>\n",
       "      <td>10</td>\n",
       "      <td>10</td>\n",
       "    </tr>\n",
       "    <tr>\n",
       "      <th>67</th>\n",
       "      <td>0.982005</td>\n",
       "      <td>10</td>\n",
       "      <td>10</td>\n",
       "    </tr>\n",
       "    <tr>\n",
       "      <th>57</th>\n",
       "      <td>0.992081</td>\n",
       "      <td>10</td>\n",
       "      <td>10</td>\n",
       "    </tr>\n",
       "  </tbody>\n",
       "</table>\n",
       "<p>100 rows × 3 columns</p>\n",
       "</div>"
      ],
      "text/plain": [
       "        Data  DigBin  SciBin\n",
       "78  0.006209       1       1\n",
       "53  0.006764       1       1\n",
       "17  0.013768       1       1\n",
       "46  0.043324       1       1\n",
       "42  0.047355       1       1\n",
       "..       ...     ...     ...\n",
       "93  0.951429      10      10\n",
       "8   0.958139      10      10\n",
       "58  0.958802      10      10\n",
       "67  0.982005      10      10\n",
       "57  0.992081      10      10\n",
       "\n",
       "[100 rows x 3 columns]"
      ]
     },
     "execution_count": 19,
     "metadata": {},
     "output_type": "execute_result"
    }
   ],
   "source": [
    "df.sort_values(\"Data\")"
   ]
  },
  {
   "cell_type": "code",
   "execution_count": 20,
   "id": "cfadce20",
   "metadata": {
    "ExecuteTime": {
     "end_time": "2022-05-30T06:02:58.681697Z",
     "start_time": "2022-05-30T06:02:58.237874Z"
    }
   },
   "outputs": [
    {
     "data": {
      "text/plain": [
       "array([[<AxesSubplot:title={'center':'Data'}>,\n",
       "        <AxesSubplot:title={'center':'DigBin'}>],\n",
       "       [<AxesSubplot:title={'center':'SciBin'}>, <AxesSubplot:>]],\n",
       "      dtype=object)"
      ]
     },
     "execution_count": 20,
     "metadata": {},
     "output_type": "execute_result"
    },
    {
     "data": {
      "image/png": "[encoded data removed]",
      "text/plain": [
       "<Figure size 432x288 with 4 Axes>"
      ]
     },
     "metadata": {
      "needs_background": "light"
     },
     "output_type": "display_data"
    }
   ],
   "source": [
    "df.hist() # before and after again"
   ]
  },
  {
   "cell_type": "code",
   "execution_count": 21,
   "id": "98200eb9",
   "metadata": {
    "ExecuteTime": {
     "end_time": "2022-05-30T06:02:58.880544Z",
     "start_time": "2022-05-30T06:02:58.684864Z"
    }
   },
   "outputs": [
    {
     "data": {
      "text/plain": [
       "(<AxesSubplot:>, <AxesSubplot:>)"
      ]
     },
     "execution_count": 21,
     "metadata": {},
     "output_type": "execute_result"
    },
    {
     "data": {
      "image/png": "[encoded data removed]",
      "text/plain": [
       "<Figure size 432x288 with 1 Axes>"
      ]
     },
     "metadata": {
      "needs_background": "light"
     },
     "output_type": "display_data"
    }
   ],
   "source": [
    "df.DigBin.hist(), df.SciBin.hist() # couple of blue peekers"
   ]
  },
  {
   "cell_type": "code",
   "execution_count": 22,
   "id": "2f16cfa4",
   "metadata": {
    "ExecuteTime": {
     "end_time": "2022-05-30T06:02:59.076085Z",
     "start_time": "2022-05-30T06:02:58.882744Z"
    }
   },
   "outputs": [
    {
     "data": {
      "text/plain": [
       "(<AxesSubplot:>, <AxesSubplot:>)"
      ]
     },
     "execution_count": 22,
     "metadata": {},
     "output_type": "execute_result"
    },
    {
     "data": {
      "image/png": "[encoded data removed]",
      "text/plain": [
       "<Figure size 432x288 with 1 Axes>"
      ]
     },
     "metadata": {
      "needs_background": "light"
     },
     "output_type": "display_data"
    }
   ],
   "source": [
    "# do it the other way\n",
    "df.SciBin.hist() ,df.DigBin.hist()"
   ]
  },
  {
   "cell_type": "markdown",
   "id": "2815f86c",
   "metadata": {},
   "source": [
    "## Using Pandas Cut"
   ]
  },
  {
   "cell_type": "code",
   "execution_count": 23,
   "id": "193c4eee",
   "metadata": {
    "ExecuteTime": {
     "end_time": "2022-05-30T06:02:59.105950Z",
     "start_time": "2022-05-30T06:02:59.079536Z"
    }
   },
   "outputs": [
    {
     "data": {
      "text/plain": [
       "[(18, 25], (18, 25], (18, 25], (25, 35], (18, 25], ..., (25, 35], (60, 100], (35, 60], (35, 60], (25, 35]]\n",
       "Length: 12\n",
       "Categories (4, interval[int64, right]): [(18, 25] < (25, 35] < (35, 60] < (60, 100]]"
      ]
     },
     "execution_count": 23,
     "metadata": {},
     "output_type": "execute_result"
    }
   ],
   "source": [
    "ages = [20, 22, 25, 26, 21, 23, 37, 31, 61, 45, 41, 32]\n",
    "\n",
    "# Let’s divide these into bins of 18 to 25, 26 to 35, 35 to 60, and finally 60 and older. \n",
    "# To do so, you can use 'cut', a function in pandas:\n",
    "bins = [18, 25, 35, 60, 100] # as above 5 numbers give us 4 bins\n",
    "cats = pd.cut(ages, bins)\n",
    "cats"
   ]
  },
  {
   "cell_type": "code",
   "execution_count": 24,
   "id": "35673d5a",
   "metadata": {
    "ExecuteTime": {
     "end_time": "2022-05-30T06:02:59.134743Z",
     "start_time": "2022-05-30T06:02:59.117772Z"
    }
   },
   "outputs": [
    {
     "data": {
      "text/plain": [
       "12"
      ]
     },
     "execution_count": 24,
     "metadata": {},
     "output_type": "execute_result"
    }
   ],
   "source": [
    "# cats is a struture showing which bin the values were placed in (the first three are 18-25)\n",
    "# then the total of the data (12), which is just:\n",
    "len(ages)\n",
    "# then the categories or bins, as specified"
   ]
  },
  {
   "cell_type": "code",
   "execution_count": 25,
   "id": "dc5971d7",
   "metadata": {
    "ExecuteTime": {
     "end_time": "2022-05-30T06:02:59.159151Z",
     "start_time": "2022-05-30T06:02:59.144872Z"
    }
   },
   "outputs": [
    {
     "data": {
      "text/plain": [
       "array([0, 0, 0, 1, 0, 0, 2, 1, 3, 2, 2, 1], dtype=int8)"
      ]
     },
     "execution_count": 25,
     "metadata": {},
     "output_type": "execute_result"
    }
   ],
   "source": [
    "cats.codes # 0 is the first bin, 3 the last"
   ]
  },
  {
   "cell_type": "code",
   "execution_count": 26,
   "id": "edbc1768",
   "metadata": {
    "ExecuteTime": {
     "end_time": "2022-05-30T06:02:59.196332Z",
     "start_time": "2022-05-30T06:02:59.176407Z"
    }
   },
   "outputs": [
    {
     "data": {
      "text/plain": [
       "IntervalIndex([(18, 25], (25, 35], (35, 60], (60, 100]], dtype='interval[int64, right]')"
      ]
     },
     "execution_count": 26,
     "metadata": {},
     "output_type": "execute_result"
    }
   ],
   "source": [
    "cats.categories # the names, note the use of '(' and ']'\n",
    "# '(' means open, '[' means closed, or inclusive, exclusive"
   ]
  },
  {
   "cell_type": "code",
   "execution_count": 27,
   "id": "e426899e",
   "metadata": {
    "ExecuteTime": {
     "end_time": "2022-05-30T06:02:59.258832Z",
     "start_time": "2022-05-30T06:02:59.212670Z"
    }
   },
   "outputs": [
    {
     "data": {
      "text/plain": [
       "(18, 25]     5\n",
       "(25, 35]     3\n",
       "(35, 60]     3\n",
       "(60, 100]    1\n",
       "dtype: int64"
      ]
     },
     "execution_count": 27,
     "metadata": {},
     "output_type": "execute_result"
    }
   ],
   "source": [
    "pd.value_counts(cats) # and we can see there's only 1 60-100"
   ]
  },
  {
   "cell_type": "markdown",
   "id": "b5834f63",
   "metadata": {},
   "source": [
    "which side is closed can be changed"
   ]
  },
  {
   "cell_type": "code",
   "execution_count": 28,
   "id": "61dbdfc3",
   "metadata": {
    "ExecuteTime": {
     "end_time": "2022-05-30T06:02:59.269141Z",
     "start_time": "2022-05-30T06:02:59.261203Z"
    }
   },
   "outputs": [],
   "source": [
    "cats2 = pd.cut(ages, [18, 26, 36, 61, 100], right = True)"
   ]
  },
  {
   "cell_type": "code",
   "execution_count": 29,
   "id": "3ab8f659",
   "metadata": {
    "ExecuteTime": {
     "end_time": "2022-05-30T06:02:59.285023Z",
     "start_time": "2022-05-30T06:02:59.273451Z"
    }
   },
   "outputs": [
    {
     "data": {
      "text/plain": [
       "(18, 26]     6\n",
       "(36, 61]     4\n",
       "(26, 36]     2\n",
       "(61, 100]    0\n",
       "dtype: int64"
      ]
     },
     "execution_count": 29,
     "metadata": {},
     "output_type": "execute_result"
    }
   ],
   "source": [
    "pd.value_counts(cats2) # now 26 is in 18 - 26, 61 is in 36 - 61"
   ]
  },
  {
   "cell_type": "code",
   "execution_count": 30,
   "id": "e037bc3f",
   "metadata": {
    "ExecuteTime": {
     "end_time": "2022-05-30T06:02:59.296948Z",
     "start_time": "2022-05-30T06:02:59.288078Z"
    }
   },
   "outputs": [
    {
     "data": {
      "text/plain": [
       "['Youth', 'Youth', 'Youth', 'YoungAdult', 'Youth', ..., 'YoungAdult', 'Senior', 'MiddleAged', 'MiddleAged', 'YoungAdult']\n",
       "Length: 12\n",
       "Categories (4, object): ['Youth' < 'YoungAdult' < 'MiddleAged' < 'Senior']"
      ]
     },
     "execution_count": 30,
     "metadata": {},
     "output_type": "execute_result"
    }
   ],
   "source": [
    "# want your own bin names?\n",
    "group_names = ['Youth', 'YoungAdult', 'MiddleAged', 'Senior']\n",
    "cats = pd.cut(ages, bins, labels = group_names)\n",
    "cats"
   ]
  },
  {
   "cell_type": "markdown",
   "id": "bb395e5c",
   "metadata": {},
   "source": [
    "If you pass cut an integer number of bins instead of explicit bin edges, it will compute equal-length bins based on the minimum and maximum values in the data. Consider the case of some uniformly distributed data chopped into tenths same data as above, 100 randoms"
   ]
  },
  {
   "cell_type": "code",
   "execution_count": 31,
   "id": "dbb878b0",
   "metadata": {
    "ExecuteTime": {
     "end_time": "2022-05-30T06:02:59.313885Z",
     "start_time": "2022-05-30T06:02:59.301764Z"
    }
   },
   "outputs": [
    {
     "data": {
      "text/plain": [
       "[(0.1048, 0.20338], (0.59773, 0.69632], (0.40056, 0.49914], (0.69632, 0.79491], (0.69632, 0.79491], ..., (0.49914, 0.59773], (0.49914, 0.59773], (0.79491, 0.89349], (0.0052226, 0.1048], (0.59773, 0.69632]]\n",
       "Length: 100\n",
       "Categories (10, interval[float64, right]): [(0.0052226, 0.1048] < (0.1048, 0.20338] < (0.20338, 0.30197] < (0.30197, 0.40056] ... (0.59773, 0.69632] < (0.69632, 0.79491] < (0.79491, 0.89349] < (0.89349, 0.99208]]"
      ]
     },
     "execution_count": 31,
     "metadata": {},
     "output_type": "execute_result"
    }
   ],
   "source": [
    "pd.cut(data, 10, precision = 5)"
   ]
  },
  {
   "cell_type": "code",
   "execution_count": 32,
   "id": "0f503eec",
   "metadata": {
    "ExecuteTime": {
     "end_time": "2022-05-30T06:02:59.323403Z",
     "start_time": "2022-05-30T06:02:59.317472Z"
    }
   },
   "outputs": [],
   "source": [
    "bincut = pd.cut(data, 10, precision = 5)"
   ]
  },
  {
   "cell_type": "code",
   "execution_count": 33,
   "id": "78904cab",
   "metadata": {
    "ExecuteTime": {
     "end_time": "2022-05-30T06:02:59.338823Z",
     "start_time": "2022-05-30T06:02:59.328514Z"
    }
   },
   "outputs": [
    {
     "data": {
      "text/plain": [
       "array([1, 6, 4, 7, 7, 2, 2, 8, 9, 8, 3, 5, 6, 7, 3, 5, 5, 0, 7, 8, 3, 6,\n",
       "       0, 3, 9, 6, 3, 7, 3, 5, 8, 4, 8, 1, 7, 7, 2, 9, 4, 9, 0, 1, 0, 6,\n",
       "       5, 5, 0, 5, 3, 5, 1, 6, 5, 0, 6, 9, 7, 9, 9, 7, 2, 6, 4, 1, 3, 0,\n",
       "       4, 9, 1, 1, 7, 5, 4, 1, 2, 9, 4, 5, 0, 2, 4, 6, 9, 6, 7, 1, 7, 8,\n",
       "       6, 4, 1, 5, 5, 9, 4, 5, 5, 8, 0, 6], dtype=int8)"
      ]
     },
     "execution_count": 33,
     "metadata": {},
     "output_type": "execute_result"
    }
   ],
   "source": [
    "bincut.codes # notice 0 to 9 (not 1 to 10) for bins, so they're out of synch by 1"
   ]
  },
  {
   "cell_type": "code",
   "execution_count": 34,
   "id": "c20f7110",
   "metadata": {
    "ExecuteTime": {
     "end_time": "2022-05-30T06:02:59.352944Z",
     "start_time": "2022-05-30T06:02:59.341014Z"
    }
   },
   "outputs": [
    {
     "data": {
      "text/html": [
       "<div>\n",
       "<style scoped>\n",
       "    .dataframe tbody tr th:only-of-type {\n",
       "        vertical-align: middle;\n",
       "    }\n",
       "\n",
       "    .dataframe tbody tr th {\n",
       "        vertical-align: top;\n",
       "    }\n",
       "\n",
       "    .dataframe thead th {\n",
       "        text-align: right;\n",
       "    }\n",
       "</style>\n",
       "<table border=\"1\" class=\"dataframe\">\n",
       "  <thead>\n",
       "    <tr style=\"text-align: right;\">\n",
       "      <th></th>\n",
       "      <th>Data</th>\n",
       "      <th>DigBin</th>\n",
       "      <th>SciBin</th>\n",
       "    </tr>\n",
       "  </thead>\n",
       "  <tbody>\n",
       "    <tr>\n",
       "      <th>0</th>\n",
       "      <td>0.191519</td>\n",
       "      <td>2</td>\n",
       "      <td>2</td>\n",
       "    </tr>\n",
       "    <tr>\n",
       "      <th>1</th>\n",
       "      <td>0.622109</td>\n",
       "      <td>7</td>\n",
       "      <td>7</td>\n",
       "    </tr>\n",
       "    <tr>\n",
       "      <th>2</th>\n",
       "      <td>0.437728</td>\n",
       "      <td>5</td>\n",
       "      <td>5</td>\n",
       "    </tr>\n",
       "    <tr>\n",
       "      <th>3</th>\n",
       "      <td>0.785359</td>\n",
       "      <td>8</td>\n",
       "      <td>8</td>\n",
       "    </tr>\n",
       "    <tr>\n",
       "      <th>4</th>\n",
       "      <td>0.779976</td>\n",
       "      <td>8</td>\n",
       "      <td>8</td>\n",
       "    </tr>\n",
       "  </tbody>\n",
       "</table>\n",
       "</div>"
      ],
      "text/plain": [
       "       Data  DigBin  SciBin\n",
       "0  0.191519       2       2\n",
       "1  0.622109       7       7\n",
       "2  0.437728       5       5\n",
       "3  0.785359       8       8\n",
       "4  0.779976       8       8"
      ]
     },
     "execution_count": 34,
     "metadata": {},
     "output_type": "execute_result"
    }
   ],
   "source": [
    "df.head()"
   ]
  },
  {
   "cell_type": "code",
   "execution_count": 35,
   "id": "4ddc65cb",
   "metadata": {
    "ExecuteTime": {
     "end_time": "2022-05-30T06:02:59.363989Z",
     "start_time": "2022-05-30T06:02:59.357316Z"
    }
   },
   "outputs": [
    {
     "data": {
      "text/plain": [
       "array([ 2,  7,  5,  8,  8,  3,  3,  9, 10,  9,  4,  6,  7,  8,  4,  6,  6,\n",
       "        1,  8,  9,  4,  7,  1,  4, 10,  7,  4,  8,  4,  6,  9,  5,  9,  2,\n",
       "        8,  8,  3, 10,  5, 10,  1,  2,  1,  7,  6,  6,  1,  6,  4,  6,  2,\n",
       "        7,  6,  1,  7, 10,  8, 10, 10,  8,  3,  7,  5,  2,  4,  1,  5, 10,\n",
       "        2,  2,  8,  6,  5,  2,  3, 10,  5,  6,  1,  3,  5,  7, 10,  7,  8,\n",
       "        2,  8,  9,  7,  5,  2,  6,  6, 10,  5,  6,  6,  9,  1,  7],\n",
       "      dtype=int8)"
      ]
     },
     "execution_count": 35,
     "metadata": {},
     "output_type": "execute_result"
    }
   ],
   "source": [
    "bincut.codes + 1 # hack them into order"
   ]
  },
  {
   "cell_type": "code",
   "execution_count": 36,
   "id": "7b2aca42",
   "metadata": {
    "ExecuteTime": {
     "end_time": "2022-05-30T06:02:59.379595Z",
     "start_time": "2022-05-30T06:02:59.366894Z"
    }
   },
   "outputs": [
    {
     "data": {
      "text/html": [
       "<div>\n",
       "<style scoped>\n",
       "    .dataframe tbody tr th:only-of-type {\n",
       "        vertical-align: middle;\n",
       "    }\n",
       "\n",
       "    .dataframe tbody tr th {\n",
       "        vertical-align: top;\n",
       "    }\n",
       "\n",
       "    .dataframe thead th {\n",
       "        text-align: right;\n",
       "    }\n",
       "</style>\n",
       "<table border=\"1\" class=\"dataframe\">\n",
       "  <thead>\n",
       "    <tr style=\"text-align: right;\">\n",
       "      <th></th>\n",
       "      <th>Data</th>\n",
       "      <th>DigBin</th>\n",
       "      <th>SciBin</th>\n",
       "      <th>BinCut</th>\n",
       "    </tr>\n",
       "  </thead>\n",
       "  <tbody>\n",
       "    <tr>\n",
       "      <th>0</th>\n",
       "      <td>0.191519</td>\n",
       "      <td>2</td>\n",
       "      <td>2</td>\n",
       "      <td>2</td>\n",
       "    </tr>\n",
       "    <tr>\n",
       "      <th>1</th>\n",
       "      <td>0.622109</td>\n",
       "      <td>7</td>\n",
       "      <td>7</td>\n",
       "      <td>7</td>\n",
       "    </tr>\n",
       "    <tr>\n",
       "      <th>2</th>\n",
       "      <td>0.437728</td>\n",
       "      <td>5</td>\n",
       "      <td>5</td>\n",
       "      <td>5</td>\n",
       "    </tr>\n",
       "    <tr>\n",
       "      <th>3</th>\n",
       "      <td>0.785359</td>\n",
       "      <td>8</td>\n",
       "      <td>8</td>\n",
       "      <td>8</td>\n",
       "    </tr>\n",
       "    <tr>\n",
       "      <th>4</th>\n",
       "      <td>0.779976</td>\n",
       "      <td>8</td>\n",
       "      <td>8</td>\n",
       "      <td>8</td>\n",
       "    </tr>\n",
       "  </tbody>\n",
       "</table>\n",
       "</div>"
      ],
      "text/plain": [
       "       Data  DigBin  SciBin  BinCut\n",
       "0  0.191519       2       2       2\n",
       "1  0.622109       7       7       7\n",
       "2  0.437728       5       5       5\n",
       "3  0.785359       8       8       8\n",
       "4  0.779976       8       8       8"
      ]
     },
     "execution_count": 36,
     "metadata": {},
     "output_type": "execute_result"
    }
   ],
   "source": [
    "df['BinCut'] = bincut.codes + 1\n",
    "df.head() # are they the same? "
   ]
  },
  {
   "cell_type": "code",
   "execution_count": 37,
   "id": "a6d4aab0",
   "metadata": {
    "ExecuteTime": {
     "end_time": "2022-05-30T06:02:59.981447Z",
     "start_time": "2022-05-30T06:02:59.382362Z"
    }
   },
   "outputs": [
    {
     "data": {
      "text/plain": [
       "array([[<AxesSubplot:title={'center':'Data'}>,\n",
       "        <AxesSubplot:title={'center':'DigBin'}>],\n",
       "       [<AxesSubplot:title={'center':'SciBin'}>,\n",
       "        <AxesSubplot:title={'center':'BinCut'}>]], dtype=object)"
      ]
     },
     "execution_count": 37,
     "metadata": {},
     "output_type": "execute_result"
    },
    {
     "data": {
      "image/png": "[encoded data removed]",
      "text/plain": [
       "<Figure size 432x288 with 4 Axes>"
      ]
     },
     "metadata": {
      "needs_background": "light"
     },
     "output_type": "display_data"
    }
   ],
   "source": [
    "df.hist()"
   ]
  },
  {
   "cell_type": "markdown",
   "id": "b7d617c3",
   "metadata": {},
   "source": [
    "A closely related function, qcut, bins the data based on sample quantiles. Depending on the distribution of the data, using cut will not usually result in each bin having the same number of data points. Since qcut uses sample quantiles instead, by definition you will obtain roughly equal-size bins:"
   ]
  },
  {
   "cell_type": "code",
   "execution_count": 38,
   "id": "0c6f8901",
   "metadata": {
    "ExecuteTime": {
     "end_time": "2022-05-30T06:03:13.358610Z",
     "start_time": "2022-05-30T06:03:13.344730Z"
    }
   },
   "outputs": [
    {
     "data": {
      "text/plain": [
       "(0.00521, 0.313]    25\n",
       "(0.313, 0.536]      25\n",
       "(0.536, 0.74]       25\n",
       "(0.74, 0.992]       25\n",
       "dtype: int64"
      ]
     },
     "execution_count": 38,
     "metadata": {},
     "output_type": "execute_result"
    }
   ],
   "source": [
    "catsq = pd.qcut(data, 4) # Cut into quartiles\n",
    "pd.value_counts(catsq) # 25 in each, means the edges/bins are not likely to be round or 'tidy' numbers"
   ]
  },
  {
   "cell_type": "code",
   "execution_count": 39,
   "id": "4ba1ae1e",
   "metadata": {
    "ExecuteTime": {
     "end_time": "2022-05-30T06:03:18.659654Z",
     "start_time": "2022-05-30T06:03:18.644115Z"
    }
   },
   "outputs": [
    {
     "data": {
      "text/plain": [
       "[(0.00521, 0.313], (0.536, 0.74], (0.313, 0.536], (0.74, 0.992], (0.74, 0.992], ..., (0.313, 0.536], (0.536, 0.74], (0.74, 0.992], (0.00521, 0.313], (0.536, 0.74]]\n",
       "Length: 100\n",
       "Categories (4, interval[float64, right]): [(0.00521, 0.313] < (0.313, 0.536] < (0.536, 0.74] < (0.74, 0.992]]"
      ]
     },
     "execution_count": 39,
     "metadata": {},
     "output_type": "execute_result"
    }
   ],
   "source": [
    "catsq"
   ]
  },
  {
   "cell_type": "code",
   "execution_count": 40,
   "id": "3931b79b",
   "metadata": {
    "ExecuteTime": {
     "end_time": "2022-05-30T06:03:25.508113Z",
     "start_time": "2022-05-30T06:03:25.500493Z"
    }
   },
   "outputs": [
    {
     "data": {
      "text/plain": [
       "0.006208516587129398"
      ]
     },
     "execution_count": 40,
     "metadata": {},
     "output_type": "execute_result"
    }
   ],
   "source": [
    "# first one is 0.00621, 0.313, should match the min value\n",
    "data.min()"
   ]
  },
  {
   "cell_type": "code",
   "execution_count": 41,
   "id": "3cc91fce",
   "metadata": {
    "ExecuteTime": {
     "end_time": "2022-05-30T06:03:30.564165Z",
     "start_time": "2022-05-30T06:03:30.552337Z"
    }
   },
   "outputs": [
    {
     "data": {
      "text/plain": [
       "[(0.111, 0.536], (0.536, 0.901], (0.111, 0.536], (0.536, 0.901], (0.536, 0.901], ..., (0.111, 0.536], (0.536, 0.901], (0.536, 0.901], (0.00521, 0.111], (0.536, 0.901]]\n",
       "Length: 100\n",
       "Categories (4, interval[float64, right]): [(0.00521, 0.111] < (0.111, 0.536] < (0.536, 0.901] < (0.901, 0.992]]"
      ]
     },
     "execution_count": 41,
     "metadata": {},
     "output_type": "execute_result"
    }
   ],
   "source": [
    "# Similar to cut you can pass your own quantiles (numbers between 0 and 1, inclusive):\n",
    "pd.qcut(data, [0, 0.1, 0.5, 0.9, 1.])"
   ]
  },
  {
   "cell_type": "code",
   "execution_count": 42,
   "id": "036192cf",
   "metadata": {
    "ExecuteTime": {
     "end_time": "2022-05-30T06:03:36.195108Z",
     "start_time": "2022-05-30T06:03:36.182981Z"
    }
   },
   "outputs": [
    {
     "data": {
      "text/plain": [
       "(0.111, 0.536]      40\n",
       "(0.536, 0.901]      40\n",
       "(0.00521, 0.111]    10\n",
       "(0.901, 0.992]      10\n",
       "dtype: int64"
      ]
     },
     "execution_count": 42,
     "metadata": {},
     "output_type": "execute_result"
    }
   ],
   "source": [
    "pd.value_counts(pd.qcut(data, [0, 0.1, 0.5, 0.9, 1.]))"
   ]
  }
 ],
 "metadata": {
  "kernelspec": {
   "display_name": "Python 3 (ipykernel)",
   "language": "python",
   "name": "python3"
  },
  "language_info": {
   "codemirror_mode": {
    "name": "ipython",
    "version": 3
   },
   "file_extension": ".py",
   "mimetype": "text/x-python",
   "name": "python",
   "nbconvert_exporter": "python",
   "pygments_lexer": "ipython3",
   "version": "3.9.7"
  },
  "toc": {
   "base_numbering": 1,
   "nav_menu": {},
   "number_sections": true,
   "sideBar": true,
   "skip_h1_title": true,
   "title_cell": "Table of Contents",
   "title_sidebar": "Contents",
   "toc_cell": true,
   "toc_position": {},
   "toc_section_display": true,
   "toc_window_display": false
  },
  "varInspector": {
   "cols": {
    "lenName": 16,
    "lenType": 16,
    "lenVar": 40
   },
   "kernels_config": {
    "python": {
     "delete_cmd_postfix": "",
     "delete_cmd_prefix": "del ",
     "library": "var_list.py",
     "varRefreshCmd": "print(var_dic_list())"
    },
    "r": {
     "delete_cmd_postfix": ") ",
     "delete_cmd_prefix": "rm(",
     "library": "var_list.r",
     "varRefreshCmd": "cat(var_dic_list()) "
    }
   },
   "types_to_exclude": [
    "module",
    "function",
    "builtin_function_or_method",
    "instance",
    "_Feature"
   ],
   "window_display": false
  }
 },
 "nbformat": 4,
 "nbformat_minor": 5
}
