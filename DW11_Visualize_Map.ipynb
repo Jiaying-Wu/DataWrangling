{
 "cells": [
  {
   "cell_type": "markdown",
   "id": "98cc1b52",
   "metadata": {
    "toc": true
   },
   "source": [
    "<h1>Table of Contents<span class=\"tocSkip\"></span></h1>\n",
    "<div class=\"toc\"><ul class=\"toc-item\"><li><span><a href=\"#Introduction\" data-toc-modified-id=\"Introduction-1\"><span class=\"toc-item-num\">1&nbsp;&nbsp;</span>Introduction</a></span></li><li><span><a href=\"#Part-1:-Plotting-points-in-Folium\" data-toc-modified-id=\"Part-1:-Plotting-points-in-Folium-2\"><span class=\"toc-item-num\">2&nbsp;&nbsp;</span>Part 1: Plotting points in Folium</a></span></li><li><span><a href=\"#Part-2-—-Plotting-polygons-in-Folium-(USGS-dataset)\" data-toc-modified-id=\"Part-2-—-Plotting-polygons-in-Folium-(USGS-dataset)-3\"><span class=\"toc-item-num\">3&nbsp;&nbsp;</span>Part 2 — Plotting polygons in Folium (USGS dataset)</a></span></li></ul></div>"
   ]
  },
  {
   "cell_type": "markdown",
   "id": "ddbb0ec3",
   "metadata": {},
   "source": [
    "# Visualize Interactive Map"
   ]
  },
  {
   "cell_type": "markdown",
   "id": "42b64f22",
   "metadata": {},
   "source": [
    "## Introduction\n",
    "\n",
    "In this note, we want to do a project on wildfires in the US. There are two meain datasets that we use throughout this tutorial: a Kaggle dataset of points stored in a SQLite database containing records for 1.88 million wildfires from 1992 to 2015[1], and a United States Geological Survey (USGS) dataset of polygon data[2] of wildfires from 1878–2019, stored in a shapefile. In this article, we’ll show you how to make an interactive map of this data using open source software (Folium) in Python.\n",
    "\n",
    "For this project, you’ll need GeoPandas, Folium and Branca (you also need Pandas and Numpy."
   ]
  },
  {
   "cell_type": "markdown",
   "id": "37511f3c",
   "metadata": {},
   "source": [
    "## Part 1: Plotting points in Folium\n",
    "\n",
    "We’ll run through how to plot up points in Folium from the Kaggle dataset. As the data is in a SQLite database, the workflow will be to read the table of interest from the database in to a Pandas dataframe, clean the data up a bit, and then plot the data in Folium for visual analysis.\n",
    "\n",
    "First, import the necessary libraries, and establish a connection to the sqlite database using sqlite3:"
   ]
  },
  {
   "cell_type": "code",
   "execution_count": null,
   "id": "78a0db68",
   "metadata": {
    "ExecuteTime": {
     "end_time": "2022-05-10T06:31:43.303126Z",
     "start_time": "2022-05-10T06:31:32.513470Z"
    }
   },
   "outputs": [],
   "source": [
    "#import libraries\n",
    "\n",
    "import sqlite3\n",
    "import pandas as pd\n",
    "import geopandas as gpd\n",
    "import numpy as np\n",
    "import folium\n",
    "\n",
    "#connect to sqlite database\n",
    "conn = sqlite3.connect('data/FPA_FOD_20170508.sqlite')"
   ]
  },
  {
   "cell_type": "markdown",
   "id": "1466626f",
   "metadata": {},
   "source": [
    "Then, use the Pandas method ‘read_sql_query’ with a simple SQL statement to select all rows from the ‘Fires’ table. To know which table you are interested in for an analysis, we recommend using [DB Browser for SQLite](https://sqlitebrowser.org/) to briefly analyze the database before making this function call."
   ]
  },
  {
   "cell_type": "code",
   "execution_count": null,
   "id": "bcc9bff3",
   "metadata": {
    "ExecuteTime": {
     "end_time": "2022-05-10T06:32:32.111751Z",
     "start_time": "2022-05-10T06:31:55.016619Z"
    }
   },
   "outputs": [],
   "source": [
    "#read the 'wildfires' table in to a pandas dataframe\n",
    "df = pd.read_sql_query('SELECT * FROM Fires', conn)\n",
    "\n",
    "pd.set_option('max_columns', None)\n",
    "\n",
    "df.head()"
   ]
  },
  {
   "cell_type": "markdown",
   "id": "8a776fb7",
   "metadata": {},
   "source": [
    "Next, we create a new dataframe with only the columns we're interested in. Note that alternatively, you could have done this during the last step with a longer SQL statement:\n",
    "\n",
    "```\n",
    "df = pd.read_sql_query(\"\"\"SELECT FIRE_NAME, FIRE_YEAR, \n",
    "                       SOURCE_REPORTING_UNIT_NAME,\n",
    "                       STAT_CAUSE_DESCR, FIRE_SIZE, \n",
    "                       LATITUDE, LONGITUDE, STATE\n",
    "                       FROM Fires\"\"\", conn)\n",
    "```\n",
    "\n"
   ]
  },
  {
   "cell_type": "code",
   "execution_count": null,
   "id": "15fa1833",
   "metadata": {
    "ExecuteTime": {
     "end_time": "2022-05-10T06:32:37.182764Z",
     "start_time": "2022-05-10T06:32:36.997755Z"
    }
   },
   "outputs": [],
   "source": [
    "#drop most of the columns\n",
    "df = df[['FIRE_NAME', 'FIRE_YEAR', \n",
    "         'SOURCE_REPORTING_UNIT_NAME', 'STAT_CAUSE_DESCR',\n",
    "         'FIRE_SIZE', 'LATITUDE',\n",
    "         'LONGITUDE', 'STATE']]\n",
    "\n",
    "x = len(df)\n",
    "print(df.shape)\n",
    "print(df.dtypes)\n",
    "\n",
    "df.head()"
   ]
  },
  {
   "cell_type": "markdown",
   "id": "77c2c09c",
   "metadata": {},
   "source": [
    "df.shape tells us that this dataset has 1,880,465 rows — displaying this much data on a map will surely be way too much information. So, we decided to create a new dataframe that only contains fires greater than 1000 acres:"
   ]
  },
  {
   "cell_type": "code",
   "execution_count": null,
   "id": "278e124f",
   "metadata": {
    "ExecuteTime": {
     "end_time": "2022-05-10T06:35:21.687607Z",
     "start_time": "2022-05-10T06:35:21.664268Z"
    }
   },
   "outputs": [],
   "source": [
    "#drop all fires < 1000 acres\n",
    "df = df.loc[df['FIRE_SIZE'] > 1000]\n",
    "\n",
    "print(df.shape)\n",
    "\n",
    "print ('The new dataframe is',\n",
    "       round(len(df)/x * 100, 3), \n",
    "       '% of the original dataset')"
   ]
  },
  {
   "cell_type": "markdown",
   "id": "e8b8eb86",
   "metadata": {},
   "source": [
    "This new dataset is only a fraction of the size of the original 1.88 million, containing 11,087 wildfires. Now, we’re ready to make the map! Note that ‘map’ is a Python keyword, so it’s common practice to store the Folium map in a variable ‘m’ , and call ‘m’ to display the map when you’re ready. When dealing with points data, create a variable for each ‘feature group’ that you want to have different characteristics for. You’ll also be able to turn the layer on/off independently from the other layers. We then iterate over each row in the dataframe, and use if statements to populate each of those feature groups."
   ]
  },
  {
   "cell_type": "code",
   "execution_count": null,
   "id": "d8c4dfd3",
   "metadata": {
    "ExecuteTime": {
     "end_time": "2022-05-10T06:36:28.958298Z",
     "start_time": "2022-05-10T06:35:42.789235Z"
    }
   },
   "outputs": [],
   "source": [
    "m = folium.Map(location = [40.44, -104.81],\n",
    "               tiles = 'Stamen Terrain',\n",
    "               zoom_start = 7)\n",
    "\n",
    "small_wildfires = folium.FeatureGroup(name = '< 10000 Acres')\n",
    "medium_wildfires = folium.FeatureGroup(name = '10,000 - 50,000 Acres')\n",
    "large_wildfires = folium.FeatureGroup(name = '50,000 - 100,000 Acres')\n",
    "xl_wildfires = folium.FeatureGroup(name = '> 100,000 Acres')\n",
    "\n",
    "\n",
    "for i, v in df.iterrows():\n",
    "    \n",
    "    fire_size = float(v['FIRE_SIZE'])\n",
    "    \n",
    "    popup = \"\"\"\n",
    "    Fire Name : <b>%s</b><br>\n",
    "    Size (Acres) : <b>%s</b><br>\n",
    "    State : <b>%s</b><br>\n",
    "    Cause : <b>%s</b><br>\n",
    "    Year: <b>%s</b><br>\n",
    "    \"\"\" % (v['FIRE_NAME'], v['FIRE_SIZE'], \n",
    "           v['STATE'], v['STAT_CAUSE_DESCR'], \n",
    "           v['FIRE_YEAR'])\n",
    "    \n",
    "    #small wildfires\n",
    "    if fire_size < 10000:\n",
    "        folium.CircleMarker(location = [v['LATITUDE'], \n",
    "                                        v['LONGITUDE']],\n",
    "                           radius = np.log(fire_size) * 0.8,\n",
    "                           weight = 0,\n",
    "                           tooltip = popup,\n",
    "                           color = '#ffeda0',\n",
    "                           fill_color = '#ffeda0',\n",
    "                           fill_opacity = 0.7,\n",
    "                           fill = True).add_to(small_wildfires)\n",
    "    #medium wildfires    \n",
    "    if fire_size in range(10000, 50000):\n",
    "        folium.CircleMarker(location = [v['LATITUDE'], \n",
    "                                        v['LONGITUDE']],\n",
    "                           radius = np.log(fire_size),\n",
    "                           weight = 0,\n",
    "                           tooltip = popup,\n",
    "                           color = '#feb24c',\n",
    "                           fill_color = '#feb24c',\n",
    "                           fill_opacity = 0.7,\n",
    "                           fill = True).add_to(medium_wildfires)\n",
    "    #large wildfires\n",
    "    if fire_size in range(50000, 100000):\n",
    "        folium.CircleMarker(location = [v['LATITUDE'], \n",
    "                                        v['LONGITUDE']],\n",
    "                           radius = np.log(fire_size) * 1.5,\n",
    "                           weight = 0,\n",
    "                           tooltip = popup,\n",
    "                           color = '#fc4e2a',\n",
    "                           fill_color = '#fc4e2a',\n",
    "                           fill_opacity = 0.7,\n",
    "                           fill = True).add_to(large_wildfires)\n",
    "    #XL wildfires\n",
    "    if fire_size > 100000:\n",
    "        folium.CircleMarker(location = [v['LATITUDE'], \n",
    "                                        v['LONGITUDE']],\n",
    "                           radius = np.log(fire_size) * 2,\n",
    "                           weight = 0,\n",
    "                           tooltip = popup,\n",
    "                           color = '##b10026',\n",
    "                           fill_color = '#b10026',\n",
    "                           fill_opacity = 0.7,\n",
    "                           fill = True).add_to(xl_wildfires)\n",
    "\n",
    "small_wildfires.add_to(m)\n",
    "medium_wildfires.add_to(m)\n",
    "large_wildfires.add_to(m)\n",
    "xl_wildfires.add_to(m)\n",
    "folium.LayerControl(collapsed = False).add_to(m)"
   ]
  },
  {
   "cell_type": "markdown",
   "id": "83b32c86",
   "metadata": {},
   "source": [
    "Here’s what the finished map will look like. You can hover and pan around the map to view the wildfires. We used fire acreage as a function of the natural logarithm for the marker size (radius) keyword argument, which makes smaller fires appear as smaller circles and larger fires appear as larger circles. Smaller fires are colored in yellow, while bigger fires are colored in red:"
   ]
  },
  {
   "cell_type": "code",
   "execution_count": null,
   "id": "021da159",
   "metadata": {
    "ExecuteTime": {
     "end_time": "2022-05-10T06:36:40.131596Z",
     "start_time": "2022-05-10T06:36:29.225685Z"
    }
   },
   "outputs": [],
   "source": [
    "m"
   ]
  },
  {
   "cell_type": "markdown",
   "id": "8d3e3e77",
   "metadata": {},
   "source": [
    "## Part 2 — Plotting polygons in Folium (USGS dataset)\n",
    "\n",
    "The USGS data comes in a shapefile. We can use GeoPandas to read in the shapefile:"
   ]
  },
  {
   "cell_type": "code",
   "execution_count": null,
   "id": "c59188b0",
   "metadata": {
    "ExecuteTime": {
     "end_time": "2022-05-10T06:38:54.886929Z",
     "start_time": "2022-05-10T06:38:40.309947Z"
    }
   },
   "outputs": [],
   "source": [
    "gdf = gpd.read_file(r'data/Shapefile/US_Wildfires_1878_2019.shp')\n",
    "\n",
    "print(gdf.shape)\n",
    "print(gdf.dtypes)\n",
    "\n",
    "gdf.head()"
   ]
  },
  {
   "cell_type": "markdown",
   "id": "f532c1e7",
   "metadata": {},
   "source": [
    "For this analysis, we're only plotting wildfires greater than 100,000 acres. The reason we do this is because 65,845 polygons generates way too large of a file — even with only wildfires > 100,000 acres (280 polygons), this is still going to be a large html file as our final product. The proper way to deal with this much data would probably be to have the web map pull the data directly from a SQL database. But that would be something to learn later!"
   ]
  },
  {
   "cell_type": "code",
   "execution_count": null,
   "id": "c86a7009",
   "metadata": {
    "ExecuteTime": {
     "end_time": "2022-05-10T06:39:14.398258Z",
     "start_time": "2022-05-10T06:39:13.952492Z"
    }
   },
   "outputs": [],
   "source": [
    "gdf = gdf[['FireName', 'FireYear', 'Acres', 'FireCause', 'Shape_Leng', 'Shape_Area', 'geometry']]\n",
    "gdf['Acres'] = gdf['Acres'].astype('int')\n",
    "\n",
    "gdf = gdf.loc[gdf['Acres'] > 100000,]\n",
    "\n",
    "print(gdf.shape)\n",
    "gdf.head()"
   ]
  },
  {
   "cell_type": "markdown",
   "id": "6e45c0b2",
   "metadata": {},
   "source": [
    "Next, let’s import Branca colormap to generate a linear colormap for our polygons. We scaled the colormap from the size of the smallest fire to the 75th percentile of fire size (‘Acres’). This way, the largest 25% of wildfires will all be colored red, while most of the fires (smallest 75%) will exhibit a wide range of colors. We also defined a quick function to reverse the colormap. To view all available colormap options, call ‘cm.linear’."
   ]
  },
  {
   "cell_type": "code",
   "execution_count": null,
   "id": "5f382425",
   "metadata": {
    "ExecuteTime": {
     "end_time": "2022-05-10T06:39:29.554020Z",
     "start_time": "2022-05-10T06:39:29.543341Z"
    }
   },
   "outputs": [],
   "source": [
    "import branca.colormap as cm\n",
    "\n",
    "fire_min = gdf['Acres'].min()\n",
    "fire_max = gdf['Acres'].max()\n",
    "fire_75 = gdf['Acres'].quantile(q = 0.75)\n",
    "\n",
    "linear = cm.linear.RdYlBu_08.scale(fire_min, fire_75)\n",
    "\n",
    "def reversed_colormap(existing):\n",
    "    return cm.LinearColormap(\n",
    "        colors=list(reversed(existing.colors)),\n",
    "        vmin=existing.vmin, vmax=existing.vmax)\n",
    "\n",
    "linear = reversed_colormap(linear)"
   ]
  },
  {
   "cell_type": "markdown",
   "id": "2e6ef690",
   "metadata": {},
   "source": [
    "Now we’re ready to plot up the polygons. For the colormap, you’ll need to make a dictionary with ‘FireName’ as the keys and ‘Acres’ as the values. We use the dictionary values as an argument in the lambda function for the variable ‘map colors’, and then pass ‘map_colors’ as a keyword argument for the style function in the GeoJson folium method.\n"
   ]
  },
  {
   "cell_type": "code",
   "execution_count": null,
   "id": "e8e24d59",
   "metadata": {
    "ExecuteTime": {
     "end_time": "2022-05-10T06:40:21.832640Z",
     "start_time": "2022-05-10T06:39:48.116281Z"
    }
   },
   "outputs": [],
   "source": [
    "from folium.features import GeoJson, GeoJsonTooltip, GeoJsonPopup\n",
    "\n",
    "m = folium.Map(\n",
    "    location = [39, -105],\n",
    "    tiles = 'Stamen Terrain',\n",
    "    zoom_start = 6)\n",
    "\n",
    "fire_dict = dict(zip(gdf['FireName'], gdf['Acres']))\n",
    "\n",
    "tooltip = GeoJsonTooltip(\n",
    "    fields = ['FireName', 'FireYear', \n",
    "              'Acres', 'FireCause'],\n",
    "    aliases = ['Name', 'Year', 'Acres', 'Cause'],\n",
    "    #localize = True,\n",
    "    sticky = True,\n",
    "    labels = True,\n",
    "    style = \"\"\"\n",
    "    background-color: #F0EFEF;\n",
    "    border: 2px solid black;\n",
    "    border-radius: 3px,\n",
    "    box-shadow: 3px;\n",
    "    \"\"\",\n",
    "    max_width = 800\n",
    ")\n",
    "\n",
    "    \n",
    "map_colors = lambda x: {\n",
    "    'fillColor': linear(fire_dict[x['properties']['FireName']]),\n",
    "    'color': 'black',\n",
    "    'weight': 0.25,\n",
    "    'fillOpacity': 0.5\n",
    "}\n",
    "\n",
    "#define a function for map_colors, if you prefer\n",
    "# def map_colors(x):\n",
    "#     return {'opacity': 1,\n",
    "#             'weight': 0.5,\n",
    "#             'fillColor': linear(fire_dict[x['properties']['FireName']]),\n",
    "#             'color':'black'}\n",
    "\n",
    "\n",
    "folium.GeoJson(\n",
    "    gdf,\n",
    "    name = 'Wildfires',\n",
    "    style_function = map_colors,\n",
    "    tooltip = tooltip\n",
    ").add_to(m)\n",
    "\n",
    "folium.LayerControl(collapsed = False).add_to(m)"
   ]
  },
  {
   "cell_type": "markdown",
   "id": "10e8a178",
   "metadata": {},
   "source": [
    "And, we now have polygons!"
   ]
  },
  {
   "cell_type": "code",
   "execution_count": null,
   "id": "7341fc51",
   "metadata": {
    "ExecuteTime": {
     "end_time": "2022-05-10T06:40:39.611171Z",
     "start_time": "2022-05-10T06:40:22.252447Z"
    }
   },
   "outputs": [],
   "source": [
    "m"
   ]
  },
  {
   "cell_type": "markdown",
   "id": "23492d40",
   "metadata": {},
   "source": [
    "IF this is too big to be displayed in your machine, try saving the map as html and then embed it in your notebook or open the html file in a browser"
   ]
  },
  {
   "cell_type": "code",
   "execution_count": null,
   "id": "7e87df19",
   "metadata": {
    "ExecuteTime": {
     "end_time": "2022-05-10T06:41:02.252197Z",
     "start_time": "2022-05-10T06:40:40.013886Z"
    }
   },
   "outputs": [],
   "source": [
    "m.save(r'data/USGS_wildfires.html')"
   ]
  },
  {
   "cell_type": "code",
   "execution_count": null,
   "id": "9258fa94",
   "metadata": {
    "ExecuteTime": {
     "end_time": "2022-05-10T06:41:03.780100Z",
     "start_time": "2022-05-10T06:41:02.843528Z"
    }
   },
   "outputs": [],
   "source": [
    "from IPython.core.display import display, HTML\n",
    "\n",
    "display(HTML('data/USGS_wildfires.html'))"
   ]
  }
 ],
 "metadata": {
  "kernelspec": {
   "display_name": "Python 3 (ipykernel)",
   "language": "python",
   "name": "python3"
  },
  "language_info": {
   "codemirror_mode": {
    "name": "ipython",
    "version": 3
   },
   "file_extension": ".py",
   "mimetype": "text/x-python",
   "name": "python",
   "nbconvert_exporter": "python",
   "pygments_lexer": "ipython3",
   "version": "3.9.7"
  },
  "toc": {
   "base_numbering": 1,
   "nav_menu": {},
   "number_sections": true,
   "sideBar": true,
   "skip_h1_title": true,
   "title_cell": "Table of Contents",
   "title_sidebar": "Contents",
   "toc_cell": true,
   "toc_position": {},
   "toc_section_display": true,
   "toc_window_display": false
  },
  "varInspector": {
   "cols": {
    "lenName": 16,
    "lenType": 16,
    "lenVar": 40
   },
   "kernels_config": {
    "python": {
     "delete_cmd_postfix": "",
     "delete_cmd_prefix": "del ",
     "library": "var_list.py",
     "varRefreshCmd": "print(var_dic_list())"
    },
    "r": {
     "delete_cmd_postfix": ") ",
     "delete_cmd_prefix": "rm(",
     "library": "var_list.r",
     "varRefreshCmd": "cat(var_dic_list()) "
    }
   },
   "types_to_exclude": [
    "module",
    "function",
    "builtin_function_or_method",
    "instance",
    "_Feature"
   ],
   "window_display": false
  }
 },
 "nbformat": 4,
 "nbformat_minor": 5
}
