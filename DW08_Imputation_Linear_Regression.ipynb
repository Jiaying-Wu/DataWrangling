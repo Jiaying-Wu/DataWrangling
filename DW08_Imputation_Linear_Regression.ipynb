{
 "cells": [
  {
   "cell_type": "markdown",
   "id": "38a3150f",
   "metadata": {
    "toc": true
   },
   "source": [
    "<h1>Table of Contents<span class=\"tocSkip\"></span></h1>\n",
    "<div class=\"toc\"><ul class=\"toc-item\"><li><span><a href=\"#Boston-house-prices-data\" data-toc-modified-id=\"Boston-house-prices-data-1\"><span class=\"toc-item-num\">1&nbsp;&nbsp;</span>Boston house prices data</a></span></li><li><span><a href=\"#Splitting-the-data-into-train-and-test-set\" data-toc-modified-id=\"Splitting-the-data-into-train-and-test-set-2\"><span class=\"toc-item-num\">2&nbsp;&nbsp;</span>Splitting the data into train and test set</a></span></li><li><span><a href=\"#Examine-AGE-column\" data-toc-modified-id=\"Examine-AGE-column-3\"><span class=\"toc-item-num\">3&nbsp;&nbsp;</span>Examine <code>AGE</code> column</a></span></li><li><span><a href=\"#Examine-the-model-performance-with-different-data\" data-toc-modified-id=\"Examine-the-model-performance-with-different-data-4\"><span class=\"toc-item-num\">4&nbsp;&nbsp;</span>Examine the model performance with different data</a></span><ul class=\"toc-item\"><li><span><a href=\"#Performance-of-Completed-Data\" data-toc-modified-id=\"Performance-of-Completed-Data-4.1\"><span class=\"toc-item-num\">4.1&nbsp;&nbsp;</span>Performance of Completed Data</a></span></li><li><span><a href=\"#Performance-of-Dropped-Data\" data-toc-modified-id=\"Performance-of-Dropped-Data-4.2\"><span class=\"toc-item-num\">4.2&nbsp;&nbsp;</span>Performance of Dropped Data</a></span></li><li><span><a href=\"#Performance-of-Imputed-Data\" data-toc-modified-id=\"Performance-of-Imputed-Data-4.3\"><span class=\"toc-item-num\">4.3&nbsp;&nbsp;</span>Performance of Imputed Data</a></span></li></ul></li></ul></div>"
   ]
  },
  {
   "cell_type": "markdown",
   "id": "3dab5191",
   "metadata": {},
   "source": [
    "# Missing Value Imputation with Linear Regression\n",
    "\n",
    "`boston_dropna_df` will be a dataset to see what would happen if we just dropped rows with missing values."
   ]
  },
  {
   "cell_type": "code",
   "execution_count": 1,
   "id": "437de15d",
   "metadata": {
    "ExecuteTime": {
     "end_time": "2022-05-03T09:01:22.151238Z",
     "start_time": "2022-05-03T09:01:20.165645Z"
    }
   },
   "outputs": [],
   "source": [
    "import pandas as pd\n",
    "from sklearn.linear_model import LinearRegression\n",
    "from sklearn.datasets import load_boston\n",
    "%matplotlib inline"
   ]
  },
  {
   "cell_type": "markdown",
   "id": "40e275c9",
   "metadata": {},
   "source": [
    "## Boston house prices data"
   ]
  },
  {
   "cell_type": "code",
   "execution_count": 2,
   "id": "98c428b8",
   "metadata": {
    "ExecuteTime": {
     "end_time": "2022-05-03T09:01:30.456999Z",
     "start_time": "2022-05-03T09:01:30.446016Z"
    }
   },
   "outputs": [],
   "source": [
    "boston = load_boston() # Dataset from the sklearn library"
   ]
  },
  {
   "cell_type": "code",
   "execution_count": 3,
   "id": "199c860a",
   "metadata": {
    "ExecuteTime": {
     "end_time": "2022-05-03T09:01:40.104655Z",
     "start_time": "2022-05-03T09:01:40.098585Z"
    }
   },
   "outputs": [
    {
     "name": "stdout",
     "output_type": "stream",
     "text": [
      ".. _boston_dataset:\n",
      "\n",
      "Boston house prices dataset\n",
      "---------------------------\n",
      "\n",
      "**Data Set Characteristics:**  \n",
      "\n",
      "    :Number of Instances: 506 \n",
      "\n",
      "    :Number of Attributes: 13 numeric/categorical predictive. Median Value (attribute 14) is usually the target.\n",
      "\n",
      "    :Attribute Information (in order):\n",
      "        - CRIM     per capita crime rate by town\n",
      "        - ZN       proportion of residential land zoned for lots over 25,000 sq.ft.\n",
      "        - INDUS    proportion of non-retail business acres per town\n",
      "        - CHAS     Charles River dummy variable (= 1 if tract bounds river; 0 otherwise)\n",
      "        - NOX      nitric oxides concentration (parts per 10 million)\n",
      "        - RM       average number of rooms per dwelling\n",
      "        - AGE      proportion of owner-occupied units built prior to 1940\n",
      "        - DIS      weighted distances to five Boston employment centres\n",
      "        - RAD      index of accessibility to radial highways\n",
      "        - TAX      full-value property-tax rate per $10,000\n",
      "        - PTRATIO  pupil-teacher ratio by town\n",
      "        - B        1000(Bk - 0.63)^2 where Bk is the proportion of black people by town\n",
      "        - LSTAT    % lower status of the population\n",
      "        - MEDV     Median value of owner-occupied homes in $1000's\n",
      "\n",
      "    :Missing Attribute Values: None\n",
      "\n",
      "    :Creator: Harrison, D. and Rubinfeld, D.L.\n",
      "\n",
      "This is a copy of UCI ML housing dataset.\n",
      "https://archive.ics.uci.edu/ml/machine-learning-databases/housing/\n",
      "\n",
      "\n",
      "This dataset was taken from the StatLib library which is maintained at Carnegie Mellon University.\n",
      "\n",
      "The Boston house-price data of Harrison, D. and Rubinfeld, D.L. 'Hedonic\n",
      "prices and the demand for clean air', J. Environ. Economics & Management,\n",
      "vol.5, 81-102, 1978.   Used in Belsley, Kuh & Welsch, 'Regression diagnostics\n",
      "...', Wiley, 1980.   N.B. Various transformations are used in the table on\n",
      "pages 244-261 of the latter.\n",
      "\n",
      "The Boston house-price data has been used in many machine learning papers that address regression\n",
      "problems.   \n",
      "     \n",
      ".. topic:: References\n",
      "\n",
      "   - Belsley, Kuh & Welsch, 'Regression diagnostics: Identifying Influential Data and Sources of Collinearity', Wiley, 1980. 244-261.\n",
      "   - Quinlan,R. (1993). Combining Instance-Based and Model-Based Learning. In Proceedings on the Tenth International Conference of Machine Learning, 236-243, University of Massachusetts, Amherst. Morgan Kaufmann.\n",
      "\n"
     ]
    }
   ],
   "source": [
    "print (boston.DESCR)"
   ]
  },
  {
   "cell_type": "code",
   "execution_count": 4,
   "id": "90a11070",
   "metadata": {
    "ExecuteTime": {
     "end_time": "2022-05-03T09:02:28.908278Z",
     "start_time": "2022-05-03T09:02:28.896509Z"
    }
   },
   "outputs": [],
   "source": [
    "boston_df = pd.read_pickle('data/boston_df.p')"
   ]
  },
  {
   "cell_type": "code",
   "execution_count": 5,
   "id": "301da57a",
   "metadata": {
    "ExecuteTime": {
     "end_time": "2022-05-03T09:02:37.069631Z",
     "start_time": "2022-05-03T09:02:37.044699Z"
    }
   },
   "outputs": [
    {
     "data": {
      "text/html": [
       "<div>\n",
       "<style scoped>\n",
       "    .dataframe tbody tr th:only-of-type {\n",
       "        vertical-align: middle;\n",
       "    }\n",
       "\n",
       "    .dataframe tbody tr th {\n",
       "        vertical-align: top;\n",
       "    }\n",
       "\n",
       "    .dataframe thead th {\n",
       "        text-align: right;\n",
       "    }\n",
       "</style>\n",
       "<table border=\"1\" class=\"dataframe\">\n",
       "  <thead>\n",
       "    <tr style=\"text-align: right;\">\n",
       "      <th></th>\n",
       "      <th>CRIM</th>\n",
       "      <th>ZN</th>\n",
       "      <th>INDUS</th>\n",
       "      <th>CHAS</th>\n",
       "      <th>NOX</th>\n",
       "      <th>RM</th>\n",
       "      <th>AGE</th>\n",
       "      <th>DIS</th>\n",
       "      <th>RAD</th>\n",
       "      <th>TAX</th>\n",
       "      <th>PTRATIO</th>\n",
       "      <th>B</th>\n",
       "      <th>LSTAT</th>\n",
       "      <th>y</th>\n",
       "    </tr>\n",
       "  </thead>\n",
       "  <tbody>\n",
       "    <tr>\n",
       "      <th>0</th>\n",
       "      <td>0.00632</td>\n",
       "      <td>18.0</td>\n",
       "      <td>2.31</td>\n",
       "      <td>0.0</td>\n",
       "      <td>0.538</td>\n",
       "      <td>6.575</td>\n",
       "      <td>65.2</td>\n",
       "      <td>4.0900</td>\n",
       "      <td>1.0</td>\n",
       "      <td>296.0</td>\n",
       "      <td>15.3</td>\n",
       "      <td>396.90</td>\n",
       "      <td>4.98</td>\n",
       "      <td>24.0</td>\n",
       "    </tr>\n",
       "    <tr>\n",
       "      <th>1</th>\n",
       "      <td>0.02731</td>\n",
       "      <td>0.0</td>\n",
       "      <td>7.07</td>\n",
       "      <td>0.0</td>\n",
       "      <td>0.469</td>\n",
       "      <td>6.421</td>\n",
       "      <td>78.9</td>\n",
       "      <td>4.9671</td>\n",
       "      <td>2.0</td>\n",
       "      <td>242.0</td>\n",
       "      <td>17.8</td>\n",
       "      <td>396.90</td>\n",
       "      <td>9.14</td>\n",
       "      <td>21.6</td>\n",
       "    </tr>\n",
       "    <tr>\n",
       "      <th>2</th>\n",
       "      <td>0.02729</td>\n",
       "      <td>0.0</td>\n",
       "      <td>7.07</td>\n",
       "      <td>0.0</td>\n",
       "      <td>0.469</td>\n",
       "      <td>7.185</td>\n",
       "      <td>61.1</td>\n",
       "      <td>4.9671</td>\n",
       "      <td>2.0</td>\n",
       "      <td>242.0</td>\n",
       "      <td>17.8</td>\n",
       "      <td>392.83</td>\n",
       "      <td>4.03</td>\n",
       "      <td>34.7</td>\n",
       "    </tr>\n",
       "    <tr>\n",
       "      <th>3</th>\n",
       "      <td>0.03237</td>\n",
       "      <td>0.0</td>\n",
       "      <td>2.18</td>\n",
       "      <td>0.0</td>\n",
       "      <td>0.458</td>\n",
       "      <td>6.998</td>\n",
       "      <td>45.8</td>\n",
       "      <td>6.0622</td>\n",
       "      <td>3.0</td>\n",
       "      <td>222.0</td>\n",
       "      <td>18.7</td>\n",
       "      <td>394.63</td>\n",
       "      <td>2.94</td>\n",
       "      <td>33.4</td>\n",
       "    </tr>\n",
       "    <tr>\n",
       "      <th>4</th>\n",
       "      <td>0.06905</td>\n",
       "      <td>0.0</td>\n",
       "      <td>2.18</td>\n",
       "      <td>0.0</td>\n",
       "      <td>0.458</td>\n",
       "      <td>7.147</td>\n",
       "      <td>54.2</td>\n",
       "      <td>6.0622</td>\n",
       "      <td>3.0</td>\n",
       "      <td>222.0</td>\n",
       "      <td>18.7</td>\n",
       "      <td>396.90</td>\n",
       "      <td>5.33</td>\n",
       "      <td>36.2</td>\n",
       "    </tr>\n",
       "  </tbody>\n",
       "</table>\n",
       "</div>"
      ],
      "text/plain": [
       "      CRIM    ZN  INDUS  CHAS    NOX     RM   AGE     DIS  RAD    TAX  \\\n",
       "0  0.00632  18.0   2.31   0.0  0.538  6.575  65.2  4.0900  1.0  296.0   \n",
       "1  0.02731   0.0   7.07   0.0  0.469  6.421  78.9  4.9671  2.0  242.0   \n",
       "2  0.02729   0.0   7.07   0.0  0.469  7.185  61.1  4.9671  2.0  242.0   \n",
       "3  0.03237   0.0   2.18   0.0  0.458  6.998  45.8  6.0622  3.0  222.0   \n",
       "4  0.06905   0.0   2.18   0.0  0.458  7.147  54.2  6.0622  3.0  222.0   \n",
       "\n",
       "   PTRATIO       B  LSTAT     y  \n",
       "0     15.3  396.90   4.98  24.0  \n",
       "1     17.8  396.90   9.14  21.6  \n",
       "2     17.8  392.83   4.03  34.7  \n",
       "3     18.7  394.63   2.94  33.4  \n",
       "4     18.7  396.90   5.33  36.2  "
      ]
     },
     "execution_count": 5,
     "metadata": {},
     "output_type": "execute_result"
    }
   ],
   "source": [
    "boston_df.head()"
   ]
  },
  {
   "cell_type": "code",
   "execution_count": 6,
   "id": "dde847f3",
   "metadata": {
    "ExecuteTime": {
     "end_time": "2022-05-03T09:03:05.110646Z",
     "start_time": "2022-05-03T09:03:05.082628Z"
    }
   },
   "outputs": [
    {
     "data": {
      "text/plain": [
       "(506, 14)"
      ]
     },
     "execution_count": 6,
     "metadata": {},
     "output_type": "execute_result"
    }
   ],
   "source": [
    "boston_df.shape"
   ]
  },
  {
   "cell_type": "markdown",
   "id": "ca9311ef",
   "metadata": {},
   "source": [
    "## Splitting the data into train and test set"
   ]
  },
  {
   "cell_type": "markdown",
   "id": "debd07d1",
   "metadata": {
    "ExecuteTime": {
     "end_time": "2022-05-03T09:03:57.127428Z",
     "start_time": "2022-05-03T09:03:57.118803Z"
    }
   },
   "source": [
    "#from sklearn.cross_validation import train_test_split\n",
    "from sklearn.model_selection import train_test_split\n",
    "X_train, X_test, y_train, y_test = train_test_split(boston_df.iloc[:,:-1],boston_df.iloc[:,-1:], random_state = 1)"
   ]
  },
  {
   "cell_type": "code",
   "execution_count": 8,
   "id": "8d2a7a06",
   "metadata": {
    "ExecuteTime": {
     "end_time": "2022-05-03T09:04:06.234048Z",
     "start_time": "2022-05-03T09:04:06.224993Z"
    }
   },
   "outputs": [
    {
     "name": "stderr",
     "output_type": "stream",
     "text": [
      "/var/folders/4n/y3z900hx7yj7qq3g3q2t8y7m0000gn/T/ipykernel_14284/2239967907.py:1: FutureWarning: The pandas.np module is deprecated and will be removed from pandas in a future version. Import numpy directly instead\n",
      "  map(pd.np.shape,[X_train, X_test, y_train, y_test])\n"
     ]
    },
    {
     "data": {
      "text/plain": [
       "<map at 0x7f981aec8eb0>"
      ]
     },
     "execution_count": 8,
     "metadata": {},
     "output_type": "execute_result"
    }
   ],
   "source": [
    "map(pd.np.shape,[X_train, X_test, y_train, y_test])"
   ]
  },
  {
   "cell_type": "code",
   "execution_count": 9,
   "id": "7397a6b7",
   "metadata": {
    "ExecuteTime": {
     "end_time": "2022-05-03T09:04:12.314879Z",
     "start_time": "2022-05-03T09:04:12.302369Z"
    }
   },
   "outputs": [
    {
     "data": {
      "text/html": [
       "<div>\n",
       "<style scoped>\n",
       "    .dataframe tbody tr th:only-of-type {\n",
       "        vertical-align: middle;\n",
       "    }\n",
       "\n",
       "    .dataframe tbody tr th {\n",
       "        vertical-align: top;\n",
       "    }\n",
       "\n",
       "    .dataframe thead th {\n",
       "        text-align: right;\n",
       "    }\n",
       "</style>\n",
       "<table border=\"1\" class=\"dataframe\">\n",
       "  <thead>\n",
       "    <tr style=\"text-align: right;\">\n",
       "      <th></th>\n",
       "      <th>y</th>\n",
       "    </tr>\n",
       "  </thead>\n",
       "  <tbody>\n",
       "    <tr>\n",
       "      <th>502</th>\n",
       "      <td>20.6</td>\n",
       "    </tr>\n",
       "    <tr>\n",
       "      <th>172</th>\n",
       "      <td>23.1</td>\n",
       "    </tr>\n",
       "    <tr>\n",
       "      <th>80</th>\n",
       "      <td>28.0</td>\n",
       "    </tr>\n",
       "    <tr>\n",
       "      <th>46</th>\n",
       "      <td>20.0</td>\n",
       "    </tr>\n",
       "    <tr>\n",
       "      <th>318</th>\n",
       "      <td>23.1</td>\n",
       "    </tr>\n",
       "    <tr>\n",
       "      <th>...</th>\n",
       "      <td>...</td>\n",
       "    </tr>\n",
       "    <tr>\n",
       "      <th>255</th>\n",
       "      <td>20.9</td>\n",
       "    </tr>\n",
       "    <tr>\n",
       "      <th>72</th>\n",
       "      <td>22.8</td>\n",
       "    </tr>\n",
       "    <tr>\n",
       "      <th>396</th>\n",
       "      <td>12.5</td>\n",
       "    </tr>\n",
       "    <tr>\n",
       "      <th>235</th>\n",
       "      <td>24.0</td>\n",
       "    </tr>\n",
       "    <tr>\n",
       "      <th>37</th>\n",
       "      <td>21.0</td>\n",
       "    </tr>\n",
       "  </tbody>\n",
       "</table>\n",
       "<p>379 rows × 1 columns</p>\n",
       "</div>"
      ],
      "text/plain": [
       "        y\n",
       "502  20.6\n",
       "172  23.1\n",
       "80   28.0\n",
       "46   20.0\n",
       "318  23.1\n",
       "..    ...\n",
       "255  20.9\n",
       "72   22.8\n",
       "396  12.5\n",
       "235  24.0\n",
       "37   21.0\n",
       "\n",
       "[379 rows x 1 columns]"
      ]
     },
     "execution_count": 9,
     "metadata": {},
     "output_type": "execute_result"
    }
   ],
   "source": [
    "y_train"
   ]
  },
  {
   "cell_type": "markdown",
   "id": "05fc7393",
   "metadata": {},
   "source": [
    "These testing and training sets form our full dataset, we have prepared some data with missing vaues"
   ]
  },
  {
   "cell_type": "markdown",
   "id": "2333aa0f",
   "metadata": {},
   "source": [
    "## Examine `AGE` column"
   ]
  },
  {
   "cell_type": "code",
   "execution_count": 10,
   "id": "46065c8c",
   "metadata": {
    "ExecuteTime": {
     "end_time": "2022-05-03T09:05:57.899933Z",
     "start_time": "2022-05-03T09:05:57.892492Z"
    }
   },
   "outputs": [],
   "source": [
    "#read the data into two dataframes\n",
    "boston_dropna_df = pd.read_pickle('data/boston_dropna_df.p') "
   ]
  },
  {
   "cell_type": "code",
   "execution_count": 11,
   "id": "542e1c07",
   "metadata": {
    "ExecuteTime": {
     "end_time": "2022-05-03T09:06:21.886584Z",
     "start_time": "2022-05-03T09:06:21.876339Z"
    }
   },
   "outputs": [],
   "source": [
    "boston_impute_df = boston_dropna_df.copy()"
   ]
  },
  {
   "cell_type": "code",
   "execution_count": 12,
   "id": "2687cc6a",
   "metadata": {
    "ExecuteTime": {
     "end_time": "2022-05-03T09:06:27.542956Z",
     "start_time": "2022-05-03T09:06:27.534575Z"
    }
   },
   "outputs": [
    {
     "data": {
      "text/plain": [
       "95"
      ]
     },
     "execution_count": 12,
     "metadata": {},
     "output_type": "execute_result"
    }
   ],
   "source": [
    "boston_dropna_df['AGE'].isnull().sum()"
   ]
  },
  {
   "cell_type": "code",
   "execution_count": 13,
   "id": "04eb4efe",
   "metadata": {
    "ExecuteTime": {
     "end_time": "2022-05-03T09:06:35.958205Z",
     "start_time": "2022-05-03T09:06:35.950487Z"
    }
   },
   "outputs": [
    {
     "data": {
      "text/plain": [
       "95"
      ]
     },
     "execution_count": 13,
     "metadata": {},
     "output_type": "execute_result"
    }
   ],
   "source": [
    "boston_impute_df['AGE'].isnull().sum()"
   ]
  },
  {
   "cell_type": "markdown",
   "id": "edefbc98",
   "metadata": {},
   "source": [
    "`boston_dropna_df` will be a dataset to see what would happen if we just dropped rows with missing values"
   ]
  },
  {
   "cell_type": "code",
   "execution_count": 14,
   "id": "cf7be3b1",
   "metadata": {
    "ExecuteTime": {
     "end_time": "2022-05-03T09:07:42.097405Z",
     "start_time": "2022-05-03T09:07:42.064125Z"
    }
   },
   "outputs": [],
   "source": [
    "boston_dropna_df.dropna(subset=['AGE'],axis=0,inplace=True)"
   ]
  },
  {
   "cell_type": "code",
   "execution_count": 15,
   "id": "edd7aec5",
   "metadata": {
    "ExecuteTime": {
     "end_time": "2022-05-03T09:07:47.108180Z",
     "start_time": "2022-05-03T09:07:47.100755Z"
    }
   },
   "outputs": [
    {
     "data": {
      "text/plain": [
       "0"
      ]
     },
     "execution_count": 15,
     "metadata": {},
     "output_type": "execute_result"
    }
   ],
   "source": [
    "boston_dropna_df['AGE'].isnull().sum()"
   ]
  },
  {
   "cell_type": "code",
   "execution_count": 16,
   "id": "bf299880",
   "metadata": {
    "ExecuteTime": {
     "end_time": "2022-05-03T09:07:52.564110Z",
     "start_time": "2022-05-03T09:07:52.548984Z"
    }
   },
   "outputs": [
    {
     "data": {
      "text/plain": [
       "95"
      ]
     },
     "execution_count": 16,
     "metadata": {},
     "output_type": "execute_result"
    }
   ],
   "source": [
    "boston_impute_df['AGE'].isnull().sum()"
   ]
  },
  {
   "cell_type": "code",
   "execution_count": 17,
   "id": "18380d8f",
   "metadata": {
    "ExecuteTime": {
     "end_time": "2022-05-03T09:08:12.419293Z",
     "start_time": "2022-05-03T09:08:12.412103Z"
    }
   },
   "outputs": [
    {
     "data": {
      "text/plain": [
       "(284, 14)"
      ]
     },
     "execution_count": 17,
     "metadata": {},
     "output_type": "execute_result"
    }
   ],
   "source": [
    "boston_dropna_df.shape"
   ]
  },
  {
   "cell_type": "code",
   "execution_count": 18,
   "id": "c8b52166",
   "metadata": {
    "ExecuteTime": {
     "end_time": "2022-05-03T09:08:18.798482Z",
     "start_time": "2022-05-03T09:08:18.777442Z"
    }
   },
   "outputs": [
    {
     "data": {
      "text/html": [
       "<div>\n",
       "<style scoped>\n",
       "    .dataframe tbody tr th:only-of-type {\n",
       "        vertical-align: middle;\n",
       "    }\n",
       "\n",
       "    .dataframe tbody tr th {\n",
       "        vertical-align: top;\n",
       "    }\n",
       "\n",
       "    .dataframe thead th {\n",
       "        text-align: right;\n",
       "    }\n",
       "</style>\n",
       "<table border=\"1\" class=\"dataframe\">\n",
       "  <thead>\n",
       "    <tr style=\"text-align: right;\">\n",
       "      <th></th>\n",
       "      <th>CRIM</th>\n",
       "      <th>ZN</th>\n",
       "      <th>INDUS</th>\n",
       "      <th>CHAS</th>\n",
       "      <th>NOX</th>\n",
       "      <th>RM</th>\n",
       "      <th>AGE</th>\n",
       "      <th>DIS</th>\n",
       "      <th>RAD</th>\n",
       "      <th>TAX</th>\n",
       "      <th>PTRATIO</th>\n",
       "      <th>B</th>\n",
       "      <th>LSTAT</th>\n",
       "      <th>y</th>\n",
       "    </tr>\n",
       "  </thead>\n",
       "  <tbody>\n",
       "    <tr>\n",
       "      <th>0</th>\n",
       "      <td>0.00632</td>\n",
       "      <td>18.0</td>\n",
       "      <td>2.31</td>\n",
       "      <td>0.0</td>\n",
       "      <td>0.538</td>\n",
       "      <td>6.575</td>\n",
       "      <td>65.2</td>\n",
       "      <td>4.0900</td>\n",
       "      <td>1.0</td>\n",
       "      <td>296.0</td>\n",
       "      <td>15.3</td>\n",
       "      <td>396.90</td>\n",
       "      <td>4.98</td>\n",
       "      <td>24.0</td>\n",
       "    </tr>\n",
       "    <tr>\n",
       "      <th>1</th>\n",
       "      <td>0.02731</td>\n",
       "      <td>0.0</td>\n",
       "      <td>7.07</td>\n",
       "      <td>0.0</td>\n",
       "      <td>0.469</td>\n",
       "      <td>6.421</td>\n",
       "      <td>78.9</td>\n",
       "      <td>4.9671</td>\n",
       "      <td>2.0</td>\n",
       "      <td>242.0</td>\n",
       "      <td>17.8</td>\n",
       "      <td>396.90</td>\n",
       "      <td>9.14</td>\n",
       "      <td>21.6</td>\n",
       "    </tr>\n",
       "    <tr>\n",
       "      <th>2</th>\n",
       "      <td>0.02729</td>\n",
       "      <td>0.0</td>\n",
       "      <td>7.07</td>\n",
       "      <td>0.0</td>\n",
       "      <td>0.469</td>\n",
       "      <td>7.185</td>\n",
       "      <td>61.1</td>\n",
       "      <td>4.9671</td>\n",
       "      <td>2.0</td>\n",
       "      <td>242.0</td>\n",
       "      <td>17.8</td>\n",
       "      <td>392.83</td>\n",
       "      <td>4.03</td>\n",
       "      <td>34.7</td>\n",
       "    </tr>\n",
       "    <tr>\n",
       "      <th>3</th>\n",
       "      <td>0.03237</td>\n",
       "      <td>0.0</td>\n",
       "      <td>2.18</td>\n",
       "      <td>0.0</td>\n",
       "      <td>0.458</td>\n",
       "      <td>6.998</td>\n",
       "      <td>45.8</td>\n",
       "      <td>6.0622</td>\n",
       "      <td>3.0</td>\n",
       "      <td>222.0</td>\n",
       "      <td>18.7</td>\n",
       "      <td>394.63</td>\n",
       "      <td>2.94</td>\n",
       "      <td>33.4</td>\n",
       "    </tr>\n",
       "    <tr>\n",
       "      <th>10</th>\n",
       "      <td>0.22489</td>\n",
       "      <td>12.5</td>\n",
       "      <td>7.87</td>\n",
       "      <td>0.0</td>\n",
       "      <td>0.524</td>\n",
       "      <td>6.377</td>\n",
       "      <td>94.3</td>\n",
       "      <td>6.3467</td>\n",
       "      <td>5.0</td>\n",
       "      <td>311.0</td>\n",
       "      <td>15.2</td>\n",
       "      <td>392.52</td>\n",
       "      <td>20.45</td>\n",
       "      <td>15.0</td>\n",
       "    </tr>\n",
       "  </tbody>\n",
       "</table>\n",
       "</div>"
      ],
      "text/plain": [
       "       CRIM    ZN  INDUS  CHAS    NOX     RM   AGE     DIS  RAD    TAX  \\\n",
       "0   0.00632  18.0   2.31   0.0  0.538  6.575  65.2  4.0900  1.0  296.0   \n",
       "1   0.02731   0.0   7.07   0.0  0.469  6.421  78.9  4.9671  2.0  242.0   \n",
       "2   0.02729   0.0   7.07   0.0  0.469  7.185  61.1  4.9671  2.0  242.0   \n",
       "3   0.03237   0.0   2.18   0.0  0.458  6.998  45.8  6.0622  3.0  222.0   \n",
       "10  0.22489  12.5   7.87   0.0  0.524  6.377  94.3  6.3467  5.0  311.0   \n",
       "\n",
       "    PTRATIO       B  LSTAT     y  \n",
       "0      15.3  396.90   4.98  24.0  \n",
       "1      17.8  396.90   9.14  21.6  \n",
       "2      17.8  392.83   4.03  34.7  \n",
       "3      18.7  394.63   2.94  33.4  \n",
       "10     15.2  392.52  20.45  15.0  "
      ]
     },
     "execution_count": 18,
     "metadata": {},
     "output_type": "execute_result"
    }
   ],
   "source": [
    "boston_dropna_df.head()"
   ]
  },
  {
   "cell_type": "markdown",
   "id": "174b85ee",
   "metadata": {},
   "source": [
    "## Examine the model performance with different data"
   ]
  },
  {
   "cell_type": "code",
   "execution_count": 19,
   "id": "7169f985",
   "metadata": {
    "ExecuteTime": {
     "end_time": "2022-05-03T09:09:42.249815Z",
     "start_time": "2022-05-03T09:09:42.223123Z"
    }
   },
   "outputs": [
    {
     "data": {
      "text/html": [
       "<div>\n",
       "<style scoped>\n",
       "    .dataframe tbody tr th:only-of-type {\n",
       "        vertical-align: middle;\n",
       "    }\n",
       "\n",
       "    .dataframe tbody tr th {\n",
       "        vertical-align: top;\n",
       "    }\n",
       "\n",
       "    .dataframe thead th {\n",
       "        text-align: right;\n",
       "    }\n",
       "</style>\n",
       "<table border=\"1\" class=\"dataframe\">\n",
       "  <thead>\n",
       "    <tr style=\"text-align: right;\">\n",
       "      <th></th>\n",
       "      <th>CRIM</th>\n",
       "      <th>ZN</th>\n",
       "      <th>INDUS</th>\n",
       "      <th>CHAS</th>\n",
       "      <th>NOX</th>\n",
       "      <th>RM</th>\n",
       "      <th>AGE</th>\n",
       "      <th>DIS</th>\n",
       "      <th>RAD</th>\n",
       "      <th>TAX</th>\n",
       "      <th>PTRATIO</th>\n",
       "      <th>B</th>\n",
       "      <th>LSTAT</th>\n",
       "    </tr>\n",
       "  </thead>\n",
       "  <tbody>\n",
       "    <tr>\n",
       "      <th>0</th>\n",
       "      <td>0.00632</td>\n",
       "      <td>18.0</td>\n",
       "      <td>2.31</td>\n",
       "      <td>0.0</td>\n",
       "      <td>0.538</td>\n",
       "      <td>6.575</td>\n",
       "      <td>65.2</td>\n",
       "      <td>4.0900</td>\n",
       "      <td>1.0</td>\n",
       "      <td>296.0</td>\n",
       "      <td>15.3</td>\n",
       "      <td>396.90</td>\n",
       "      <td>4.98</td>\n",
       "    </tr>\n",
       "    <tr>\n",
       "      <th>1</th>\n",
       "      <td>0.02731</td>\n",
       "      <td>0.0</td>\n",
       "      <td>7.07</td>\n",
       "      <td>0.0</td>\n",
       "      <td>0.469</td>\n",
       "      <td>6.421</td>\n",
       "      <td>78.9</td>\n",
       "      <td>4.9671</td>\n",
       "      <td>2.0</td>\n",
       "      <td>242.0</td>\n",
       "      <td>17.8</td>\n",
       "      <td>396.90</td>\n",
       "      <td>9.14</td>\n",
       "    </tr>\n",
       "    <tr>\n",
       "      <th>2</th>\n",
       "      <td>0.02729</td>\n",
       "      <td>0.0</td>\n",
       "      <td>7.07</td>\n",
       "      <td>0.0</td>\n",
       "      <td>0.469</td>\n",
       "      <td>7.185</td>\n",
       "      <td>61.1</td>\n",
       "      <td>4.9671</td>\n",
       "      <td>2.0</td>\n",
       "      <td>242.0</td>\n",
       "      <td>17.8</td>\n",
       "      <td>392.83</td>\n",
       "      <td>4.03</td>\n",
       "    </tr>\n",
       "    <tr>\n",
       "      <th>3</th>\n",
       "      <td>0.03237</td>\n",
       "      <td>0.0</td>\n",
       "      <td>2.18</td>\n",
       "      <td>0.0</td>\n",
       "      <td>0.458</td>\n",
       "      <td>6.998</td>\n",
       "      <td>45.8</td>\n",
       "      <td>6.0622</td>\n",
       "      <td>3.0</td>\n",
       "      <td>222.0</td>\n",
       "      <td>18.7</td>\n",
       "      <td>394.63</td>\n",
       "      <td>2.94</td>\n",
       "    </tr>\n",
       "    <tr>\n",
       "      <th>10</th>\n",
       "      <td>0.22489</td>\n",
       "      <td>12.5</td>\n",
       "      <td>7.87</td>\n",
       "      <td>0.0</td>\n",
       "      <td>0.524</td>\n",
       "      <td>6.377</td>\n",
       "      <td>94.3</td>\n",
       "      <td>6.3467</td>\n",
       "      <td>5.0</td>\n",
       "      <td>311.0</td>\n",
       "      <td>15.2</td>\n",
       "      <td>392.52</td>\n",
       "      <td>20.45</td>\n",
       "    </tr>\n",
       "    <tr>\n",
       "      <th>...</th>\n",
       "      <td>...</td>\n",
       "      <td>...</td>\n",
       "      <td>...</td>\n",
       "      <td>...</td>\n",
       "      <td>...</td>\n",
       "      <td>...</td>\n",
       "      <td>...</td>\n",
       "      <td>...</td>\n",
       "      <td>...</td>\n",
       "      <td>...</td>\n",
       "      <td>...</td>\n",
       "      <td>...</td>\n",
       "      <td>...</td>\n",
       "    </tr>\n",
       "    <tr>\n",
       "      <th>496</th>\n",
       "      <td>0.28960</td>\n",
       "      <td>0.0</td>\n",
       "      <td>9.69</td>\n",
       "      <td>0.0</td>\n",
       "      <td>0.585</td>\n",
       "      <td>5.390</td>\n",
       "      <td>72.9</td>\n",
       "      <td>2.7986</td>\n",
       "      <td>6.0</td>\n",
       "      <td>391.0</td>\n",
       "      <td>19.2</td>\n",
       "      <td>396.90</td>\n",
       "      <td>21.14</td>\n",
       "    </tr>\n",
       "    <tr>\n",
       "      <th>499</th>\n",
       "      <td>0.17783</td>\n",
       "      <td>0.0</td>\n",
       "      <td>9.69</td>\n",
       "      <td>0.0</td>\n",
       "      <td>0.585</td>\n",
       "      <td>5.569</td>\n",
       "      <td>73.5</td>\n",
       "      <td>2.3999</td>\n",
       "      <td>6.0</td>\n",
       "      <td>391.0</td>\n",
       "      <td>19.2</td>\n",
       "      <td>395.77</td>\n",
       "      <td>15.10</td>\n",
       "    </tr>\n",
       "    <tr>\n",
       "      <th>500</th>\n",
       "      <td>0.22438</td>\n",
       "      <td>0.0</td>\n",
       "      <td>9.69</td>\n",
       "      <td>0.0</td>\n",
       "      <td>0.585</td>\n",
       "      <td>6.027</td>\n",
       "      <td>79.7</td>\n",
       "      <td>2.4982</td>\n",
       "      <td>6.0</td>\n",
       "      <td>391.0</td>\n",
       "      <td>19.2</td>\n",
       "      <td>396.90</td>\n",
       "      <td>14.33</td>\n",
       "    </tr>\n",
       "    <tr>\n",
       "      <th>502</th>\n",
       "      <td>0.04527</td>\n",
       "      <td>0.0</td>\n",
       "      <td>11.93</td>\n",
       "      <td>0.0</td>\n",
       "      <td>0.573</td>\n",
       "      <td>6.120</td>\n",
       "      <td>76.7</td>\n",
       "      <td>2.2875</td>\n",
       "      <td>1.0</td>\n",
       "      <td>273.0</td>\n",
       "      <td>21.0</td>\n",
       "      <td>396.90</td>\n",
       "      <td>9.08</td>\n",
       "    </tr>\n",
       "    <tr>\n",
       "      <th>504</th>\n",
       "      <td>0.10959</td>\n",
       "      <td>0.0</td>\n",
       "      <td>11.93</td>\n",
       "      <td>0.0</td>\n",
       "      <td>0.573</td>\n",
       "      <td>6.794</td>\n",
       "      <td>89.3</td>\n",
       "      <td>2.3889</td>\n",
       "      <td>1.0</td>\n",
       "      <td>273.0</td>\n",
       "      <td>21.0</td>\n",
       "      <td>393.45</td>\n",
       "      <td>6.48</td>\n",
       "    </tr>\n",
       "  </tbody>\n",
       "</table>\n",
       "<p>284 rows × 13 columns</p>\n",
       "</div>"
      ],
      "text/plain": [
       "        CRIM    ZN  INDUS  CHAS    NOX     RM   AGE     DIS  RAD    TAX  \\\n",
       "0    0.00632  18.0   2.31   0.0  0.538  6.575  65.2  4.0900  1.0  296.0   \n",
       "1    0.02731   0.0   7.07   0.0  0.469  6.421  78.9  4.9671  2.0  242.0   \n",
       "2    0.02729   0.0   7.07   0.0  0.469  7.185  61.1  4.9671  2.0  242.0   \n",
       "3    0.03237   0.0   2.18   0.0  0.458  6.998  45.8  6.0622  3.0  222.0   \n",
       "10   0.22489  12.5   7.87   0.0  0.524  6.377  94.3  6.3467  5.0  311.0   \n",
       "..       ...   ...    ...   ...    ...    ...   ...     ...  ...    ...   \n",
       "496  0.28960   0.0   9.69   0.0  0.585  5.390  72.9  2.7986  6.0  391.0   \n",
       "499  0.17783   0.0   9.69   0.0  0.585  5.569  73.5  2.3999  6.0  391.0   \n",
       "500  0.22438   0.0   9.69   0.0  0.585  6.027  79.7  2.4982  6.0  391.0   \n",
       "502  0.04527   0.0  11.93   0.0  0.573  6.120  76.7  2.2875  1.0  273.0   \n",
       "504  0.10959   0.0  11.93   0.0  0.573  6.794  89.3  2.3889  1.0  273.0   \n",
       "\n",
       "     PTRATIO       B  LSTAT  \n",
       "0       15.3  396.90   4.98  \n",
       "1       17.8  396.90   9.14  \n",
       "2       17.8  392.83   4.03  \n",
       "3       18.7  394.63   2.94  \n",
       "10      15.2  392.52  20.45  \n",
       "..       ...     ...    ...  \n",
       "496     19.2  396.90  21.14  \n",
       "499     19.2  395.77  15.10  \n",
       "500     19.2  396.90  14.33  \n",
       "502     21.0  396.90   9.08  \n",
       "504     21.0  393.45   6.48  \n",
       "\n",
       "[284 rows x 13 columns]"
      ]
     },
     "execution_count": 19,
     "metadata": {},
     "output_type": "execute_result"
    }
   ],
   "source": [
    "lm_fitting_df = boston_dropna_df.drop('y',axis=1)\n",
    "lm_fitting_df"
   ]
  },
  {
   "cell_type": "markdown",
   "id": "5aa78c43",
   "metadata": {},
   "source": [
    "Our target now is the 'AGE' column, we will use the `boston_dropna_df` as the data to fit, we can use data with missing values to train a model"
   ]
  },
  {
   "cell_type": "code",
   "execution_count": 20,
   "id": "93efc88d",
   "metadata": {
    "ExecuteTime": {
     "end_time": "2022-05-03T09:10:06.440385Z",
     "start_time": "2022-05-03T09:10:06.435722Z"
    }
   },
   "outputs": [],
   "source": [
    "lm_for_impute = LinearRegression() #instatiate"
   ]
  },
  {
   "cell_type": "code",
   "execution_count": 22,
   "id": "7cc86dae",
   "metadata": {
    "ExecuteTime": {
     "end_time": "2022-05-03T09:10:26.723896Z",
     "start_time": "2022-05-03T09:10:26.703848Z"
    }
   },
   "outputs": [
    {
     "data": {
      "text/plain": [
       "LinearRegression()"
      ]
     },
     "execution_count": 22,
     "metadata": {},
     "output_type": "execute_result"
    }
   ],
   "source": [
    "lm_for_impute.fit(lm_fitting_df[[x for x in lm_fitting_df.columns if x != 'AGE']],lm_fitting_df['AGE']) #fit"
   ]
  },
  {
   "cell_type": "code",
   "execution_count": 23,
   "id": "3bfd2d9f",
   "metadata": {
    "ExecuteTime": {
     "end_time": "2022-05-03T09:10:35.831506Z",
     "start_time": "2022-05-03T09:10:35.804346Z"
    }
   },
   "outputs": [
    {
     "data": {
      "text/html": [
       "<div>\n",
       "<style scoped>\n",
       "    .dataframe tbody tr th:only-of-type {\n",
       "        vertical-align: middle;\n",
       "    }\n",
       "\n",
       "    .dataframe tbody tr th {\n",
       "        vertical-align: top;\n",
       "    }\n",
       "\n",
       "    .dataframe thead th {\n",
       "        text-align: right;\n",
       "    }\n",
       "</style>\n",
       "<table border=\"1\" class=\"dataframe\">\n",
       "  <thead>\n",
       "    <tr style=\"text-align: right;\">\n",
       "      <th></th>\n",
       "      <th>CRIM</th>\n",
       "      <th>ZN</th>\n",
       "      <th>INDUS</th>\n",
       "      <th>CHAS</th>\n",
       "      <th>NOX</th>\n",
       "      <th>RM</th>\n",
       "      <th>AGE</th>\n",
       "      <th>DIS</th>\n",
       "      <th>RAD</th>\n",
       "      <th>TAX</th>\n",
       "      <th>PTRATIO</th>\n",
       "      <th>B</th>\n",
       "      <th>LSTAT</th>\n",
       "      <th>y</th>\n",
       "    </tr>\n",
       "  </thead>\n",
       "  <tbody>\n",
       "    <tr>\n",
       "      <th>7</th>\n",
       "      <td>0.14455</td>\n",
       "      <td>12.5</td>\n",
       "      <td>7.87</td>\n",
       "      <td>0.0</td>\n",
       "      <td>0.524</td>\n",
       "      <td>6.172</td>\n",
       "      <td>NaN</td>\n",
       "      <td>5.9505</td>\n",
       "      <td>5.0</td>\n",
       "      <td>311.0</td>\n",
       "      <td>15.2</td>\n",
       "      <td>396.90</td>\n",
       "      <td>19.15</td>\n",
       "      <td>27.1</td>\n",
       "    </tr>\n",
       "    <tr>\n",
       "      <th>8</th>\n",
       "      <td>0.21124</td>\n",
       "      <td>12.5</td>\n",
       "      <td>7.87</td>\n",
       "      <td>0.0</td>\n",
       "      <td>0.524</td>\n",
       "      <td>5.631</td>\n",
       "      <td>NaN</td>\n",
       "      <td>6.0821</td>\n",
       "      <td>5.0</td>\n",
       "      <td>311.0</td>\n",
       "      <td>15.2</td>\n",
       "      <td>386.63</td>\n",
       "      <td>29.93</td>\n",
       "      <td>16.5</td>\n",
       "    </tr>\n",
       "    <tr>\n",
       "      <th>9</th>\n",
       "      <td>0.17004</td>\n",
       "      <td>12.5</td>\n",
       "      <td>7.87</td>\n",
       "      <td>0.0</td>\n",
       "      <td>0.524</td>\n",
       "      <td>6.004</td>\n",
       "      <td>NaN</td>\n",
       "      <td>6.5921</td>\n",
       "      <td>5.0</td>\n",
       "      <td>311.0</td>\n",
       "      <td>15.2</td>\n",
       "      <td>386.71</td>\n",
       "      <td>17.10</td>\n",
       "      <td>18.9</td>\n",
       "    </tr>\n",
       "    <tr>\n",
       "      <th>22</th>\n",
       "      <td>1.23247</td>\n",
       "      <td>0.0</td>\n",
       "      <td>8.14</td>\n",
       "      <td>0.0</td>\n",
       "      <td>0.538</td>\n",
       "      <td>6.142</td>\n",
       "      <td>NaN</td>\n",
       "      <td>3.9769</td>\n",
       "      <td>4.0</td>\n",
       "      <td>307.0</td>\n",
       "      <td>21.0</td>\n",
       "      <td>396.90</td>\n",
       "      <td>18.72</td>\n",
       "      <td>15.2</td>\n",
       "    </tr>\n",
       "    <tr>\n",
       "      <th>49</th>\n",
       "      <td>0.21977</td>\n",
       "      <td>0.0</td>\n",
       "      <td>6.91</td>\n",
       "      <td>0.0</td>\n",
       "      <td>0.448</td>\n",
       "      <td>5.602</td>\n",
       "      <td>NaN</td>\n",
       "      <td>6.0877</td>\n",
       "      <td>3.0</td>\n",
       "      <td>233.0</td>\n",
       "      <td>17.9</td>\n",
       "      <td>396.90</td>\n",
       "      <td>16.20</td>\n",
       "      <td>19.4</td>\n",
       "    </tr>\n",
       "  </tbody>\n",
       "</table>\n",
       "</div>"
      ],
      "text/plain": [
       "       CRIM    ZN  INDUS  CHAS    NOX     RM  AGE     DIS  RAD    TAX  \\\n",
       "7   0.14455  12.5   7.87   0.0  0.524  6.172  NaN  5.9505  5.0  311.0   \n",
       "8   0.21124  12.5   7.87   0.0  0.524  5.631  NaN  6.0821  5.0  311.0   \n",
       "9   0.17004  12.5   7.87   0.0  0.524  6.004  NaN  6.5921  5.0  311.0   \n",
       "22  1.23247   0.0   8.14   0.0  0.538  6.142  NaN  3.9769  4.0  307.0   \n",
       "49  0.21977   0.0   6.91   0.0  0.448  5.602  NaN  6.0877  3.0  233.0   \n",
       "\n",
       "    PTRATIO       B  LSTAT     y  \n",
       "7      15.2  396.90  19.15  27.1  \n",
       "8      15.2  386.63  29.93  16.5  \n",
       "9      15.2  386.71  17.10  18.9  \n",
       "22     21.0  396.90  18.72  15.2  \n",
       "49     17.9  396.90  16.20  19.4  "
      ]
     },
     "execution_count": 23,
     "metadata": {},
     "output_type": "execute_result"
    }
   ],
   "source": [
    "boston_impute_df[boston_impute_df['AGE'].isnull()].head()"
   ]
  },
  {
   "cell_type": "code",
   "execution_count": 24,
   "id": "1b274f7d",
   "metadata": {
    "ExecuteTime": {
     "end_time": "2022-05-03T09:10:41.986233Z",
     "start_time": "2022-05-03T09:10:41.971876Z"
    }
   },
   "outputs": [
    {
     "data": {
      "text/plain": [
       "array([ 55.54169435,  55.07036138,  52.62921279,  44.74737697,\n",
       "        60.03002858,  70.11902496,  53.45354189,  60.7868362 ,\n",
       "        56.71243725,  61.59536671,  66.10198784,  62.29115387,\n",
       "        60.47460428,  68.72231216,  80.16101352,  72.0958641 ,\n",
       "        79.32670387,  78.48991559,  73.07135463,  71.53859011,\n",
       "        69.2665315 ,  74.83191928,  71.38293247,  80.76981887,\n",
       "        89.82952408,  77.57092755,  64.08732792,  65.72801111,\n",
       "        59.69618849,  62.43967841,  38.2300336 ,  46.30085778,\n",
       "        48.21844208,  50.07775903,  55.55916465,  70.6686775 ,\n",
       "        52.32604158,  42.75988831,  38.50707539,  35.35046262,\n",
       "        36.64148452,  40.35396953,  21.50470684,  16.97045822,\n",
       "        16.00616149,  39.71182774,  42.23958175,  47.0534663 ,\n",
       "        39.24097878,  31.26427789,  43.04394218,  39.15922121,\n",
       "        47.29790301,  48.91127757,  43.95572658,  47.44971127,\n",
       "        52.45806176,  54.02131554,  60.01513769,  56.95081278,\n",
       "        52.06359895,  44.92205754,  46.78507719,  44.51203122,\n",
       "        44.81365285,  55.35154511,  59.20848849,  57.55600052,\n",
       "        62.52437126,  63.18518726,  64.41444593,  53.88511922,\n",
       "        59.82524614,  58.53837685,  61.96716261,  62.89768679,\n",
       "        60.80844068,  61.99371762,  74.57111789,  76.86705445,\n",
       "        77.07408231,  82.16911491,  84.32515442,  78.52719769,\n",
       "        80.83122788,  73.50949272,  78.53405334,  79.6097385 ,\n",
       "        73.56513997,  77.59586604,  72.81955441,  76.7549388 ,\n",
       "        83.15458218,  84.03995678,  88.95048499,  98.50327561,\n",
       "        88.48042585,  85.61968198, 100.51099487,  92.99287734,\n",
       "        93.21744504,  89.57744642,  87.74462113,  87.61166794,\n",
       "        90.98210148,  93.0684983 ,  93.37503901,  99.61102005,\n",
       "        97.54990976, 105.10334412, 112.85139671, 118.84345313,\n",
       "       115.41748395, 116.36455762, 120.8670342 , 115.7648513 ,\n",
       "       109.32158067, 102.29692522,  97.72349951,  96.97460952,\n",
       "       102.45745058, 105.89272432, 106.38099485, 100.38230452,\n",
       "        72.82077913,  71.1920511 ,  71.59421651,  80.0665855 ,\n",
       "        76.00600096,  74.32118719,  76.66514012,  77.05089863,\n",
       "        74.19335825,  69.57052085,  64.20911217,  60.25348723,\n",
       "        61.44126159,  59.34148281,  64.94138036,  72.00640829,\n",
       "        66.67385607,  65.60922151,  62.89481894,  67.65006979,\n",
       "        66.20110689,  48.36689836,  40.73338706,  34.06541294,\n",
       "        32.43068623,  32.53269438,  30.72960636,  35.42673295,\n",
       "        22.50990401,  27.33154482,  25.63618738,  23.78528394,\n",
       "        24.49794054,  31.48492907,  37.72341782,  61.44838445,\n",
       "        61.82363668,  67.91099899,  68.52758724,  77.14147561,\n",
       "        73.02214943,  79.60140827,  71.78234717,  62.1080347 ,\n",
       "        61.20896624,  73.2151259 ,  67.96981382,  70.72087737,\n",
       "        71.80229848,  81.53943821,  69.70003979,  64.38681312,\n",
       "        63.91847318,  62.77299318,  56.69342855,  62.17922711,\n",
       "        61.57233562,  64.7280724 ,  62.08107057,  63.62074315,\n",
       "        58.50815603,  36.90877382,  38.81646033,  44.62408124,\n",
       "        41.7394145 ,  30.83961995,  35.21596317,  33.17700072,\n",
       "        35.04938362,  36.45898304,  34.19239279,  34.27281786,\n",
       "        31.15710551,  26.33248195,  33.08691529,  14.71256641,\n",
       "        16.86669443,  29.50542325,  73.37904657,  78.12055506,\n",
       "        78.8431258 ,  81.01819739,  77.17041948,  71.30690744,\n",
       "        83.58416346,  64.72465304,  58.23042484,  52.16267999,\n",
       "        57.6525203 ,  62.83836113,  50.76377147,  46.79510456,\n",
       "        53.09125363,  48.05419689,  50.77021919,  47.16791997,\n",
       "        48.11811804,  42.03095037,  46.59300602,  35.25485346,\n",
       "        29.09683245,  25.93696254,  27.18925113,  28.31600081,\n",
       "        38.91216608,  42.48720932,  43.2273755 ,  48.11966555,\n",
       "        21.91057782,  22.66387132,  43.81480501,  42.30414003,\n",
       "        40.03897546,  57.32868736,  59.82712889,  64.3861295 ,\n",
       "        68.81170835,  70.0067314 ,  66.95404069,  74.60134089,\n",
       "        70.74352381,  69.31716983,  68.58935972,  57.84162263,\n",
       "        57.16900848,  55.59134633,  58.93944557,  58.77497228,\n",
       "        40.87956497,  36.84901527,  48.45343138,  52.24131402,\n",
       "        57.3212145 ,  56.52622998,  58.74799571,  59.25421446,\n",
       "        36.51442561,  40.51104318,  23.19430618,  24.01765652,\n",
       "        30.89756215,  12.18889969,   1.00413166,  15.42469586,\n",
       "        13.7434559 ,  99.81896565,  93.24800062,  88.58610742,\n",
       "        88.17904382,  83.5342748 ,  94.9268335 ,  94.59102926,\n",
       "        68.45357016,  72.30044186,  65.55791745,  77.78320624,\n",
       "        80.85571557,  84.16515054, 108.56571889, 109.04469928,\n",
       "        94.12964428, 100.66685366, 101.9497685 ,  98.53885864,\n",
       "        99.05838654,  98.59958378,  98.22753347,  99.53832597,\n",
       "       102.26181588, 106.75590173, 103.81162628,  89.22927375,\n",
       "        91.83317106,  97.39793382,  89.46513254,  93.68500187,\n",
       "        96.29491208, 107.51334214, 104.52731615,  97.9688316 ,\n",
       "        97.82327248,  91.87118886, 103.54210047, 100.55481416,\n",
       "        94.90405018,  93.43438487,  77.5028058 ,  94.1583302 ,\n",
       "       100.18330872,  84.85819251, 110.65056537, 107.80007306,\n",
       "       105.34058696,  99.94826392,  96.91378189,  90.75402374,\n",
       "        78.71603415,  92.5709584 , 100.26043542,  89.17122859,\n",
       "        76.73941243,  91.40679452,  89.66505094,  97.89548247,\n",
       "       107.32149813, 115.99499434,  99.72739138,  99.97331969,\n",
       "        98.36445282,  93.85457672, 102.05044979, 104.87634739,\n",
       "        92.39285404,  94.73319625,  93.80017322,  91.23968152,\n",
       "        95.97065836,  93.72891477,  91.34116299,  87.6999626 ,\n",
       "        88.20598992,  85.22105052,  91.35402114,  87.32499596,\n",
       "        85.46581258,  81.48660571,  78.38046904,  76.62205851,\n",
       "        82.92594374,  84.06073329,  77.87782119,  72.82530371,\n",
       "        75.7554128 ,  67.75027925,  75.38542959,  77.72253741,\n",
       "        86.61843538,  89.76317476,  80.41097879,  63.61086405,\n",
       "        63.24498867,  67.33330062,  64.85822881,  68.00626754,\n",
       "        89.89023859,  97.50579403,  85.30083164,  76.89214857,\n",
       "        81.66920202,  84.65525158,  79.96489117,  80.89032157,\n",
       "        79.36751365,  79.11082277,  76.32716421])"
      ]
     },
     "execution_count": 24,
     "metadata": {},
     "output_type": "execute_result"
    }
   ],
   "source": [
    "lm_for_impute.predict(boston_impute_df.drop(['AGE','y'],axis=1)) \n",
    "#this uses the other features to predict 'AGE' with the model"
   ]
  },
  {
   "cell_type": "code",
   "execution_count": 25,
   "id": "1c4a089e",
   "metadata": {
    "ExecuteTime": {
     "end_time": "2022-05-03T09:10:51.615199Z",
     "start_time": "2022-05-03T09:10:51.606073Z"
    }
   },
   "outputs": [],
   "source": [
    "boston_impute_df['AGE'][boston_impute_df['AGE'].isnull()] = lm_for_impute.predict(boston_impute_df.drop(['AGE','y'],axis=1))"
   ]
  },
  {
   "cell_type": "code",
   "execution_count": 26,
   "id": "74aecdab",
   "metadata": {
    "ExecuteTime": {
     "end_time": "2022-05-03T09:10:59.673223Z",
     "start_time": "2022-05-03T09:10:59.481497Z"
    }
   },
   "outputs": [
    {
     "data": {
      "text/plain": [
       "<AxesSubplot:>"
      ]
     },
     "execution_count": 26,
     "metadata": {},
     "output_type": "execute_result"
    },
    {
     "data": {
      "image/png": "[encoded data removed]",
      "text/plain": [
       "<Figure size 432x288 with 1 Axes>"
      ]
     },
     "metadata": {
      "needs_background": "light"
     },
     "output_type": "display_data"
    }
   ],
   "source": [
    "boxplot = pd.DataFrame({'imputed': boston_impute_df['AGE'],'full': boston_df['AGE'],'dropped': boston_dropna_df['AGE']})\n",
    "boxplot.plot(kind='box')"
   ]
  },
  {
   "cell_type": "markdown",
   "id": "be74be22",
   "metadata": {},
   "source": [
    "So these are the imputed values predicted by the `lm` trained on the data that have a value for 'AGE'."
   ]
  },
  {
   "cell_type": "markdown",
   "id": "a0b987b1",
   "metadata": {},
   "source": [
    "Predicting the price with the full data,\n",
    "\n",
    "\\begin{equation}\n",
    "y_i = \\beta_0 + \\beta_1 X_i + \\epsilon_i\n",
    "\\end{equation}\n"
   ]
  },
  {
   "cell_type": "markdown",
   "id": "1dd6db1e",
   "metadata": {},
   "source": [
    "### Performance of Completed Data"
   ]
  },
  {
   "cell_type": "code",
   "execution_count": 27,
   "id": "9c414ed2",
   "metadata": {
    "ExecuteTime": {
     "end_time": "2022-05-03T09:12:28.082537Z",
     "start_time": "2022-05-03T09:12:28.074842Z"
    }
   },
   "outputs": [],
   "source": [
    "X_train, X_test, y_train, y_test = train_test_split(boston_df.iloc[:,:-1],\n",
    "                                                    boston_df.iloc[:,-1:],\n",
    "                                                    random_state=111)"
   ]
  },
  {
   "cell_type": "code",
   "execution_count": 28,
   "id": "72315f1e",
   "metadata": {
    "ExecuteTime": {
     "end_time": "2022-05-03T09:12:32.911522Z",
     "start_time": "2022-05-03T09:12:32.903171Z"
    }
   },
   "outputs": [
    {
     "name": "stderr",
     "output_type": "stream",
     "text": [
      "/var/folders/4n/y3z900hx7yj7qq3g3q2t8y7m0000gn/T/ipykernel_14284/2239967907.py:1: FutureWarning: The pandas.np module is deprecated and will be removed from pandas in a future version. Import numpy directly instead\n",
      "  map(pd.np.shape,[X_train, X_test, y_train, y_test])\n"
     ]
    },
    {
     "data": {
      "text/plain": [
       "<map at 0x7f981ad6d2e0>"
      ]
     },
     "execution_count": 28,
     "metadata": {},
     "output_type": "execute_result"
    }
   ],
   "source": [
    "map(pd.np.shape,[X_train, X_test, y_train, y_test])"
   ]
  },
  {
   "cell_type": "code",
   "execution_count": 29,
   "id": "d02eb22a",
   "metadata": {
    "ExecuteTime": {
     "end_time": "2022-05-03T09:12:46.622142Z",
     "start_time": "2022-05-03T09:12:46.607572Z"
    }
   },
   "outputs": [
    {
     "data": {
      "text/plain": [
       "LinearRegression()"
      ]
     },
     "execution_count": 29,
     "metadata": {},
     "output_type": "execute_result"
    }
   ],
   "source": [
    "lm_full = LinearRegression()\n",
    "lm_full.fit(X_train,y_train)"
   ]
  },
  {
   "cell_type": "code",
   "execution_count": 34,
   "id": "09d94a64",
   "metadata": {
    "ExecuteTime": {
     "end_time": "2022-05-03T09:17:31.481221Z",
     "start_time": "2022-05-03T09:17:31.473184Z"
    }
   },
   "outputs": [
    {
     "name": "stdout",
     "output_type": "stream",
     "text": [
      "r-squared for completed model =  0.6276426698083191\n"
     ]
    }
   ],
   "source": [
    "print ('r-squared for completed model = ',lm_full.score(X_test,y_test))"
   ]
  },
  {
   "cell_type": "markdown",
   "id": "ac4b5a50",
   "metadata": {},
   "source": [
    "### Performance of Dropped Data"
   ]
  },
  {
   "cell_type": "code",
   "execution_count": 32,
   "id": "715e765e",
   "metadata": {
    "ExecuteTime": {
     "end_time": "2022-05-03T09:16:53.925239Z",
     "start_time": "2022-05-03T09:16:53.918386Z"
    }
   },
   "outputs": [],
   "source": [
    "X_train, X_test, y_train, y_test = train_test_split(boston_dropna_df.iloc[:,:-1],\n",
    "                                                    boston_dropna_df.iloc[:,-1:],\n",
    "                                                    random_state=111)"
   ]
  },
  {
   "cell_type": "code",
   "execution_count": 33,
   "id": "6433b1b3",
   "metadata": {
    "ExecuteTime": {
     "end_time": "2022-05-03T09:16:54.216463Z",
     "start_time": "2022-05-03T09:16:54.199518Z"
    }
   },
   "outputs": [
    {
     "name": "stdout",
     "output_type": "stream",
     "text": [
      "r-squared for this model =  0.621927059680814\n"
     ]
    }
   ],
   "source": [
    "lm_impute = LinearRegression()\n",
    "lm_impute.fit(X_train,y_train)\n",
    "\n",
    "print ('r-squared for this model = ',lm_impute.score(X_test,y_test))"
   ]
  },
  {
   "cell_type": "markdown",
   "id": "60526df7",
   "metadata": {},
   "source": [
    "### Performance of Imputed Data"
   ]
  },
  {
   "cell_type": "code",
   "execution_count": 35,
   "id": "1463ca03",
   "metadata": {
    "ExecuteTime": {
     "end_time": "2022-05-03T09:17:52.560809Z",
     "start_time": "2022-05-03T09:17:52.552733Z"
    }
   },
   "outputs": [],
   "source": [
    "X_train, X_test, y_train, y_test = train_test_split(boston_impute_df.iloc[:,:-1],\n",
    "                                                    boston_impute_df.iloc[:,-1:],\n",
    "                                                    random_state=111)"
   ]
  },
  {
   "cell_type": "code",
   "execution_count": 36,
   "id": "f5e6383c",
   "metadata": {
    "ExecuteTime": {
     "end_time": "2022-05-03T09:17:59.702164Z",
     "start_time": "2022-05-03T09:17:59.691378Z"
    }
   },
   "outputs": [
    {
     "name": "stdout",
     "output_type": "stream",
     "text": [
      "r-squared for this model =  0.7337099982198043\n"
     ]
    }
   ],
   "source": [
    "lm_impute = LinearRegression()\n",
    "lm_impute.fit(X_train,y_train)\n",
    "\n",
    "print ('r-squared for this model = ',lm_impute.score(X_test,y_test))"
   ]
  }
 ],
 "metadata": {
  "kernelspec": {
   "display_name": "Python 3 (ipykernel)",
   "language": "python",
   "name": "python3"
  },
  "language_info": {
   "codemirror_mode": {
    "name": "ipython",
    "version": 3
   },
   "file_extension": ".py",
   "mimetype": "text/x-python",
   "name": "python",
   "nbconvert_exporter": "python",
   "pygments_lexer": "ipython3",
   "version": "3.9.7"
  },
  "toc": {
   "base_numbering": 1,
   "nav_menu": {},
   "number_sections": true,
   "sideBar": true,
   "skip_h1_title": true,
   "title_cell": "Table of Contents",
   "title_sidebar": "Contents",
   "toc_cell": true,
   "toc_position": {},
   "toc_section_display": true,
   "toc_window_display": false
  },
  "varInspector": {
   "cols": {
    "lenName": 16,
    "lenType": 16,
    "lenVar": 40
   },
   "kernels_config": {
    "python": {
     "delete_cmd_postfix": "",
     "delete_cmd_prefix": "del ",
     "library": "var_list.py",
     "varRefreshCmd": "print(var_dic_list())"
    },
    "r": {
     "delete_cmd_postfix": ") ",
     "delete_cmd_prefix": "rm(",
     "library": "var_list.r",
     "varRefreshCmd": "cat(var_dic_list()) "
    }
   },
   "types_to_exclude": [
    "module",
    "function",
    "builtin_function_or_method",
    "instance",
    "_Feature"
   ],
   "window_display": false
  }
 },
 "nbformat": 4,
 "nbformat_minor": 5
}
