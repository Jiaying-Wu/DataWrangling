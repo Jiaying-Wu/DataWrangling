{
 "cells": [
  {
   "cell_type": "markdown",
   "id": "00428e83",
   "metadata": {
    "toc": true
   },
   "source": [
    "<h1>Table of Contents<span class=\"tocSkip\"></span></h1>\n",
    "<div class=\"toc\"><ul class=\"toc-item\"><li><span><a href=\"#Merge\" data-toc-modified-id=\"Merge-1\"><span class=\"toc-item-num\">1&nbsp;&nbsp;</span>Merge</a></span><ul class=\"toc-item\"><li><span><a href=\"#How-to-merge\" data-toc-modified-id=\"How-to-merge-1.1\"><span class=\"toc-item-num\">1.1&nbsp;&nbsp;</span>How to merge</a></span></li><li><span><a href=\"#The-default-&quot;how&quot;-setting-for-merge-is-'inner'!\" data-toc-modified-id=\"The-default-&quot;how&quot;-setting-for-merge-is-'inner'!-1.2\"><span class=\"toc-item-num\">1.2&nbsp;&nbsp;</span>The default \"how\" setting for merge is 'inner'!</a></span></li><li><span><a href=\"#Many-to-many-merge:\" data-toc-modified-id=\"Many-to-many-merge:-1.3\"><span class=\"toc-item-num\">1.3&nbsp;&nbsp;</span>Many-to-many merge:</a></span></li></ul></li><li><span><a href=\"#Join\" data-toc-modified-id=\"Join-2\"><span class=\"toc-item-num\">2&nbsp;&nbsp;</span>Join</a></span></li><li><span><a href=\"#Combining-data-with-overlap\" data-toc-modified-id=\"Combining-data-with-overlap-3\"><span class=\"toc-item-num\">3&nbsp;&nbsp;</span>Combining data with overlap</a></span></li><li><span><a href=\"#Basic-data-Reshaping:\" data-toc-modified-id=\"Basic-data-Reshaping:-4\"><span class=\"toc-item-num\">4&nbsp;&nbsp;</span>Basic data Reshaping:</a></span><ul class=\"toc-item\"><li><span><a href=\"#Hierarchical-indexing-:-Stack-and-unstack\" data-toc-modified-id=\"Hierarchical-indexing-:-Stack-and-unstack-4.1\"><span class=\"toc-item-num\">4.1&nbsp;&nbsp;</span>Hierarchical indexing : Stack and unstack</a></span></li><li><span><a href=\"#Duplication\" data-toc-modified-id=\"Duplication-4.2\"><span class=\"toc-item-num\">4.2&nbsp;&nbsp;</span>Duplication</a></span></li><li><span><a href=\"#Renaming-axis-indexes:\" data-toc-modified-id=\"Renaming-axis-indexes:-4.3\"><span class=\"toc-item-num\">4.3&nbsp;&nbsp;</span>Renaming axis indexes:</a></span></li></ul></li></ul></div>"
   ]
  },
  {
   "cell_type": "markdown",
   "id": "7ad91253",
   "metadata": {},
   "source": [
    "# Data Integration with `pandas`\n",
    "\n",
    "There are four ways to merge/combine between different DataFrames in pandas: concatenating, appending, merging and joining. Each has its own use cases and best practice. "
   ]
  },
  {
   "cell_type": "markdown",
   "id": "96fa7389",
   "metadata": {},
   "source": [
    "## Merge\n",
    "\n",
    "Concat and append have limited capabilities in joining tables through keys and considering the inter-relationship between tables. Merge and join on the other hand combine DataFrames based on a key. According to concepts of relational databases like SQL, there are three types of relationships between tables:\n",
    "\n",
    "1.\t**One-to-one:** When each primary key value relates to only one (or no) record in the related table.\n",
    "\n",
    "2.\t**One-to-many:** When the primary key table contains only one record that relates to none, one, or many records in the related table.\n",
    "\n",
    "3.\t**Many-to-many:** When each record in both tables can relate to any number of records (or no records) in the other table.\n",
    "\n",
    "We will discuss in the following how merge manages the three types of relationships. The following is an example of using merge for one-to-many relationship between table respresnts customer details and shopping history for each customer. "
   ]
  },
  {
   "cell_type": "code",
   "execution_count": 11,
   "id": "f202b7d7",
   "metadata": {
    "ExecuteTime": {
     "end_time": "2022-05-30T05:05:15.107205Z",
     "start_time": "2022-05-30T05:05:15.087898Z"
    }
   },
   "outputs": [
    {
     "name": "stdout",
     "output_type": "stream",
     "text": [
      "  Customer_ID First_Name Last_Name\n",
      "0           1         A1        B1\n",
      "1           2         A2        B2\n",
      "2           3         A3        B3\n",
      "3           4         A4        B4\n",
      "  Customer_ID Product_ID product\n",
      "0           1        100     Oil\n",
      "1           1        200   Sugar\n",
      "2           1        300     Tea\n",
      "3           4        400    Milk\n",
      "4           5        500    Eggs\n",
      "  Customer_ID First_Name Last_Name Product_ID product\n",
      "0           1         A1        B1        100     Oil\n",
      "1           1         A1        B1        200   Sugar\n",
      "2           1         A1        B1        300     Tea\n",
      "3           4         A4        B4        400    Milk\n"
     ]
    }
   ],
   "source": [
    "import pandas as pd\n",
    "import numpy as np\n",
    "customers= pd.DataFrame({'Customer_ID': ['1', '2', '3', '4'],\n",
    "                      'First_Name': ['A1','A2','A3','A4'],\n",
    "                    'Last_Name': ['B1', 'B2', 'B3', 'B4']})\n",
    "shopping_history= pd.DataFrame({'Customer_ID': ['1', '1', '1', '4','5'],\n",
    "                            'Product_ID':['100','200','300','400','500'],\n",
    "                      'product': ['Oil','Sugar','Tea','Milk','Eggs']})\n",
    "merged_df= pd.merge(customers,shopping_history)\n",
    "print(customers)\n",
    "print(shopping_history)\n",
    "print(merged_df)"
   ]
  },
  {
   "cell_type": "code",
   "execution_count": 3,
   "id": "c09a4515",
   "metadata": {
    "ExecuteTime": {
     "end_time": "2022-05-30T04:06:49.609339Z",
     "start_time": "2022-05-30T04:06:49.586573Z"
    }
   },
   "outputs": [
    {
     "name": "stdout",
     "output_type": "stream",
     "text": [
      "  Customer_ID First_Name Last_Name Product_ID product\n",
      "0           1         A1        B1        100     Oil\n",
      "1           1         A1        B1        200   Sugar\n",
      "2           1         A1        B1        300     Tea\n",
      "3           4         A4        B4        400    Milk\n"
     ]
    }
   ],
   "source": [
    "merged_df= pd.merge(customers,shopping_history, on=\"Customer_ID\")\n",
    "print (merged_df)"
   ]
  },
  {
   "cell_type": "markdown",
   "id": "f7cae8b1",
   "metadata": {},
   "source": [
    "### How to merge\n",
    "\n",
    "When there are no common columns between the DataFrames, you need to specify the key to merge on. Use on, left_on and right_on attributes to define the key in DataFrames."
   ]
  },
  {
   "cell_type": "code",
   "execution_count": 4,
   "id": "b5d66df2",
   "metadata": {
    "ExecuteTime": {
     "end_time": "2022-05-30T04:22:20.249846Z",
     "start_time": "2022-05-30T04:22:20.233261Z"
    }
   },
   "outputs": [
    {
     "name": "stdout",
     "output_type": "stream",
     "text": [
      "  CID First_Name Last_Name\n",
      "0   1         A1        B1\n",
      "1   2         A2        B2\n",
      "2   3         A3        B3\n",
      "3   4         A4        B4\n",
      "  Customer_ID Product_ID product\n",
      "0           1        100     Oil\n",
      "1           1        200   Sugar\n",
      "2           1        300     Tea\n",
      "3           4        400    Milk\n",
      "4           5        500    Eggs\n",
      "  CID First_Name Last_Name Customer_ID Product_ID product\n",
      "0   1         A1        B1           1        100     Oil\n",
      "1   1         A1        B1           1        200   Sugar\n",
      "2   1         A1        B1           1        300     Tea\n",
      "3   4         A4        B4           4        400    Milk\n"
     ]
    }
   ],
   "source": [
    "customers2= pd.DataFrame({'CID': ['1', '2', '3', '4'],\n",
    "                      'First_Name': ['A1','A2','A3','A4'],\n",
    "                    'Last_Name': ['B1', 'B2', 'B3', 'B4']})\n",
    "merged_onkey= pd.merge(customers2,shopping_history,left_on='CID',right_on='Customer_ID')\n",
    "print (customers2) \n",
    "print (shopping_history)\n",
    "print (merged_onkey)"
   ]
  },
  {
   "cell_type": "markdown",
   "id": "cc44fc52",
   "metadata": {},
   "source": [
    "### The default \"how\" setting for merge is 'inner'!\n",
    "\n",
    "In the joined table, some records are deleted because they do not have a corresponding record in the original DataFrame (such as customer 2,3,5 and Eggs). This happens because the deafult method for merging is the inner join. For zero information loss, you can use outer join instead. The outer join could be full outer (getting full information from both DataFrames), left (only from the left DataFrame) or right (using left, right methods). "
   ]
  },
  {
   "cell_type": "code",
   "execution_count": 5,
   "id": "08f283e0",
   "metadata": {
    "ExecuteTime": {
     "end_time": "2022-05-30T04:33:35.269174Z",
     "start_time": "2022-05-30T04:33:35.239102Z"
    }
   },
   "outputs": [
    {
     "name": "stdout",
     "output_type": "stream",
     "text": [
      "  Customer_ID First_Name Last_Name\n",
      "0           1         A1        B1\n",
      "1           2         A2        B2\n",
      "2           3         A3        B3\n",
      "3           4         A4        B4\n",
      "  Customer_ID Product_ID product\n",
      "0           1        100     Oil\n",
      "1           1        200   Sugar\n",
      "2           1        300     Tea\n",
      "3           4        400    Milk\n",
      "4           5        500    Eggs\n",
      "  Customer_ID First_Name Last_Name Product_ID product\n",
      "0           1         A1        B1        100     Oil\n",
      "1           1         A1        B1        200   Sugar\n",
      "2           1         A1        B1        300     Tea\n",
      "3           2         A2        B2        NaN     NaN\n",
      "4           3         A3        B3        NaN     NaN\n",
      "5           4         A4        B4        400    Milk\n",
      "6           5        NaN       NaN        500    Eggs\n",
      "  Customer_ID First_Name Last_Name Product_ID product\n",
      "0           1         A1        B1        100     Oil\n",
      "1           1         A1        B1        200   Sugar\n",
      "2           1         A1        B1        300     Tea\n",
      "3           2         A2        B2        NaN     NaN\n",
      "4           3         A3        B3        NaN     NaN\n",
      "5           4         A4        B4        400    Milk\n",
      "  Customer_ID Product_ID product First_Name Last_Name\n",
      "0           1        100     Oil         A1        B1\n",
      "1           1        200   Sugar         A1        B1\n",
      "2           1        300     Tea         A1        B1\n",
      "3           2        NaN     NaN         A2        B2\n",
      "4           3        NaN     NaN         A3        B3\n",
      "5           4        400    Milk         A4        B4\n"
     ]
    }
   ],
   "source": [
    "print (customers)\n",
    "print (shopping_history)\n",
    "merged_outer= pd.merge(customers,shopping_history, how='outer')\n",
    "print (merged_outer)\n",
    "merged_left= pd.merge(customers,shopping_history, how='left')\n",
    "print (merged_left)\n",
    "merged_right= pd.merge(shopping_history,customers, how='right')\n",
    "print (merged_right)"
   ]
  },
  {
   "cell_type": "markdown",
   "id": "d839a453",
   "metadata": {},
   "source": [
    "### Many-to-many merge:\n",
    "A more complicated relationship to manage using merge method is the many-to-many. Consider the example of customers and products. The customer DataFrame contains information about customers, while products has details about differnt grocery items. One customer can buy non or many products, and any product can be purchased by non or many customers. Pandas manage this relationship using merge method. Like SQL's JOIN clause, pandas.merge allows two DataFrames to be joined on one or more keys. The function provides a series of parameters (on, left_on, right_on, left_index, right_index) allowing you to specify the columns or indexes on which to join. In version 0.17.0. Pandas added the argument indicator. If True, a Categorical-type column called _merge will be added to the output object that takes on values. Here is a simple example."
   ]
  },
  {
   "cell_type": "code",
   "execution_count": 6,
   "id": "663126f4",
   "metadata": {
    "ExecuteTime": {
     "end_time": "2022-05-30T04:36:58.054715Z",
     "start_time": "2022-05-30T04:36:58.026133Z"
    }
   },
   "outputs": [
    {
     "name": "stdout",
     "output_type": "stream",
     "text": [
      "  key  d1\n",
      "0   a   0\n",
      "1   a   1\n",
      "2   b   2\n",
      "3   c   3\n",
      "4   a   4\n",
      "5   b   5\n",
      "6   c   6\n",
      "  key  d1\n",
      "0   d   0\n",
      "1   d   1\n",
      "2   b   2\n",
      "3   b   3\n",
      "4   b   4\n",
      "5   a   5\n",
      "   key  d1        True\n",
      "0    a   0   left_only\n",
      "1    a   1   left_only\n",
      "2    b   2        both\n",
      "3    c   3   left_only\n",
      "4    a   4   left_only\n",
      "5    b   5   left_only\n",
      "6    c   6   left_only\n",
      "7    d   0  right_only\n",
      "8    d   1  right_only\n",
      "9    b   3  right_only\n",
      "10   b   4  right_only\n",
      "11   a   5  right_only\n"
     ]
    }
   ],
   "source": [
    "df1 = pd.DataFrame({'key': ['a', 'a', 'b', 'c', 'a', 'b','c'], 'd1': range(7)})\n",
    "df2 = pd.DataFrame({'key': ['d', 'd', 'b', 'b', 'b', 'a'], 'd1': range(6)})\n",
    "print (df1)\n",
    "print (df2)\n",
    "merge= pd.merge(df1,df2, how='outer',indicator='True')\n",
    "print (merge)"
   ]
  },
  {
   "cell_type": "code",
   "execution_count": 7,
   "id": "fb30841d",
   "metadata": {
    "ExecuteTime": {
     "end_time": "2022-05-30T04:37:50.246961Z",
     "start_time": "2022-05-30T04:37:50.223147Z"
    }
   },
   "outputs": [
    {
     "name": "stdout",
     "output_type": "stream",
     "text": [
      "  key  d1\n",
      "0   a   0\n",
      "1   a   1\n",
      "2   b   2\n",
      "3   c   3\n",
      "4   a   4\n",
      "5   b   5\n",
      "6   c   6\n",
      "  key  d1\n",
      "0   d   0\n",
      "1   d   1\n",
      "2   b   2\n",
      "3   b   3\n",
      "4   b   4\n",
      "5   a   5\n",
      "  key_x  d1 key_y       True\n",
      "0     a   0     d       both\n",
      "1     a   1     d       both\n",
      "2     b   2     b       both\n",
      "3     c   3     b       both\n",
      "4     a   4     b       both\n",
      "5     b   5     a       both\n",
      "6     c   6   NaN  left_only\n"
     ]
    }
   ],
   "source": [
    "print (df1)\n",
    "print (df2)\n",
    "merge= pd.merge(df1,df2, how='outer',indicator='True', on='d1')\n",
    "print (merge)"
   ]
  },
  {
   "cell_type": "markdown",
   "id": "79d289e2",
   "metadata": {},
   "source": [
    "In cases that there is a meaningful index in one of the columns, this index can replace the original DataFrame index. By default, set index returns a new DataFrame, so you will have to specify if you would like the changes to occur in place."
   ]
  },
  {
   "cell_type": "markdown",
   "id": "2419e919",
   "metadata": {},
   "source": [
    "## Join"
   ]
  },
  {
   "cell_type": "code",
   "execution_count": 8,
   "id": "e92f59f6",
   "metadata": {
    "ExecuteTime": {
     "end_time": "2022-05-30T05:01:00.458391Z",
     "start_time": "2022-05-30T05:01:00.447274Z"
    }
   },
   "outputs": [
    {
     "name": "stdout",
     "output_type": "stream",
     "text": [
      "            First_Name Last_Name\n",
      "Customer_ID                     \n",
      "1                   A1        B1\n",
      "2                   A2        B2\n",
      "3                   A3        B3\n",
      "4                   A4        B4\n",
      "            Product_ID product\n",
      "Customer_ID                   \n",
      "1                  100     Oil\n",
      "1                  200   Sugar\n",
      "1                  300     Tea\n",
      "4                  400    Milk\n",
      "5                  500    Eggs\n"
     ]
    }
   ],
   "source": [
    "customers.set_index('Customer_ID', inplace=True)\n",
    "shopping_history.set_index('Customer_ID', inplace=True)\n",
    "print (customers)\n",
    "print (shopping_history)"
   ]
  },
  {
   "cell_type": "markdown",
   "id": "fb5a328e",
   "metadata": {},
   "source": [
    "The DataFrame also has a convenient join method for merging on the index. This is used when you have objects with similar row labels, but different columns."
   ]
  },
  {
   "cell_type": "code",
   "execution_count": 9,
   "id": "287331ec",
   "metadata": {
    "ExecuteTime": {
     "end_time": "2022-05-30T05:02:43.440979Z",
     "start_time": "2022-05-30T05:02:43.424467Z"
    }
   },
   "outputs": [
    {
     "name": "stdout",
     "output_type": "stream",
     "text": [
      "            First_Name Last_Name\n",
      "Customer_ID                     \n",
      "1                   A1        B1\n",
      "2                   A2        B2\n",
      "3                   A3        B3\n",
      "4                   A4        B4\n",
      "            Product_ID product\n",
      "Customer_ID                   \n",
      "1                  100     Oil\n",
      "1                  200   Sugar\n",
      "1                  300     Tea\n",
      "4                  400    Milk\n",
      "5                  500    Eggs\n",
      "            First_Name Last_Name Product_ID product\n",
      "Customer_ID                                        \n",
      "1                   A1        B1        100     Oil\n",
      "1                   A1        B1        200   Sugar\n",
      "1                   A1        B1        300     Tea\n",
      "2                   A2        B2        NaN     NaN\n",
      "3                   A3        B3        NaN     NaN\n",
      "4                   A4        B4        400    Milk\n",
      "5                  NaN       NaN        500    Eggs\n"
     ]
    }
   ],
   "source": [
    "joined= customers.join(shopping_history,how=\"outer\")\n",
    "print (customers)\n",
    "print (shopping_history)\n",
    "print (joined)"
   ]
  },
  {
   "cell_type": "markdown",
   "id": "afa75e34",
   "metadata": {},
   "source": [
    "## Combining data with overlap\n",
    "\n",
    "We use this method when we want to “patch” values in one object from values for matching indices in the other. Note that this method only takes values from the right DataFrame if they are missing in the left DataFrame. Consider the following example:"
   ]
  },
  {
   "cell_type": "code",
   "execution_count": 10,
   "id": "a58db74b",
   "metadata": {
    "ExecuteTime": {
     "end_time": "2022-05-30T05:03:32.843582Z",
     "start_time": "2022-05-30T05:03:32.818404Z"
    }
   },
   "outputs": [
    {
     "name": "stdout",
     "output_type": "stream",
     "text": [
      "     0   1    2\n",
      "0  1.0   3  NaN\n",
      "1  NaN  10  NaN\n",
      "2  NaN   5  3.0\n",
      "      0    1    2\n",
      "0  10.0  NaN  4.0\n",
      "1   NaN  5.0  3.0\n",
      "2   2.0  4.0  NaN\n",
      "     0     1    2\n",
      "0  1.0   3.0  4.0\n",
      "1  NaN  10.0  3.0\n",
      "2  2.0   5.0  3.0\n"
     ]
    }
   ],
   "source": [
    "import numpy as np\n",
    "data1= pd.DataFrame([[1,3,np.nan],[np.nan,10,np.nan],[np.nan,5,3]])\n",
    "data2= pd.DataFrame([[10,np.nan,4],[np.nan,5,3],[2,4,np.nan]])\n",
    "print (data1)\n",
    "print (data2)\n",
    "data= data1.combine_first(data2)\n",
    "print (data)"
   ]
  },
  {
   "cell_type": "markdown",
   "id": "f43979d6",
   "metadata": {},
   "source": [
    "## Basic data Reshaping: \n",
    "\n",
    "### Hierarchical indexing : Stack and unstack \n",
    "\n",
    "Hierarchical indexing provides a more structure way of presenting tabular data. There are two main methods for pivoting data with Hierarchical indexing. \n",
    "\n",
    "* stack: this “rotates” or pivots from the columns in the data to the rows\n",
    "* unstack: this pivots from the rows into the columns"
   ]
  },
  {
   "cell_type": "code",
   "execution_count": 14,
   "id": "599e1681",
   "metadata": {
    "ExecuteTime": {
     "end_time": "2022-05-30T05:07:34.897801Z",
     "start_time": "2022-05-30T05:07:34.884116Z"
    }
   },
   "outputs": [
    {
     "name": "stdout",
     "output_type": "stream",
     "text": [
      "                     A         B\n",
      "first second                    \n",
      "L1_A  L2_1   -0.885529 -2.050589\n",
      "      L2_2    0.900622 -1.049695\n",
      "L1_B  L2_1    0.302075 -0.415061\n",
      "      L2_2    0.336935 -0.934590\n",
      "L1_C  L2_1    0.298216  0.834307\n",
      "      L2_2   -1.675568 -0.130639\n",
      "L1_D  L2_1    1.203295  0.463200\n",
      "      L2_2   -0.115449  1.655784\n",
      "first  second   \n",
      "L1_A   L2_1    A   -0.885529\n",
      "               B   -2.050589\n",
      "       L2_2    A    0.900622\n",
      "               B   -1.049695\n",
      "L1_B   L2_1    A    0.302075\n",
      "               B   -0.415061\n",
      "       L2_2    A    0.336935\n",
      "               B   -0.934590\n",
      "L1_C   L2_1    A    0.298216\n",
      "               B    0.834307\n",
      "       L2_2    A   -1.675568\n",
      "               B   -0.130639\n",
      "L1_D   L2_1    A    1.203295\n",
      "               B    0.463200\n",
      "       L2_2    A   -0.115449\n",
      "               B    1.655784\n",
      "dtype: float64\n"
     ]
    }
   ],
   "source": [
    "tuples = list(zip(*[['L1_A', 'L1_A', 'L1_B', 'L1_B','L1_C', 'L1_C', 'L1_D', 'L1_D'], \n",
    "                    ['L2_1', 'L2_2', 'L2_1','L2_2','L2_1', 'L2_2', 'L2_1','L2_2']]))\n",
    "index = pd.MultiIndex.from_tuples(tuples, names=['first', 'second'])\n",
    "data = pd.DataFrame(np.random.randn(8, 2), index=index, columns=['A', 'B'])\n",
    "print(data)\n",
    "result = data.stack()\n",
    "print(result)"
   ]
  },
  {
   "cell_type": "code",
   "execution_count": 13,
   "id": "36a94682",
   "metadata": {
    "ExecuteTime": {
     "end_time": "2022-05-30T05:05:33.053616Z",
     "start_time": "2022-05-30T05:05:33.028457Z"
    }
   },
   "outputs": [
    {
     "data": {
      "text/html": [
       "<div>\n",
       "<style scoped>\n",
       "    .dataframe tbody tr th:only-of-type {\n",
       "        vertical-align: middle;\n",
       "    }\n",
       "\n",
       "    .dataframe tbody tr th {\n",
       "        vertical-align: top;\n",
       "    }\n",
       "\n",
       "    .dataframe thead tr th {\n",
       "        text-align: left;\n",
       "    }\n",
       "\n",
       "    .dataframe thead tr:last-of-type th {\n",
       "        text-align: right;\n",
       "    }\n",
       "</style>\n",
       "<table border=\"1\" class=\"dataframe\">\n",
       "  <thead>\n",
       "    <tr>\n",
       "      <th></th>\n",
       "      <th colspan=\"2\" halign=\"left\">A</th>\n",
       "      <th colspan=\"2\" halign=\"left\">B</th>\n",
       "    </tr>\n",
       "    <tr>\n",
       "      <th>second</th>\n",
       "      <th>L2_1</th>\n",
       "      <th>L2_2</th>\n",
       "      <th>L2_1</th>\n",
       "      <th>L2_2</th>\n",
       "    </tr>\n",
       "    <tr>\n",
       "      <th>first</th>\n",
       "      <th></th>\n",
       "      <th></th>\n",
       "      <th></th>\n",
       "      <th></th>\n",
       "    </tr>\n",
       "  </thead>\n",
       "  <tbody>\n",
       "    <tr>\n",
       "      <th>L1_A</th>\n",
       "      <td>0.531221</td>\n",
       "      <td>0.035309</td>\n",
       "      <td>-0.208840</td>\n",
       "      <td>-0.604975</td>\n",
       "    </tr>\n",
       "    <tr>\n",
       "      <th>L1_B</th>\n",
       "      <td>0.244420</td>\n",
       "      <td>-0.335794</td>\n",
       "      <td>-0.159944</td>\n",
       "      <td>-0.331012</td>\n",
       "    </tr>\n",
       "    <tr>\n",
       "      <th>L1_C</th>\n",
       "      <td>0.938382</td>\n",
       "      <td>0.447665</td>\n",
       "      <td>0.502007</td>\n",
       "      <td>1.830525</td>\n",
       "    </tr>\n",
       "    <tr>\n",
       "      <th>L1_D</th>\n",
       "      <td>1.193371</td>\n",
       "      <td>1.163797</td>\n",
       "      <td>-0.245722</td>\n",
       "      <td>-0.392397</td>\n",
       "    </tr>\n",
       "  </tbody>\n",
       "</table>\n",
       "</div>"
      ],
      "text/plain": [
       "               A                   B          \n",
       "second      L2_1      L2_2      L2_1      L2_2\n",
       "first                                         \n",
       "L1_A    0.531221  0.035309 -0.208840 -0.604975\n",
       "L1_B    0.244420 -0.335794 -0.159944 -0.331012\n",
       "L1_C    0.938382  0.447665  0.502007  1.830525\n",
       "L1_D    1.193371  1.163797 -0.245722 -0.392397"
      ]
     },
     "execution_count": 13,
     "metadata": {},
     "output_type": "execute_result"
    }
   ],
   "source": [
    "data.unstack()"
   ]
  },
  {
   "cell_type": "markdown",
   "id": "440861c8",
   "metadata": {},
   "source": [
    "### Duplication\n",
    "\n",
    "The DataFrame method 'duplicated' returns a Boolean Series indicating whether each row is a duplicate or not:"
   ]
  },
  {
   "cell_type": "code",
   "execution_count": 16,
   "id": "d16708af",
   "metadata": {
    "ExecuteTime": {
     "end_time": "2022-05-30T05:10:12.944775Z",
     "start_time": "2022-05-30T05:10:12.932652Z"
    }
   },
   "outputs": [
    {
     "data": {
      "text/plain": [
       "first  second\n",
       "L1_A   L2_1      False\n",
       "       L2_2      False\n",
       "L1_B   L2_1      False\n",
       "       L2_2      False\n",
       "L1_C   L2_1      False\n",
       "       L2_2      False\n",
       "L1_D   L2_1      False\n",
       "       L2_2      False\n",
       "dtype: bool"
      ]
     },
     "execution_count": 16,
     "metadata": {},
     "output_type": "execute_result"
    }
   ],
   "source": [
    "data.duplicated()"
   ]
  },
  {
   "cell_type": "markdown",
   "id": "507b7030",
   "metadata": {},
   "source": [
    "Relatedly, 'drop_duplicates' returns a DataFrame where the duplicated array is without duplicated rows."
   ]
  },
  {
   "cell_type": "code",
   "execution_count": 17,
   "id": "87510c97",
   "metadata": {
    "ExecuteTime": {
     "end_time": "2022-05-30T05:10:30.668754Z",
     "start_time": "2022-05-30T05:10:30.656550Z"
    }
   },
   "outputs": [
    {
     "name": "stdout",
     "output_type": "stream",
     "text": [
      "       k1  k2\n",
      "0    Milk   1\n",
      "1    Milk   1\n",
      "2    Milk   2\n",
      "3  Cheese   3\n",
      "4  Cheese   3\n",
      "5  Cheese   4\n",
      "6  Cheese   4\n",
      "       k1  k2\n",
      "0    Milk   1\n",
      "2    Milk   2\n",
      "3  Cheese   3\n",
      "5  Cheese   4\n"
     ]
    }
   ],
   "source": [
    "data = pd.DataFrame({'k1': ['Milk'] * 3 + ['Cheese'] * 4,  'k2': [1, 1, 2, 3, 3, 4, 4]})\n",
    "print (data)\n",
    "data.duplicated()\n",
    "cleandata= data.drop_duplicates()\n",
    "print (cleandata)"
   ]
  },
  {
   "cell_type": "markdown",
   "id": "7ce9fb7c",
   "metadata": {},
   "source": [
    "As you may have noticed, applying drop_duplicates on the whole DataFrame considrs all othe columns together. We can alternatively specify which column we want to capture the duplication at."
   ]
  },
  {
   "cell_type": "code",
   "execution_count": 18,
   "id": "59472736",
   "metadata": {
    "ExecuteTime": {
     "end_time": "2022-05-30T05:10:59.331438Z",
     "start_time": "2022-05-30T05:10:59.321161Z"
    }
   },
   "outputs": [
    {
     "name": "stdout",
     "output_type": "stream",
     "text": [
      "       k1  k2\n",
      "0    Milk   1\n",
      "3  Cheese   3\n",
      "       k1  k2\n",
      "0    Milk   1\n",
      "2    Milk   2\n",
      "3  Cheese   3\n",
      "5  Cheese   4\n"
     ]
    }
   ],
   "source": [
    "v1= data.drop_duplicates(['k1'])\n",
    "print (v1)\n",
    "v2=  data.drop_duplicates(['k2'])\n",
    "print (v2)"
   ]
  },
  {
   "cell_type": "markdown",
   "id": "1d47e615",
   "metadata": {},
   "source": [
    "### Renaming axis indexes: \n",
    "\n",
    "Pandas enable modifying the current attribute name using map or renaming methods. Example is as follows:"
   ]
  },
  {
   "cell_type": "code",
   "execution_count": 19,
   "id": "b71a6523",
   "metadata": {
    "ExecuteTime": {
     "end_time": "2022-05-30T05:11:34.075234Z",
     "start_time": "2022-05-30T05:11:34.059007Z"
    }
   },
   "outputs": [
    {
     "name": "stdout",
     "output_type": "stream",
     "text": [
      "          day1  day2  day3  day4\n",
      "nsw          0     1     2     3\n",
      "vic          4     5     6     7\n",
      "tasmania     8     9    10    11\n"
     ]
    },
    {
     "data": {
      "text/html": [
       "<div>\n",
       "<style scoped>\n",
       "    .dataframe tbody tr th:only-of-type {\n",
       "        vertical-align: middle;\n",
       "    }\n",
       "\n",
       "    .dataframe tbody tr th {\n",
       "        vertical-align: top;\n",
       "    }\n",
       "\n",
       "    .dataframe thead th {\n",
       "        text-align: right;\n",
       "    }\n",
       "</style>\n",
       "<table border=\"1\" class=\"dataframe\">\n",
       "  <thead>\n",
       "    <tr style=\"text-align: right;\">\n",
       "      <th></th>\n",
       "      <th>DAY1</th>\n",
       "      <th>DAY2</th>\n",
       "      <th>DAY3</th>\n",
       "      <th>DAY4</th>\n",
       "    </tr>\n",
       "  </thead>\n",
       "  <tbody>\n",
       "    <tr>\n",
       "      <th>NSW</th>\n",
       "      <td>0</td>\n",
       "      <td>1</td>\n",
       "      <td>2</td>\n",
       "      <td>3</td>\n",
       "    </tr>\n",
       "    <tr>\n",
       "      <th>VIC</th>\n",
       "      <td>4</td>\n",
       "      <td>5</td>\n",
       "      <td>6</td>\n",
       "      <td>7</td>\n",
       "    </tr>\n",
       "    <tr>\n",
       "      <th>TASMANIA</th>\n",
       "      <td>8</td>\n",
       "      <td>9</td>\n",
       "      <td>10</td>\n",
       "      <td>11</td>\n",
       "    </tr>\n",
       "  </tbody>\n",
       "</table>\n",
       "</div>"
      ],
      "text/plain": [
       "          DAY1  DAY2  DAY3  DAY4\n",
       "NSW          0     1     2     3\n",
       "VIC          4     5     6     7\n",
       "TASMANIA     8     9    10    11"
      ]
     },
     "execution_count": 19,
     "metadata": {},
     "output_type": "execute_result"
    }
   ],
   "source": [
    "idf= pd.DataFrame(np.arange(12).reshape((3, 4)), \n",
    "                  index=['nsw', 'vic', 'tasmania'],\n",
    "                  columns=['day1', 'day2', 'day3', 'day4'])\n",
    "print (idf)\n",
    "idf.index.map(str.upper)\n",
    "idf.rename(index=str.upper, columns=str.upper)"
   ]
  },
  {
   "cell_type": "code",
   "execution_count": 20,
   "id": "8ed560ac",
   "metadata": {
    "ExecuteTime": {
     "end_time": "2022-05-30T05:11:40.075702Z",
     "start_time": "2022-05-30T05:11:40.066671Z"
    }
   },
   "outputs": [
    {
     "data": {
      "text/html": [
       "<div>\n",
       "<style scoped>\n",
       "    .dataframe tbody tr th:only-of-type {\n",
       "        vertical-align: middle;\n",
       "    }\n",
       "\n",
       "    .dataframe tbody tr th {\n",
       "        vertical-align: top;\n",
       "    }\n",
       "\n",
       "    .dataframe thead th {\n",
       "        text-align: right;\n",
       "    }\n",
       "</style>\n",
       "<table border=\"1\" class=\"dataframe\">\n",
       "  <thead>\n",
       "    <tr style=\"text-align: right;\">\n",
       "      <th></th>\n",
       "      <th>day1</th>\n",
       "      <th>day2</th>\n",
       "      <th>day3</th>\n",
       "      <th>day4</th>\n",
       "    </tr>\n",
       "  </thead>\n",
       "  <tbody>\n",
       "    <tr>\n",
       "      <th>nsw</th>\n",
       "      <td>0</td>\n",
       "      <td>1</td>\n",
       "      <td>2</td>\n",
       "      <td>3</td>\n",
       "    </tr>\n",
       "    <tr>\n",
       "      <th>vic</th>\n",
       "      <td>4</td>\n",
       "      <td>5</td>\n",
       "      <td>6</td>\n",
       "      <td>7</td>\n",
       "    </tr>\n",
       "    <tr>\n",
       "      <th>tasmania</th>\n",
       "      <td>8</td>\n",
       "      <td>9</td>\n",
       "      <td>10</td>\n",
       "      <td>11</td>\n",
       "    </tr>\n",
       "  </tbody>\n",
       "</table>\n",
       "</div>"
      ],
      "text/plain": [
       "          day1  day2  day3  day4\n",
       "nsw          0     1     2     3\n",
       "vic          4     5     6     7\n",
       "tasmania     8     9    10    11"
      ]
     },
     "execution_count": 20,
     "metadata": {},
     "output_type": "execute_result"
    }
   ],
   "source": [
    "idf"
   ]
  },
  {
   "cell_type": "markdown",
   "id": "a72b03a1",
   "metadata": {},
   "source": [
    "Please note rename keeps the original value of the data unchanged. To change the original DataFrame, you need to do that in place. You can also rename a subset of columns."
   ]
  },
  {
   "cell_type": "code",
   "execution_count": 21,
   "id": "a7495bdc",
   "metadata": {
    "ExecuteTime": {
     "end_time": "2022-05-30T05:12:06.200475Z",
     "start_time": "2022-05-30T05:12:06.190143Z"
    }
   },
   "outputs": [
    {
     "data": {
      "text/html": [
       "<div>\n",
       "<style scoped>\n",
       "    .dataframe tbody tr th:only-of-type {\n",
       "        vertical-align: middle;\n",
       "    }\n",
       "\n",
       "    .dataframe tbody tr th {\n",
       "        vertical-align: top;\n",
       "    }\n",
       "\n",
       "    .dataframe thead th {\n",
       "        text-align: right;\n",
       "    }\n",
       "</style>\n",
       "<table border=\"1\" class=\"dataframe\">\n",
       "  <thead>\n",
       "    <tr style=\"text-align: right;\">\n",
       "      <th></th>\n",
       "      <th>DAY1</th>\n",
       "      <th>DAY2</th>\n",
       "      <th>DAY3</th>\n",
       "      <th>DAY4</th>\n",
       "    </tr>\n",
       "  </thead>\n",
       "  <tbody>\n",
       "    <tr>\n",
       "      <th>NSW</th>\n",
       "      <td>0</td>\n",
       "      <td>1</td>\n",
       "      <td>2</td>\n",
       "      <td>3</td>\n",
       "    </tr>\n",
       "    <tr>\n",
       "      <th>VIC</th>\n",
       "      <td>4</td>\n",
       "      <td>5</td>\n",
       "      <td>6</td>\n",
       "      <td>7</td>\n",
       "    </tr>\n",
       "    <tr>\n",
       "      <th>TASMANIA</th>\n",
       "      <td>8</td>\n",
       "      <td>9</td>\n",
       "      <td>10</td>\n",
       "      <td>11</td>\n",
       "    </tr>\n",
       "  </tbody>\n",
       "</table>\n",
       "</div>"
      ],
      "text/plain": [
       "          DAY1  DAY2  DAY3  DAY4\n",
       "NSW          0     1     2     3\n",
       "VIC          4     5     6     7\n",
       "TASMANIA     8     9    10    11"
      ]
     },
     "execution_count": 21,
     "metadata": {},
     "output_type": "execute_result"
    }
   ],
   "source": [
    "#idf.index=idf.index.map(str.upper)\n",
    "#OR\n",
    "idf.rename(index=str.upper, columns=str.upper, inplace=True)\n",
    "idf"
   ]
  }
 ],
 "metadata": {
  "kernelspec": {
   "display_name": "Python 3 (ipykernel)",
   "language": "python",
   "name": "python3"
  },
  "language_info": {
   "codemirror_mode": {
    "name": "ipython",
    "version": 3
   },
   "file_extension": ".py",
   "mimetype": "text/x-python",
   "name": "python",
   "nbconvert_exporter": "python",
   "pygments_lexer": "ipython3",
   "version": "3.9.7"
  },
  "toc": {
   "base_numbering": 1,
   "nav_menu": {},
   "number_sections": true,
   "sideBar": true,
   "skip_h1_title": true,
   "title_cell": "Table of Contents",
   "title_sidebar": "Contents",
   "toc_cell": true,
   "toc_position": {},
   "toc_section_display": true,
   "toc_window_display": false
  },
  "varInspector": {
   "cols": {
    "lenName": 16,
    "lenType": 16,
    "lenVar": 40
   },
   "kernels_config": {
    "python": {
     "delete_cmd_postfix": "",
     "delete_cmd_prefix": "del ",
     "library": "var_list.py",
     "varRefreshCmd": "print(var_dic_list())"
    },
    "r": {
     "delete_cmd_postfix": ") ",
     "delete_cmd_prefix": "rm(",
     "library": "var_list.r",
     "varRefreshCmd": "cat(var_dic_list()) "
    }
   },
   "types_to_exclude": [
    "module",
    "function",
    "builtin_function_or_method",
    "instance",
    "_Feature"
   ],
   "window_display": false
  }
 },
 "nbformat": 4,
 "nbformat_minor": 5
}
