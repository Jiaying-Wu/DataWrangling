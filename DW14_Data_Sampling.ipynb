{
 "cells": [
  {
   "cell_type": "markdown",
   "id": "1b672ca5",
   "metadata": {
    "toc": true
   },
   "source": [
    "<h1>Table of Contents<span class=\"tocSkip\"></span></h1>\n",
    "<div class=\"toc\"><ul class=\"toc-item\"><li><span><a href=\"#Random-sampling:\" data-toc-modified-id=\"Random-sampling:-1\"><span class=\"toc-item-num\">1&nbsp;&nbsp;</span>Random sampling:</a></span></li><li><span><a href=\"#Stratified-sampling:\" data-toc-modified-id=\"Stratified-sampling:-2\"><span class=\"toc-item-num\">2&nbsp;&nbsp;</span>Stratified sampling:</a></span></li></ul></div>"
   ]
  },
  {
   "cell_type": "markdown",
   "id": "281b1479",
   "metadata": {},
   "source": [
    "# Data Sampling\n",
    "\n",
    "Here we discuss data sampling. Simple Random Sampling methods are easy to implement. We focus in this exercise on Stratified sampling. \n",
    "\n",
    "We load wine.csv file, please note this wine data is different from the one used later in this module. \n"
   ]
  },
  {
   "cell_type": "code",
   "execution_count": 6,
   "id": "28cde068",
   "metadata": {
    "ExecuteTime": {
     "end_time": "2022-05-30T05:44:51.295281Z",
     "start_time": "2022-05-30T05:44:51.247478Z"
    }
   },
   "outputs": [
    {
     "data": {
      "text/html": [
       "<div>\n",
       "<style scoped>\n",
       "    .dataframe tbody tr th:only-of-type {\n",
       "        vertical-align: middle;\n",
       "    }\n",
       "\n",
       "    .dataframe tbody tr th {\n",
       "        vertical-align: top;\n",
       "    }\n",
       "\n",
       "    .dataframe thead th {\n",
       "        text-align: right;\n",
       "    }\n",
       "</style>\n",
       "<table border=\"1\" class=\"dataframe\">\n",
       "  <thead>\n",
       "    <tr style=\"text-align: right;\">\n",
       "      <th></th>\n",
       "      <th>fixed_acidity</th>\n",
       "      <th>volatile_acidity</th>\n",
       "      <th>citric_acid</th>\n",
       "      <th>residual_sugar</th>\n",
       "      <th>chlorides</th>\n",
       "      <th>free_sulfur_dioxide</th>\n",
       "      <th>total_sulfur_dioxide</th>\n",
       "      <th>density</th>\n",
       "      <th>pH</th>\n",
       "      <th>sulphates</th>\n",
       "      <th>alcohol</th>\n",
       "      <th>quality</th>\n",
       "      <th>color</th>\n",
       "      <th>is_red</th>\n",
       "      <th>high_quality</th>\n",
       "    </tr>\n",
       "  </thead>\n",
       "  <tbody>\n",
       "    <tr>\n",
       "      <th>0</th>\n",
       "      <td>7.4</td>\n",
       "      <td>0.70</td>\n",
       "      <td>0.00</td>\n",
       "      <td>1.9</td>\n",
       "      <td>0.076</td>\n",
       "      <td>11.0</td>\n",
       "      <td>34.0</td>\n",
       "      <td>0.9978</td>\n",
       "      <td>3.51</td>\n",
       "      <td>0.56</td>\n",
       "      <td>9.4</td>\n",
       "      <td>5</td>\n",
       "      <td>red</td>\n",
       "      <td>1.0</td>\n",
       "      <td>0.0</td>\n",
       "    </tr>\n",
       "    <tr>\n",
       "      <th>1</th>\n",
       "      <td>7.8</td>\n",
       "      <td>0.88</td>\n",
       "      <td>0.00</td>\n",
       "      <td>2.6</td>\n",
       "      <td>0.098</td>\n",
       "      <td>25.0</td>\n",
       "      <td>67.0</td>\n",
       "      <td>0.9968</td>\n",
       "      <td>3.20</td>\n",
       "      <td>0.68</td>\n",
       "      <td>9.8</td>\n",
       "      <td>5</td>\n",
       "      <td>red</td>\n",
       "      <td>1.0</td>\n",
       "      <td>0.0</td>\n",
       "    </tr>\n",
       "    <tr>\n",
       "      <th>2</th>\n",
       "      <td>7.8</td>\n",
       "      <td>0.76</td>\n",
       "      <td>0.04</td>\n",
       "      <td>2.3</td>\n",
       "      <td>0.092</td>\n",
       "      <td>15.0</td>\n",
       "      <td>54.0</td>\n",
       "      <td>0.9970</td>\n",
       "      <td>3.26</td>\n",
       "      <td>0.65</td>\n",
       "      <td>9.8</td>\n",
       "      <td>5</td>\n",
       "      <td>red</td>\n",
       "      <td>1.0</td>\n",
       "      <td>0.0</td>\n",
       "    </tr>\n",
       "    <tr>\n",
       "      <th>3</th>\n",
       "      <td>11.2</td>\n",
       "      <td>0.28</td>\n",
       "      <td>0.56</td>\n",
       "      <td>1.9</td>\n",
       "      <td>0.075</td>\n",
       "      <td>17.0</td>\n",
       "      <td>60.0</td>\n",
       "      <td>0.9980</td>\n",
       "      <td>3.16</td>\n",
       "      <td>0.58</td>\n",
       "      <td>9.8</td>\n",
       "      <td>6</td>\n",
       "      <td>red</td>\n",
       "      <td>1.0</td>\n",
       "      <td>0.0</td>\n",
       "    </tr>\n",
       "    <tr>\n",
       "      <th>4</th>\n",
       "      <td>7.4</td>\n",
       "      <td>0.70</td>\n",
       "      <td>0.00</td>\n",
       "      <td>1.9</td>\n",
       "      <td>0.076</td>\n",
       "      <td>11.0</td>\n",
       "      <td>34.0</td>\n",
       "      <td>0.9978</td>\n",
       "      <td>3.51</td>\n",
       "      <td>0.56</td>\n",
       "      <td>9.4</td>\n",
       "      <td>5</td>\n",
       "      <td>red</td>\n",
       "      <td>1.0</td>\n",
       "      <td>0.0</td>\n",
       "    </tr>\n",
       "  </tbody>\n",
       "</table>\n",
       "</div>"
      ],
      "text/plain": [
       "   fixed_acidity  volatile_acidity  citric_acid  residual_sugar  chlorides  \\\n",
       "0            7.4              0.70         0.00             1.9      0.076   \n",
       "1            7.8              0.88         0.00             2.6      0.098   \n",
       "2            7.8              0.76         0.04             2.3      0.092   \n",
       "3           11.2              0.28         0.56             1.9      0.075   \n",
       "4            7.4              0.70         0.00             1.9      0.076   \n",
       "\n",
       "   free_sulfur_dioxide  total_sulfur_dioxide  density    pH  sulphates  \\\n",
       "0                 11.0                  34.0   0.9978  3.51       0.56   \n",
       "1                 25.0                  67.0   0.9968  3.20       0.68   \n",
       "2                 15.0                  54.0   0.9970  3.26       0.65   \n",
       "3                 17.0                  60.0   0.9980  3.16       0.58   \n",
       "4                 11.0                  34.0   0.9978  3.51       0.56   \n",
       "\n",
       "   alcohol  quality color  is_red  high_quality  \n",
       "0      9.4        5   red     1.0           0.0  \n",
       "1      9.8        5   red     1.0           0.0  \n",
       "2      9.8        5   red     1.0           0.0  \n",
       "3      9.8        6   red     1.0           0.0  \n",
       "4      9.4        5   red     1.0           0.0  "
      ]
     },
     "execution_count": 6,
     "metadata": {},
     "output_type": "execute_result"
    }
   ],
   "source": [
    "import pandas as pd\n",
    "import numpy as np\n",
    "\n",
    "# UCI's wine dataset\n",
    "wine = pd.read_csv(\"data/wine.csv\")\n",
    "wine.head()"
   ]
  },
  {
   "cell_type": "code",
   "execution_count": 7,
   "id": "e4e9af27",
   "metadata": {
    "ExecuteTime": {
     "end_time": "2022-05-30T05:44:51.458592Z",
     "start_time": "2022-05-30T05:44:51.444247Z"
    }
   },
   "outputs": [
    {
     "data": {
      "text/plain": [
       "(6497, 15)"
      ]
     },
     "execution_count": 7,
     "metadata": {},
     "output_type": "execute_result"
    }
   ],
   "source": [
    "wine.shape"
   ]
  },
  {
   "cell_type": "code",
   "execution_count": 8,
   "id": "f0a1db85",
   "metadata": {
    "ExecuteTime": {
     "end_time": "2022-05-30T05:44:51.647784Z",
     "start_time": "2022-05-30T05:44:51.639004Z"
    }
   },
   "outputs": [
    {
     "data": {
      "text/plain": [
       "6    2836\n",
       "5    2138\n",
       "7    1079\n",
       "4     216\n",
       "8     193\n",
       "3      30\n",
       "9       5\n",
       "Name: quality, dtype: int64"
      ]
     },
     "execution_count": 8,
     "metadata": {},
     "output_type": "execute_result"
    }
   ],
   "source": [
    "wine.quality.value_counts()"
   ]
  },
  {
   "cell_type": "markdown",
   "id": "ae9a6cb1",
   "metadata": {},
   "source": [
    "Let's take the first 100 records for easy demonstration."
   ]
  },
  {
   "cell_type": "markdown",
   "id": "f8151726",
   "metadata": {},
   "source": [
    "## Random sampling:  \n",
    "\n",
    "Let's take a random sample of 50% of the records."
   ]
  },
  {
   "cell_type": "code",
   "execution_count": 17,
   "id": "2e83e45a",
   "metadata": {
    "ExecuteTime": {
     "end_time": "2022-05-30T05:47:44.375039Z",
     "start_time": "2022-05-30T05:47:44.361347Z"
    }
   },
   "outputs": [
    {
     "data": {
      "text/plain": [
       "6    1422\n",
       "5    1084\n",
       "7     519\n",
       "4     111\n",
       "8      91\n",
       "3      16\n",
       "9       5\n",
       "Name: quality, dtype: int64"
      ]
     },
     "execution_count": 17,
     "metadata": {},
     "output_type": "execute_result"
    }
   ],
   "source": [
    "wine.sample(frac=0.5).quality.value_counts()"
   ]
  },
  {
   "cell_type": "markdown",
   "id": "994cb292",
   "metadata": {},
   "source": [
    "## Stratified sampling:\n",
    "\n",
    "Now we can take another random sample stratified by quality."
   ]
  },
  {
   "cell_type": "code",
   "execution_count": 12,
   "id": "df7b4dc6",
   "metadata": {
    "ExecuteTime": {
     "end_time": "2022-05-30T05:46:02.388626Z",
     "start_time": "2022-05-30T05:46:01.844702Z"
    }
   },
   "outputs": [
    {
     "data": {
      "text/plain": [
       "<generator object BaseShuffleSplit.split at 0x7f8c12f67dd0>"
      ]
     },
     "execution_count": 12,
     "metadata": {},
     "output_type": "execute_result"
    }
   ],
   "source": [
    "from sklearn.model_selection import StratifiedShuffleSplit\n",
    "sss =  StratifiedShuffleSplit(n_splits=1, test_size=0.5, random_state=0)\n",
    "sample = sss.split(wine.quality, wine.quality)\n",
    "## check \n",
    "sample"
   ]
  },
  {
   "cell_type": "code",
   "execution_count": 13,
   "id": "40780c87",
   "metadata": {
    "ExecuteTime": {
     "end_time": "2022-05-30T05:46:19.056354Z",
     "start_time": "2022-05-30T05:46:19.041958Z"
    }
   },
   "outputs": [
    {
     "name": "stdout",
     "output_type": "stream",
     "text": [
      "train index :\n",
      "[1526 3308  999 ... 6244 5698 4363]\n",
      "test index:\n",
      "[4094 2725  346 ... 3608 4901 2200]\n"
     ]
    }
   ],
   "source": [
    "#loop elements in sample\n",
    "for train_index, test_index in sample:\n",
    "    print (\"train index :\") \n",
    "    print(train_index)\n",
    "    print (\"test index:\")\n",
    "    print (test_index)\n",
    "    xtrain = wine.iloc[train_index]\n",
    "    xtest = wine.iloc[test_index]\n"
   ]
  },
  {
   "cell_type": "markdown",
   "id": "1fba7faa",
   "metadata": {},
   "source": [
    "Now let's check the two samples xtrain and xtest."
   ]
  },
  {
   "cell_type": "code",
   "execution_count": 19,
   "id": "36a2479a",
   "metadata": {
    "ExecuteTime": {
     "end_time": "2022-05-30T05:48:52.755889Z",
     "start_time": "2022-05-30T05:48:52.748866Z"
    }
   },
   "outputs": [
    {
     "data": {
      "text/plain": [
       "(3248, 15)"
      ]
     },
     "execution_count": 19,
     "metadata": {},
     "output_type": "execute_result"
    }
   ],
   "source": [
    "xtrain.shape"
   ]
  },
  {
   "cell_type": "code",
   "execution_count": 20,
   "id": "0c400395",
   "metadata": {
    "ExecuteTime": {
     "end_time": "2022-05-30T05:48:57.360131Z",
     "start_time": "2022-05-30T05:48:57.353484Z"
    }
   },
   "outputs": [
    {
     "data": {
      "text/plain": [
       "(3249, 15)"
      ]
     },
     "execution_count": 20,
     "metadata": {},
     "output_type": "execute_result"
    }
   ],
   "source": [
    "xtest.shape"
   ]
  },
  {
   "cell_type": "code",
   "execution_count": 21,
   "id": "812f502b",
   "metadata": {
    "ExecuteTime": {
     "end_time": "2022-05-30T05:49:03.169793Z",
     "start_time": "2022-05-30T05:49:03.160496Z"
    }
   },
   "outputs": [
    {
     "data": {
      "text/plain": [
       "6    1418\n",
       "5    1069\n",
       "7     539\n",
       "4     108\n",
       "8      96\n",
       "3      15\n",
       "9       3\n",
       "Name: quality, dtype: int64"
      ]
     },
     "execution_count": 21,
     "metadata": {},
     "output_type": "execute_result"
    }
   ],
   "source": [
    "xtrain.quality.value_counts()"
   ]
  },
  {
   "cell_type": "code",
   "execution_count": 22,
   "id": "358c9df4",
   "metadata": {
    "ExecuteTime": {
     "end_time": "2022-05-30T05:49:09.590634Z",
     "start_time": "2022-05-30T05:49:09.582384Z"
    }
   },
   "outputs": [
    {
     "data": {
      "text/plain": [
       "6    1418\n",
       "5    1069\n",
       "7     540\n",
       "4     108\n",
       "8      97\n",
       "3      15\n",
       "9       2\n",
       "Name: quality, dtype: int64"
      ]
     },
     "execution_count": 22,
     "metadata": {},
     "output_type": "execute_result"
    }
   ],
   "source": [
    "xtest.quality.value_counts()"
   ]
  },
  {
   "cell_type": "markdown",
   "id": "072686ab",
   "metadata": {},
   "source": [
    "Same quality distribution."
   ]
  },
  {
   "cell_type": "code",
   "execution_count": 23,
   "id": "592015e0",
   "metadata": {
    "ExecuteTime": {
     "end_time": "2022-05-30T05:49:25.925110Z",
     "start_time": "2022-05-30T05:49:25.867525Z"
    }
   },
   "outputs": [
    {
     "data": {
      "text/html": [
       "<div>\n",
       "<style scoped>\n",
       "    .dataframe tbody tr th:only-of-type {\n",
       "        vertical-align: middle;\n",
       "    }\n",
       "\n",
       "    .dataframe tbody tr th {\n",
       "        vertical-align: top;\n",
       "    }\n",
       "\n",
       "    .dataframe thead th {\n",
       "        text-align: right;\n",
       "    }\n",
       "</style>\n",
       "<table border=\"1\" class=\"dataframe\">\n",
       "  <thead>\n",
       "    <tr style=\"text-align: right;\">\n",
       "      <th></th>\n",
       "      <th>fixed_acidity</th>\n",
       "      <th>volatile_acidity</th>\n",
       "      <th>citric_acid</th>\n",
       "      <th>residual_sugar</th>\n",
       "      <th>chlorides</th>\n",
       "      <th>free_sulfur_dioxide</th>\n",
       "      <th>total_sulfur_dioxide</th>\n",
       "      <th>density</th>\n",
       "      <th>pH</th>\n",
       "      <th>sulphates</th>\n",
       "      <th>alcohol</th>\n",
       "      <th>quality</th>\n",
       "      <th>color</th>\n",
       "      <th>is_red</th>\n",
       "      <th>high_quality</th>\n",
       "    </tr>\n",
       "  </thead>\n",
       "  <tbody>\n",
       "    <tr>\n",
       "      <th>1526</th>\n",
       "      <td>6.8</td>\n",
       "      <td>0.47</td>\n",
       "      <td>0.08</td>\n",
       "      <td>2.20</td>\n",
       "      <td>0.064</td>\n",
       "      <td>18.0</td>\n",
       "      <td>38.0</td>\n",
       "      <td>0.99553</td>\n",
       "      <td>3.30</td>\n",
       "      <td>0.65</td>\n",
       "      <td>9.6</td>\n",
       "      <td>6</td>\n",
       "      <td>red</td>\n",
       "      <td>1.0</td>\n",
       "      <td>0.0</td>\n",
       "    </tr>\n",
       "    <tr>\n",
       "      <th>3308</th>\n",
       "      <td>6.8</td>\n",
       "      <td>0.22</td>\n",
       "      <td>0.30</td>\n",
       "      <td>13.60</td>\n",
       "      <td>0.055</td>\n",
       "      <td>50.0</td>\n",
       "      <td>180.0</td>\n",
       "      <td>0.99840</td>\n",
       "      <td>3.44</td>\n",
       "      <td>0.39</td>\n",
       "      <td>9.8</td>\n",
       "      <td>5</td>\n",
       "      <td>white</td>\n",
       "      <td>0.0</td>\n",
       "      <td>0.0</td>\n",
       "    </tr>\n",
       "    <tr>\n",
       "      <th>999</th>\n",
       "      <td>6.4</td>\n",
       "      <td>0.69</td>\n",
       "      <td>0.00</td>\n",
       "      <td>1.65</td>\n",
       "      <td>0.055</td>\n",
       "      <td>7.0</td>\n",
       "      <td>12.0</td>\n",
       "      <td>0.99162</td>\n",
       "      <td>3.47</td>\n",
       "      <td>0.53</td>\n",
       "      <td>12.9</td>\n",
       "      <td>6</td>\n",
       "      <td>red</td>\n",
       "      <td>1.0</td>\n",
       "      <td>0.0</td>\n",
       "    </tr>\n",
       "    <tr>\n",
       "      <th>3576</th>\n",
       "      <td>8.4</td>\n",
       "      <td>0.20</td>\n",
       "      <td>0.27</td>\n",
       "      <td>6.30</td>\n",
       "      <td>0.048</td>\n",
       "      <td>30.0</td>\n",
       "      <td>143.0</td>\n",
       "      <td>0.99660</td>\n",
       "      <td>3.25</td>\n",
       "      <td>0.50</td>\n",
       "      <td>9.1</td>\n",
       "      <td>6</td>\n",
       "      <td>white</td>\n",
       "      <td>0.0</td>\n",
       "      <td>0.0</td>\n",
       "    </tr>\n",
       "    <tr>\n",
       "      <th>5916</th>\n",
       "      <td>6.7</td>\n",
       "      <td>0.34</td>\n",
       "      <td>0.26</td>\n",
       "      <td>1.90</td>\n",
       "      <td>0.038</td>\n",
       "      <td>58.0</td>\n",
       "      <td>138.0</td>\n",
       "      <td>0.98930</td>\n",
       "      <td>3.00</td>\n",
       "      <td>0.47</td>\n",
       "      <td>12.2</td>\n",
       "      <td>7</td>\n",
       "      <td>white</td>\n",
       "      <td>0.0</td>\n",
       "      <td>1.0</td>\n",
       "    </tr>\n",
       "  </tbody>\n",
       "</table>\n",
       "</div>"
      ],
      "text/plain": [
       "      fixed_acidity  volatile_acidity  citric_acid  residual_sugar  chlorides  \\\n",
       "1526            6.8              0.47         0.08            2.20      0.064   \n",
       "3308            6.8              0.22         0.30           13.60      0.055   \n",
       "999             6.4              0.69         0.00            1.65      0.055   \n",
       "3576            8.4              0.20         0.27            6.30      0.048   \n",
       "5916            6.7              0.34         0.26            1.90      0.038   \n",
       "\n",
       "      free_sulfur_dioxide  total_sulfur_dioxide  density    pH  sulphates  \\\n",
       "1526                 18.0                  38.0  0.99553  3.30       0.65   \n",
       "3308                 50.0                 180.0  0.99840  3.44       0.39   \n",
       "999                   7.0                  12.0  0.99162  3.47       0.53   \n",
       "3576                 30.0                 143.0  0.99660  3.25       0.50   \n",
       "5916                 58.0                 138.0  0.98930  3.00       0.47   \n",
       "\n",
       "      alcohol  quality  color  is_red  high_quality  \n",
       "1526      9.6        6    red     1.0           0.0  \n",
       "3308      9.8        5  white     0.0           0.0  \n",
       "999      12.9        6    red     1.0           0.0  \n",
       "3576      9.1        6  white     0.0           0.0  \n",
       "5916     12.2        7  white     0.0           1.0  "
      ]
     },
     "execution_count": 23,
     "metadata": {},
     "output_type": "execute_result"
    }
   ],
   "source": [
    "xtrain[0:5]"
   ]
  },
  {
   "cell_type": "code",
   "execution_count": 24,
   "id": "e019a2af",
   "metadata": {
    "ExecuteTime": {
     "end_time": "2022-05-30T05:49:31.907530Z",
     "start_time": "2022-05-30T05:49:31.888052Z"
    }
   },
   "outputs": [
    {
     "data": {
      "text/html": [
       "<div>\n",
       "<style scoped>\n",
       "    .dataframe tbody tr th:only-of-type {\n",
       "        vertical-align: middle;\n",
       "    }\n",
       "\n",
       "    .dataframe tbody tr th {\n",
       "        vertical-align: top;\n",
       "    }\n",
       "\n",
       "    .dataframe thead th {\n",
       "        text-align: right;\n",
       "    }\n",
       "</style>\n",
       "<table border=\"1\" class=\"dataframe\">\n",
       "  <thead>\n",
       "    <tr style=\"text-align: right;\">\n",
       "      <th></th>\n",
       "      <th>fixed_acidity</th>\n",
       "      <th>volatile_acidity</th>\n",
       "      <th>citric_acid</th>\n",
       "      <th>residual_sugar</th>\n",
       "      <th>chlorides</th>\n",
       "      <th>free_sulfur_dioxide</th>\n",
       "      <th>total_sulfur_dioxide</th>\n",
       "      <th>density</th>\n",
       "      <th>pH</th>\n",
       "      <th>sulphates</th>\n",
       "      <th>alcohol</th>\n",
       "      <th>quality</th>\n",
       "      <th>color</th>\n",
       "      <th>is_red</th>\n",
       "      <th>high_quality</th>\n",
       "    </tr>\n",
       "  </thead>\n",
       "  <tbody>\n",
       "    <tr>\n",
       "      <th>4094</th>\n",
       "      <td>6.3</td>\n",
       "      <td>0.180</td>\n",
       "      <td>0.22</td>\n",
       "      <td>1.50</td>\n",
       "      <td>0.043</td>\n",
       "      <td>45.0</td>\n",
       "      <td>155.0</td>\n",
       "      <td>0.99238</td>\n",
       "      <td>3.19</td>\n",
       "      <td>0.48</td>\n",
       "      <td>10.2</td>\n",
       "      <td>5</td>\n",
       "      <td>white</td>\n",
       "      <td>0.0</td>\n",
       "      <td>0.0</td>\n",
       "    </tr>\n",
       "    <tr>\n",
       "      <th>2725</th>\n",
       "      <td>6.5</td>\n",
       "      <td>0.115</td>\n",
       "      <td>0.29</td>\n",
       "      <td>1.95</td>\n",
       "      <td>0.038</td>\n",
       "      <td>73.0</td>\n",
       "      <td>166.0</td>\n",
       "      <td>0.98900</td>\n",
       "      <td>3.12</td>\n",
       "      <td>0.25</td>\n",
       "      <td>12.9</td>\n",
       "      <td>7</td>\n",
       "      <td>white</td>\n",
       "      <td>0.0</td>\n",
       "      <td>1.0</td>\n",
       "    </tr>\n",
       "    <tr>\n",
       "      <th>346</th>\n",
       "      <td>6.6</td>\n",
       "      <td>0.815</td>\n",
       "      <td>0.02</td>\n",
       "      <td>2.70</td>\n",
       "      <td>0.072</td>\n",
       "      <td>17.0</td>\n",
       "      <td>34.0</td>\n",
       "      <td>0.99550</td>\n",
       "      <td>3.58</td>\n",
       "      <td>0.89</td>\n",
       "      <td>12.3</td>\n",
       "      <td>7</td>\n",
       "      <td>red</td>\n",
       "      <td>1.0</td>\n",
       "      <td>1.0</td>\n",
       "    </tr>\n",
       "    <tr>\n",
       "      <th>4352</th>\n",
       "      <td>5.8</td>\n",
       "      <td>0.315</td>\n",
       "      <td>0.27</td>\n",
       "      <td>1.55</td>\n",
       "      <td>0.026</td>\n",
       "      <td>15.0</td>\n",
       "      <td>70.0</td>\n",
       "      <td>0.98994</td>\n",
       "      <td>3.37</td>\n",
       "      <td>0.40</td>\n",
       "      <td>11.9</td>\n",
       "      <td>8</td>\n",
       "      <td>white</td>\n",
       "      <td>0.0</td>\n",
       "      <td>1.0</td>\n",
       "    </tr>\n",
       "    <tr>\n",
       "      <th>2306</th>\n",
       "      <td>7.2</td>\n",
       "      <td>0.180</td>\n",
       "      <td>0.45</td>\n",
       "      <td>4.40</td>\n",
       "      <td>0.046</td>\n",
       "      <td>57.0</td>\n",
       "      <td>166.0</td>\n",
       "      <td>0.99430</td>\n",
       "      <td>3.13</td>\n",
       "      <td>0.62</td>\n",
       "      <td>11.2</td>\n",
       "      <td>6</td>\n",
       "      <td>white</td>\n",
       "      <td>0.0</td>\n",
       "      <td>0.0</td>\n",
       "    </tr>\n",
       "  </tbody>\n",
       "</table>\n",
       "</div>"
      ],
      "text/plain": [
       "      fixed_acidity  volatile_acidity  citric_acid  residual_sugar  chlorides  \\\n",
       "4094            6.3             0.180         0.22            1.50      0.043   \n",
       "2725            6.5             0.115         0.29            1.95      0.038   \n",
       "346             6.6             0.815         0.02            2.70      0.072   \n",
       "4352            5.8             0.315         0.27            1.55      0.026   \n",
       "2306            7.2             0.180         0.45            4.40      0.046   \n",
       "\n",
       "      free_sulfur_dioxide  total_sulfur_dioxide  density    pH  sulphates  \\\n",
       "4094                 45.0                 155.0  0.99238  3.19       0.48   \n",
       "2725                 73.0                 166.0  0.98900  3.12       0.25   \n",
       "346                  17.0                  34.0  0.99550  3.58       0.89   \n",
       "4352                 15.0                  70.0  0.98994  3.37       0.40   \n",
       "2306                 57.0                 166.0  0.99430  3.13       0.62   \n",
       "\n",
       "      alcohol  quality  color  is_red  high_quality  \n",
       "4094     10.2        5  white     0.0           0.0  \n",
       "2725     12.9        7  white     0.0           1.0  \n",
       "346      12.3        7    red     1.0           1.0  \n",
       "4352     11.9        8  white     0.0           1.0  \n",
       "2306     11.2        6  white     0.0           0.0  "
      ]
     },
     "execution_count": 24,
     "metadata": {},
     "output_type": "execute_result"
    }
   ],
   "source": [
    "xtest[0:5]"
   ]
  }
 ],
 "metadata": {
  "kernelspec": {
   "display_name": "Python 3 (ipykernel)",
   "language": "python",
   "name": "python3"
  },
  "language_info": {
   "codemirror_mode": {
    "name": "ipython",
    "version": 3
   },
   "file_extension": ".py",
   "mimetype": "text/x-python",
   "name": "python",
   "nbconvert_exporter": "python",
   "pygments_lexer": "ipython3",
   "version": "3.9.7"
  },
  "toc": {
   "base_numbering": 1,
   "nav_menu": {},
   "number_sections": true,
   "sideBar": true,
   "skip_h1_title": true,
   "title_cell": "Table of Contents",
   "title_sidebar": "Contents",
   "toc_cell": true,
   "toc_position": {},
   "toc_section_display": true,
   "toc_window_display": false
  },
  "varInspector": {
   "cols": {
    "lenName": 16,
    "lenType": 16,
    "lenVar": 40
   },
   "kernels_config": {
    "python": {
     "delete_cmd_postfix": "",
     "delete_cmd_prefix": "del ",
     "library": "var_list.py",
     "varRefreshCmd": "print(var_dic_list())"
    },
    "r": {
     "delete_cmd_postfix": ") ",
     "delete_cmd_prefix": "rm(",
     "library": "var_list.r",
     "varRefreshCmd": "cat(var_dic_list()) "
    }
   },
   "types_to_exclude": [
    "module",
    "function",
    "builtin_function_or_method",
    "instance",
    "_Feature"
   ],
   "window_display": false
  }
 },
 "nbformat": 4,
 "nbformat_minor": 5
}
