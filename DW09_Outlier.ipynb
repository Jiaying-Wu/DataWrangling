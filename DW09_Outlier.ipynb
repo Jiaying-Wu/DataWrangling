{
 "cells": [
  {
   "cell_type": "markdown",
   "id": "360e13f4",
   "metadata": {
    "toc": true
   },
   "source": [
    "<h1>Table of Contents<span class=\"tocSkip\"></span></h1>\n",
    "<div class=\"toc\"><ul class=\"toc-item\"><li><span><a href=\"#Use-boxpot-to-investigate-outliers\" data-toc-modified-id=\"Use-boxpot-to-investigate-outliers-1\"><span class=\"toc-item-num\">1&nbsp;&nbsp;</span>Use boxpot to investigate outliers</a></span></li><li><span><a href=\"#Investigate-outliers-for-&quot;fare&quot;\" data-toc-modified-id=\"Investigate-outliers-for-&quot;fare&quot;-2\"><span class=\"toc-item-num\">2&nbsp;&nbsp;</span>Investigate outliers for \"fare\"</a></span></li><li><span><a href=\"#Let's-investigate-outliers-by-each-class.\" data-toc-modified-id=\"Let's-investigate-outliers-by-each-class.-3\"><span class=\"toc-item-num\">3&nbsp;&nbsp;</span>Let's investigate outliers by each class.</a></span></li></ul></div>"
   ]
  },
  {
   "cell_type": "markdown",
   "id": "01c60e19",
   "metadata": {},
   "source": [
    "# Outlier Detection\n",
    "\n",
    "In this activity, we apply different methods to detect outliers in data. \n",
    "\n",
    "We use the same example of Titanic passengers dataset. "
   ]
  },
  {
   "cell_type": "code",
   "execution_count": 1,
   "id": "43d0ea84",
   "metadata": {
    "ExecuteTime": {
     "end_time": "2022-05-05T04:30:43.021723Z",
     "start_time": "2022-05-05T04:30:42.367719Z"
    }
   },
   "outputs": [
    {
     "data": {
      "text/html": [
       "<div>\n",
       "<style scoped>\n",
       "    .dataframe tbody tr th:only-of-type {\n",
       "        vertical-align: middle;\n",
       "    }\n",
       "\n",
       "    .dataframe tbody tr th {\n",
       "        vertical-align: top;\n",
       "    }\n",
       "\n",
       "    .dataframe thead th {\n",
       "        text-align: right;\n",
       "    }\n",
       "</style>\n",
       "<table border=\"1\" class=\"dataframe\">\n",
       "  <thead>\n",
       "    <tr style=\"text-align: right;\">\n",
       "      <th></th>\n",
       "      <th>pclass</th>\n",
       "      <th>survived</th>\n",
       "      <th>name</th>\n",
       "      <th>sex</th>\n",
       "      <th>age</th>\n",
       "      <th>sibsp</th>\n",
       "      <th>parch</th>\n",
       "      <th>ticket</th>\n",
       "      <th>fare</th>\n",
       "      <th>cabin</th>\n",
       "      <th>embarked</th>\n",
       "      <th>boat</th>\n",
       "      <th>body</th>\n",
       "      <th>home.dest</th>\n",
       "    </tr>\n",
       "  </thead>\n",
       "  <tbody>\n",
       "    <tr>\n",
       "      <th>0</th>\n",
       "      <td>1</td>\n",
       "      <td>1</td>\n",
       "      <td>Allen, Miss. Elisabeth Walton</td>\n",
       "      <td>female</td>\n",
       "      <td>29.00</td>\n",
       "      <td>0</td>\n",
       "      <td>0</td>\n",
       "      <td>24160</td>\n",
       "      <td>211.3375</td>\n",
       "      <td>B5</td>\n",
       "      <td>S</td>\n",
       "      <td>2</td>\n",
       "      <td>NaN</td>\n",
       "      <td>St Louis, MO</td>\n",
       "    </tr>\n",
       "    <tr>\n",
       "      <th>1</th>\n",
       "      <td>1</td>\n",
       "      <td>1</td>\n",
       "      <td>Allison, Master. Hudson Trevor</td>\n",
       "      <td>male</td>\n",
       "      <td>0.92</td>\n",
       "      <td>1</td>\n",
       "      <td>2</td>\n",
       "      <td>113781</td>\n",
       "      <td>151.5500</td>\n",
       "      <td>C22 C26</td>\n",
       "      <td>S</td>\n",
       "      <td>11</td>\n",
       "      <td>NaN</td>\n",
       "      <td>Montreal, PQ / Chesterville, ON</td>\n",
       "    </tr>\n",
       "    <tr>\n",
       "      <th>2</th>\n",
       "      <td>1</td>\n",
       "      <td>0</td>\n",
       "      <td>Allison, Miss. Helen Loraine</td>\n",
       "      <td>female</td>\n",
       "      <td>2.00</td>\n",
       "      <td>1</td>\n",
       "      <td>2</td>\n",
       "      <td>113781</td>\n",
       "      <td>151.5500</td>\n",
       "      <td>C22 C26</td>\n",
       "      <td>S</td>\n",
       "      <td>NaN</td>\n",
       "      <td>NaN</td>\n",
       "      <td>Montreal, PQ / Chesterville, ON</td>\n",
       "    </tr>\n",
       "    <tr>\n",
       "      <th>3</th>\n",
       "      <td>1</td>\n",
       "      <td>0</td>\n",
       "      <td>Allison, Mr. Hudson Joshua Creighton</td>\n",
       "      <td>male</td>\n",
       "      <td>30.00</td>\n",
       "      <td>1</td>\n",
       "      <td>2</td>\n",
       "      <td>113781</td>\n",
       "      <td>151.5500</td>\n",
       "      <td>C22 C26</td>\n",
       "      <td>S</td>\n",
       "      <td>NaN</td>\n",
       "      <td>135.0</td>\n",
       "      <td>Montreal, PQ / Chesterville, ON</td>\n",
       "    </tr>\n",
       "    <tr>\n",
       "      <th>4</th>\n",
       "      <td>1</td>\n",
       "      <td>0</td>\n",
       "      <td>Allison, Mrs. Hudson J C (Bessie Waldo Daniels)</td>\n",
       "      <td>female</td>\n",
       "      <td>25.00</td>\n",
       "      <td>1</td>\n",
       "      <td>2</td>\n",
       "      <td>113781</td>\n",
       "      <td>151.5500</td>\n",
       "      <td>C22 C26</td>\n",
       "      <td>S</td>\n",
       "      <td>NaN</td>\n",
       "      <td>NaN</td>\n",
       "      <td>Montreal, PQ / Chesterville, ON</td>\n",
       "    </tr>\n",
       "  </tbody>\n",
       "</table>\n",
       "</div>"
      ],
      "text/plain": [
       "   pclass  survived                                             name     sex  \\\n",
       "0       1         1                    Allen, Miss. Elisabeth Walton  female   \n",
       "1       1         1                   Allison, Master. Hudson Trevor    male   \n",
       "2       1         0                     Allison, Miss. Helen Loraine  female   \n",
       "3       1         0             Allison, Mr. Hudson Joshua Creighton    male   \n",
       "4       1         0  Allison, Mrs. Hudson J C (Bessie Waldo Daniels)  female   \n",
       "\n",
       "     age  sibsp  parch  ticket      fare    cabin embarked boat   body  \\\n",
       "0  29.00      0      0   24160  211.3375       B5        S    2    NaN   \n",
       "1   0.92      1      2  113781  151.5500  C22 C26        S   11    NaN   \n",
       "2   2.00      1      2  113781  151.5500  C22 C26        S  NaN    NaN   \n",
       "3  30.00      1      2  113781  151.5500  C22 C26        S  NaN  135.0   \n",
       "4  25.00      1      2  113781  151.5500  C22 C26        S  NaN    NaN   \n",
       "\n",
       "                         home.dest  \n",
       "0                     St Louis, MO  \n",
       "1  Montreal, PQ / Chesterville, ON  \n",
       "2  Montreal, PQ / Chesterville, ON  \n",
       "3  Montreal, PQ / Chesterville, ON  \n",
       "4  Montreal, PQ / Chesterville, ON  "
      ]
     },
     "execution_count": 1,
     "metadata": {},
     "output_type": "execute_result"
    }
   ],
   "source": [
    "import pandas as pd\n",
    "import numpy as np\n",
    "\n",
    "df1 = pd.read_csv('data/titanic passenger list.csv') \n",
    "# Reading the dataset into a dataframe using Pandas\n",
    "df1.head()"
   ]
  },
  {
   "cell_type": "markdown",
   "id": "c0959951",
   "metadata": {},
   "source": [
    "## Use boxpot to investigate outliers\n",
    "\n",
    "In this task, please use boxplot (boxes and whiskers plot) from matplotlib to investigate possible data outliers."
   ]
  },
  {
   "cell_type": "code",
   "execution_count": 2,
   "id": "93c1bb18",
   "metadata": {
    "ExecuteTime": {
     "end_time": "2022-05-05T04:31:13.962182Z",
     "start_time": "2022-05-05T04:31:13.307956Z"
    }
   },
   "outputs": [
    {
     "data": {
      "image/png": "[encoded data removed]",
      "text/plain": [
       "<Figure size 432x288 with 1 Axes>"
      ]
     },
     "metadata": {
      "needs_background": "light"
     },
     "output_type": "display_data"
    }
   ],
   "source": [
    "# We can boxplot an entire DataFrame, quick & nasty, ignores non-numeric data too\n",
    "import matplotlib.pyplot as plt\n",
    "%matplotlib inline\n",
    "\n",
    "bp = df1.boxplot()"
   ]
  },
  {
   "cell_type": "markdown",
   "id": "2ac4ceba",
   "metadata": {},
   "source": [
    "The first thing to notice is that 'fare' has many outliers.\n",
    "\n",
    "However, plotting all data together might not be right because of teh different ranges of attributes. Therefore, we look at one attribute at a time instead. "
   ]
  },
  {
   "cell_type": "markdown",
   "id": "8ae35bc5",
   "metadata": {},
   "source": [
    "## Investigate outliers for \"fare\"\n",
    "\n",
    "It seems that there are many extreme values for \"fare\". in this task  "
   ]
  },
  {
   "cell_type": "code",
   "execution_count": 5,
   "id": "f6b15006",
   "metadata": {
    "ExecuteTime": {
     "end_time": "2022-05-05T04:32:40.085267Z",
     "start_time": "2022-05-05T04:32:39.976215Z"
    }
   },
   "outputs": [
    {
     "data": {
      "image/png": "[encoded data removed]",
      "text/plain": [
       "<Figure size 432x288 with 1 Axes>"
      ]
     },
     "metadata": {
      "needs_background": "light"
     },
     "output_type": "display_data"
    }
   ],
   "source": [
    "bp = df1.boxplot(column='fare')\n",
    "# Sometimes you have to force display of outliers:\n",
    "#bp = plt.boxplot(df1.fare, 0, 'ro') # red circle"
   ]
  },
  {
   "cell_type": "code",
   "execution_count": 6,
   "id": "01ea1d8b",
   "metadata": {
    "ExecuteTime": {
     "end_time": "2022-05-05T04:32:52.270589Z",
     "start_time": "2022-05-05T04:32:52.251197Z"
    }
   },
   "outputs": [
    {
     "data": {
      "text/html": [
       "<div>\n",
       "<style scoped>\n",
       "    .dataframe tbody tr th:only-of-type {\n",
       "        vertical-align: middle;\n",
       "    }\n",
       "\n",
       "    .dataframe tbody tr th {\n",
       "        vertical-align: top;\n",
       "    }\n",
       "\n",
       "    .dataframe thead th {\n",
       "        text-align: right;\n",
       "    }\n",
       "</style>\n",
       "<table border=\"1\" class=\"dataframe\">\n",
       "  <thead>\n",
       "    <tr style=\"text-align: right;\">\n",
       "      <th></th>\n",
       "      <th>pclass</th>\n",
       "      <th>survived</th>\n",
       "      <th>name</th>\n",
       "      <th>sex</th>\n",
       "      <th>age</th>\n",
       "      <th>sibsp</th>\n",
       "      <th>parch</th>\n",
       "      <th>ticket</th>\n",
       "      <th>fare</th>\n",
       "      <th>cabin</th>\n",
       "      <th>embarked</th>\n",
       "      <th>boat</th>\n",
       "      <th>body</th>\n",
       "      <th>home.dest</th>\n",
       "    </tr>\n",
       "  </thead>\n",
       "  <tbody>\n",
       "    <tr>\n",
       "      <th>49</th>\n",
       "      <td>1</td>\n",
       "      <td>1</td>\n",
       "      <td>Cardeza, Mr. Thomas Drake Martinez</td>\n",
       "      <td>male</td>\n",
       "      <td>36.0</td>\n",
       "      <td>0</td>\n",
       "      <td>1</td>\n",
       "      <td>PC 17755</td>\n",
       "      <td>512.3292</td>\n",
       "      <td>B51 B53 B55</td>\n",
       "      <td>C</td>\n",
       "      <td>3</td>\n",
       "      <td>NaN</td>\n",
       "      <td>Austria-Hungary / Germantown, Philadelphia, PA</td>\n",
       "    </tr>\n",
       "    <tr>\n",
       "      <th>50</th>\n",
       "      <td>1</td>\n",
       "      <td>1</td>\n",
       "      <td>Cardeza, Mrs. James Warburton Martinez (Charlo...</td>\n",
       "      <td>female</td>\n",
       "      <td>58.0</td>\n",
       "      <td>0</td>\n",
       "      <td>1</td>\n",
       "      <td>PC 17755</td>\n",
       "      <td>512.3292</td>\n",
       "      <td>B51 B53 B55</td>\n",
       "      <td>C</td>\n",
       "      <td>3</td>\n",
       "      <td>NaN</td>\n",
       "      <td>Germantown, Philadelphia, PA</td>\n",
       "    </tr>\n",
       "    <tr>\n",
       "      <th>183</th>\n",
       "      <td>1</td>\n",
       "      <td>1</td>\n",
       "      <td>Lesurer, Mr. Gustave J</td>\n",
       "      <td>male</td>\n",
       "      <td>35.0</td>\n",
       "      <td>0</td>\n",
       "      <td>0</td>\n",
       "      <td>PC 17755</td>\n",
       "      <td>512.3292</td>\n",
       "      <td>B101</td>\n",
       "      <td>C</td>\n",
       "      <td>3</td>\n",
       "      <td>NaN</td>\n",
       "      <td>NaN</td>\n",
       "    </tr>\n",
       "    <tr>\n",
       "      <th>302</th>\n",
       "      <td>1</td>\n",
       "      <td>1</td>\n",
       "      <td>Ward, Miss. Anna</td>\n",
       "      <td>female</td>\n",
       "      <td>35.0</td>\n",
       "      <td>0</td>\n",
       "      <td>0</td>\n",
       "      <td>PC 17755</td>\n",
       "      <td>512.3292</td>\n",
       "      <td>NaN</td>\n",
       "      <td>C</td>\n",
       "      <td>3</td>\n",
       "      <td>NaN</td>\n",
       "      <td>NaN</td>\n",
       "    </tr>\n",
       "  </tbody>\n",
       "</table>\n",
       "</div>"
      ],
      "text/plain": [
       "     pclass  survived                                               name  \\\n",
       "49        1         1                 Cardeza, Mr. Thomas Drake Martinez   \n",
       "50        1         1  Cardeza, Mrs. James Warburton Martinez (Charlo...   \n",
       "183       1         1                             Lesurer, Mr. Gustave J   \n",
       "302       1         1                                   Ward, Miss. Anna   \n",
       "\n",
       "        sex   age  sibsp  parch    ticket      fare        cabin embarked  \\\n",
       "49     male  36.0      0      1  PC 17755  512.3292  B51 B53 B55        C   \n",
       "50   female  58.0      0      1  PC 17755  512.3292  B51 B53 B55        C   \n",
       "183    male  35.0      0      0  PC 17755  512.3292         B101        C   \n",
       "302  female  35.0      0      0  PC 17755  512.3292          NaN        C   \n",
       "\n",
       "    boat  body                                       home.dest  \n",
       "49     3   NaN  Austria-Hungary / Germantown, Philadelphia, PA  \n",
       "50     3   NaN                    Germantown, Philadelphia, PA  \n",
       "183    3   NaN                                             NaN  \n",
       "302    3   NaN                                             NaN  "
      ]
     },
     "execution_count": 6,
     "metadata": {},
     "output_type": "execute_result"
    }
   ],
   "source": [
    "# We can see a bunch of fares above 200, then something around 500, look at the outliers:\n",
    "df1[df1['fare'] > 400] "
   ]
  },
  {
   "cell_type": "code",
   "execution_count": 7,
   "id": "8b50cea5",
   "metadata": {
    "ExecuteTime": {
     "end_time": "2022-05-05T04:33:06.012725Z",
     "start_time": "2022-05-05T04:33:06.006401Z"
    }
   },
   "outputs": [
    {
     "data": {
      "text/plain": [
       "2049.3168"
      ]
     },
     "execution_count": 7,
     "metadata": {},
     "output_type": "execute_result"
    }
   ],
   "source": [
    "# fare of 512.3292 looks very high compared to other, that's a weird value too, did they split the cost?\n",
    "# or was it just the one ticket?\n",
    "512.3292 * 4"
   ]
  },
  {
   "cell_type": "markdown",
   "id": "0eef3d9a",
   "metadata": {},
   "source": [
    "It is still a weird value, what's 0.3292 or 0.3168 of a pound? Neither make sense in old currency (pounds, shillings and pence) e.g. £512.32s.92d because...\n",
    "\n",
    "There were twenty (20) shillings per pound and the shilling was divided into twelve (12) pennies.(so 32s = £1.12s and 92 pennies is... carry the 4... heaps)\n",
    "Maybe someone converted to dollars?? Adjusted for inflation?\n",
    "Hard to say if these are 'bad' outliers, class is 1st, they have 4 cabins, maybe they're just big spenders in a reasonable trawl of the internet most posts just ignore this e.g. \"There were 4 people who paid the most expensive ticket that cost £512.3292\"\n",
    "\n",
    "Mrs James Warburton Martinez Cardeza (Charlotte Wardle Drake), 58, from Germantown, PA, \n",
    "boarded the Titanic at Cherbourg with her son Thomas and her maid Anna Ward. \n",
    "They occupied suite B-51/53/55 (ticket number17755, £512, 6s).\n",
    "http://www.encyclopedia-titanica.org/titanic-survivor/charlotte-cardeza.html\n",
    "\"with his mother Charlotte Cardeza and his manservant Gustave Lesueur\"\n",
    "    \n",
    "Anna: \"She worked as personal maid and companion to Mrs Charlotte Cardeza.\" "
   ]
  },
  {
   "cell_type": "code",
   "execution_count": 8,
   "id": "ab6fd5b1",
   "metadata": {
    "ExecuteTime": {
     "end_time": "2022-05-05T04:35:37.206834Z",
     "start_time": "2022-05-05T04:35:37.201571Z"
    }
   },
   "outputs": [],
   "source": [
    "# so how do you get 512.3292 from £512, 6s\n",
    "# 6shillings is ~1/3 pound?\n",
    "# 6/20 is 0.3 so that may explain the 0.3292..\n",
    "def poundit(p,s,d):\n",
    "    return p + (d / 12.0 + s) / 20\n",
    "# force the 12.0 not the 20!\n",
    "# There were 20 shillings per pound and the shilling was divided into 12 pennies."
   ]
  },
  {
   "cell_type": "code",
   "execution_count": 9,
   "id": "da3ebec3",
   "metadata": {
    "ExecuteTime": {
     "end_time": "2022-05-05T04:35:43.663521Z",
     "start_time": "2022-05-05T04:35:43.655962Z"
    }
   },
   "outputs": [
    {
     "data": {
      "text/plain": [
       "512.3"
      ]
     },
     "execution_count": 9,
     "metadata": {},
     "output_type": "execute_result"
    }
   ],
   "source": [
    "poundit(512,6,0) # £512, 6s"
   ]
  },
  {
   "cell_type": "markdown",
   "id": "db02f728",
   "metadata": {},
   "source": [
    "So 512.3 is a real value."
   ]
  },
  {
   "cell_type": "markdown",
   "id": "591da013",
   "metadata": {},
   "source": [
    "## Let's investigate outliers by each class."
   ]
  },
  {
   "cell_type": "code",
   "execution_count": 10,
   "id": "c7482050",
   "metadata": {
    "ExecuteTime": {
     "end_time": "2022-05-05T04:36:36.442571Z",
     "start_time": "2022-05-05T04:36:36.294236Z"
    }
   },
   "outputs": [
    {
     "data": {
      "image/png": "[encoded data removed]",
      "text/plain": [
       "<Figure size 432x288 with 1 Axes>"
      ]
     },
     "metadata": {
      "needs_background": "light"
     },
     "output_type": "display_data"
    }
   ],
   "source": [
    "# plot by class\n",
    "bp = df1.boxplot(column='fare', by = 'pclass')"
   ]
  }
 ],
 "metadata": {
  "kernelspec": {
   "display_name": "Python 3 (ipykernel)",
   "language": "python",
   "name": "python3"
  },
  "language_info": {
   "codemirror_mode": {
    "name": "ipython",
    "version": 3
   },
   "file_extension": ".py",
   "mimetype": "text/x-python",
   "name": "python",
   "nbconvert_exporter": "python",
   "pygments_lexer": "ipython3",
   "version": "3.9.7"
  },
  "toc": {
   "base_numbering": 1,
   "nav_menu": {},
   "number_sections": true,
   "sideBar": true,
   "skip_h1_title": true,
   "title_cell": "Table of Contents",
   "title_sidebar": "Contents",
   "toc_cell": true,
   "toc_position": {},
   "toc_section_display": true,
   "toc_window_display": false
  },
  "varInspector": {
   "cols": {
    "lenName": 16,
    "lenType": 16,
    "lenVar": 40
   },
   "kernels_config": {
    "python": {
     "delete_cmd_postfix": "",
     "delete_cmd_prefix": "del ",
     "library": "var_list.py",
     "varRefreshCmd": "print(var_dic_list())"
    },
    "r": {
     "delete_cmd_postfix": ") ",
     "delete_cmd_prefix": "rm(",
     "library": "var_list.r",
     "varRefreshCmd": "cat(var_dic_list()) "
    }
   },
   "types_to_exclude": [
    "module",
    "function",
    "builtin_function_or_method",
    "instance",
    "_Feature"
   ],
   "window_display": false
  }
 },
 "nbformat": 4,
 "nbformat_minor": 5
}
